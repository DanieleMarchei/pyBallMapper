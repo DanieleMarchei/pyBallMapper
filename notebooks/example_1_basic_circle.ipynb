{
 "cells": [
  {
   "cell_type": "markdown",
   "metadata": {},
   "source": [
    "This is a toy example of the use of Ball Mapper. We will start by constructing a collection of points sampled from a unit circle.\n",
    "\n",
    "This notebook was prepared by Davide Gurnari. "
   ]
  },
  {
   "cell_type": "code",
   "execution_count": 1,
   "metadata": {},
   "outputs": [],
   "source": [
    "# uncomment and run this if you are on colab\n",
    "# !pip install pyballmapper"
   ]
  },
  {
   "cell_type": "code",
   "execution_count": 2,
   "metadata": {},
   "outputs": [],
   "source": [
    "import numpy as np\n",
    "import pandas as pd\n",
    "import networkx as nx\n",
    "\n",
    "from matplotlib import pyplot as plt\n",
    "%matplotlib inline"
   ]
  },
  {
   "cell_type": "markdown",
   "metadata": {},
   "source": [
    "## Generate data"
   ]
  },
  {
   "cell_type": "code",
   "execution_count": 3,
   "metadata": {},
   "outputs": [
    {
     "data": {
      "text/html": [
       "<div>\n",
       "<style scoped>\n",
       "    .dataframe tbody tr th:only-of-type {\n",
       "        vertical-align: middle;\n",
       "    }\n",
       "\n",
       "    .dataframe tbody tr th {\n",
       "        vertical-align: top;\n",
       "    }\n",
       "\n",
       "    .dataframe thead th {\n",
       "        text-align: right;\n",
       "    }\n",
       "</style>\n",
       "<table border=\"1\" class=\"dataframe\">\n",
       "  <thead>\n",
       "    <tr style=\"text-align: right;\">\n",
       "      <th></th>\n",
       "      <th>x</th>\n",
       "      <th>y</th>\n",
       "    </tr>\n",
       "  </thead>\n",
       "  <tbody>\n",
       "    <tr>\n",
       "      <th>0</th>\n",
       "      <td>1.000000</td>\n",
       "      <td>0.000000</td>\n",
       "    </tr>\n",
       "    <tr>\n",
       "      <th>1</th>\n",
       "      <td>0.995004</td>\n",
       "      <td>0.099833</td>\n",
       "    </tr>\n",
       "    <tr>\n",
       "      <th>2</th>\n",
       "      <td>0.980067</td>\n",
       "      <td>0.198669</td>\n",
       "    </tr>\n",
       "    <tr>\n",
       "      <th>3</th>\n",
       "      <td>0.955336</td>\n",
       "      <td>0.295520</td>\n",
       "    </tr>\n",
       "    <tr>\n",
       "      <th>4</th>\n",
       "      <td>0.921061</td>\n",
       "      <td>0.389418</td>\n",
       "    </tr>\n",
       "  </tbody>\n",
       "</table>\n",
       "</div>"
      ],
      "text/plain": [
       "          x         y\n",
       "0  1.000000  0.000000\n",
       "1  0.995004  0.099833\n",
       "2  0.980067  0.198669\n",
       "3  0.955336  0.295520\n",
       "4  0.921061  0.389418"
      ]
     },
     "execution_count": 3,
     "metadata": {},
     "output_type": "execute_result"
    }
   ],
   "source": [
    "pointcloud = np.array([[np.cos(x), np.sin(x)] for x in np.arange(0, 6.3, 0.1)])\n",
    "points_df = pd.DataFrame(pointcloud, columns=['x', 'y'])\n",
    "points_df.head()"
   ]
  },
  {
   "cell_type": "code",
   "execution_count": 4,
   "metadata": {},
   "outputs": [
    {
     "data": {
      "text/plain": [
       "<matplotlib.collections.PathCollection at 0x1679f2cb0>"
      ]
     },
     "execution_count": 4,
     "metadata": {},
     "output_type": "execute_result"
    },
    {
     "data": {
      "image/png": "[encoded data removed]",
      "text/plain": [
       "<Figure size 432x288 with 1 Axes>"
      ]
     },
     "metadata": {
      "needs_background": "light"
     },
     "output_type": "display_data"
    }
   ],
   "source": [
    "plt.scatter(points_df.x, points_df.y)"
   ]
  },
  {
   "cell_type": "markdown",
   "metadata": {},
   "source": [
    "## Create BallMapper graph"
   ]
  },
  {
   "cell_type": "code",
   "execution_count": 5,
   "metadata": {},
   "outputs": [],
   "source": [
    "from pyballmapper import BallMapper"
   ]
  },
  {
   "cell_type": "code",
   "execution_count": 6,
   "metadata": {},
   "outputs": [],
   "source": [
    "bm = BallMapper(points = points_df.values, # the pointcloud, as a numpy array\n",
    "                epsilon = 0.25)            # the radius of the balls"
   ]
  },
  {
   "cell_type": "code",
   "execution_count": 7,
   "metadata": {},
   "outputs": [
    {
     "data": {
      "image/png": "[encoded data removed]",
      "text/plain": [
       "<Figure size 432x288 with 1 Axes>"
      ]
     },
     "metadata": {},
     "output_type": "display_data"
    }
   ],
   "source": [
    "# bm.Graph is a networkx graph\n",
    "nx.draw_networkx(bm.Graph, \n",
    "                 pos=nx.spring_layout(bm.Graph, seed=24))"
   ]
  },
  {
   "cell_type": "code",
   "execution_count": 8,
   "metadata": {},
   "outputs": [
    {
     "data": {
      "text/plain": [
       "NodeView((1, 2, 3, 4, 5, 6, 7, 8, 9, 10, 11, 12, 13, 14, 15, 16, 17, 18, 19, 20, 21))"
      ]
     },
     "execution_count": 8,
     "metadata": {},
     "output_type": "execute_result"
    }
   ],
   "source": [
    "bm.Graph.nodes"
   ]
  },
  {
   "cell_type": "code",
   "execution_count": 9,
   "metadata": {},
   "outputs": [
    {
     "name": "stdout",
     "output_type": "stream",
     "text": [
      "[0, 1, 2, 61, 62]\n"
     ]
    }
   ],
   "source": [
    "# each node stores the indices of the points inside it\n",
    "print(bm.points_covered_by_landmarks[1])"
   ]
  },
  {
   "cell_type": "markdown",
   "metadata": {},
   "source": [
    "## BM with reverse ordering"
   ]
  },
  {
   "cell_type": "code",
   "execution_count": 10,
   "metadata": {},
   "outputs": [],
   "source": [
    "# we can change the order of the points \n",
    "# this will affect the landmarks selection\n",
    "bm_reverse = BallMapper(points = points_df.values, # the pointcloud, as a numpy array\n",
    "                        epsilon = 0.25,            # the radius of the balls\n",
    "                        order = list(reversed(range(len(points_df.values)))) # reverse ordering\n",
    "                       ) "
   ]
  },
  {
   "cell_type": "code",
   "execution_count": 11,
   "metadata": {},
   "outputs": [
    {
     "name": "stdout",
     "output_type": "stream",
     "text": [
      "BM\n",
      "the landmark of cluster 1 in BM is {'landmark': 0, 'points covered': [0, 1, 2, 61, 62], 'size': 5, 'color': 'r'}\n",
      "it covers the points [0, 1, 2, 61, 62]\n",
      "\n",
      "BM reversed\n",
      "the landmark of cluster 1 in BM reverse is {'landmark': 62, 'points covered': [62, 61, 60, 1, 0], 'size': 5, 'color': 'r'}\n",
      "it covers the points [62, 61, 60, 1, 0]\n",
      "\n",
      "\n",
      "\n",
      "BM\n",
      "the landmark of cluster 2 in BM is {'landmark': 3, 'points covered': [1, 2, 3, 4, 5], 'size': 5, 'color': 'r'}\n",
      "it covers the points [1, 2, 3, 4, 5]\n",
      "\n",
      "BM reversed\n",
      "the landmark of cluster 2 in BM reverse is {'landmark': 59, 'points covered': [61, 60, 59, 58, 57], 'size': 5, 'color': 'r'}\n",
      "it covers the points [61, 60, 59, 58, 57]\n",
      "\n",
      "\n",
      "\n"
     ]
    }
   ],
   "source": [
    "for idx in [1, 2]:\n",
    "    print('BM')\n",
    "    print('the landmark of cluster {} in BM is {}'.format(idx, bm.Graph.nodes[idx]))\n",
    "    print('it covers the points {}'.format(bm.points_covered_by_landmarks[idx]))\n",
    "    print()\n",
    "    print('BM reversed')\n",
    "    print('the landmark of cluster {} in BM reverse is {}'.format(idx, bm_reverse.Graph.nodes[idx]))\n",
    "    print('it covers the points {}'.format(bm_reverse.points_covered_by_landmarks[idx]))\n",
    "    print('\\n\\n')"
   ]
  },
  {
   "cell_type": "code",
   "execution_count": 12,
   "metadata": {},
   "outputs": [
    {
     "data": {
      "image/png": "[encoded data removed]",
      "text/plain": [
       "<Figure size 432x288 with 1 Axes>"
      ]
     },
     "metadata": {},
     "output_type": "display_data"
    }
   ],
   "source": [
    "# but the shape of the graph is the same\n",
    "nx.draw_networkx(bm_reverse.Graph, \n",
    "                 pos=nx.spring_layout(bm.Graph, seed=24))"
   ]
  },
  {
   "cell_type": "markdown",
   "metadata": {},
   "source": [
    "## Colored Ball Mapper graph"
   ]
  },
  {
   "cell_type": "code",
   "execution_count": 13,
   "metadata": {},
   "outputs": [],
   "source": [
    "from matplotlib.colors import ListedColormap\n",
    "from matplotlib import cm"
   ]
  },
  {
   "cell_type": "code",
   "execution_count": 14,
   "metadata": {},
   "outputs": [
    {
     "data": {
      "image/png": "[encoded data removed]",
      "text/plain": [
       "<Figure size 576x432 with 2 Axes>"
      ]
     },
     "metadata": {
      "needs_background": "light"
     },
     "output_type": "display_data"
    }
   ],
   "source": [
    "# we use the points themself as coloring functions\n",
    "bm.add_coloring(coloring_df=points_df)\n",
    "\n",
    "# we can color the graph by any column in coloring_df\n",
    "# here we adopt a standard colour palette\n",
    "my_red_palette = cm.get_cmap(name='Reds')\n",
    "\n",
    "plt.figure(figsize= (8,6))\n",
    "# The BallMapper class has a builtin plotting method, buit around nx.draw_networkx\n",
    "bm.draw_networx(coloring_variable='y', color_palette=my_red_palette, colorbar=True)\n",
    "plt.show()"
   ]
  },
  {
   "cell_type": "markdown",
   "metadata": {},
   "source": [
    "<br>\n",
    "<br>\n",
    "<br>\n",
    "<br>\n",
    "<br>\n",
    "<br>\n",
    "<br>\n",
    "<br>\n",
    "<br>"
   ]
  },
  {
   "cell_type": "markdown",
   "metadata": {},
   "source": [
    "## Fancy visualizations using Bokeh\n",
    "https://docs.bokeh.org/en/latest/docs/installation.html"
   ]
  },
  {
   "cell_type": "code",
   "execution_count": 16,
   "metadata": {},
   "outputs": [],
   "source": [
    "from pyballmapper.plotting import graph_GUI"
   ]
  },
  {
   "cell_type": "code",
   "execution_count": 17,
   "metadata": {},
   "outputs": [],
   "source": [
    "from bokeh.plotting import figure, show, output_file, save"
   ]
  },
  {
   "cell_type": "code",
   "execution_count": 22,
   "metadata": {},
   "outputs": [
    {
     "name": "stdout",
     "output_type": "stream",
     "text": [
      "color by variable y \n",
      "MIN_VALUE: -0.986, MAX_VALUE: 0.988\n"
     ]
    },
    {
     "data": {
      "text/plain": [
       "(-0.9862311514641753, 0.9875482631007362)"
      ]
     },
     "execution_count": 22,
     "metadata": {},
     "output_type": "execute_result"
    }
   ],
   "source": [
    "# create a GUI with input our BM graph, \n",
    "# we need color palette \n",
    "my_red_palette = cm.get_cmap(name='Reds')\n",
    "\n",
    "# and a dataframe with coloring functions (one value per point in the pointcloud)\n",
    "# we use the points themself as coloring functions\n",
    "bm.add_coloring(coloring_df=points_df)\n",
    "my_fancy_gui = graph_GUI(bm.Graph, my_red_palette, tooltips_variables=['x','y'])\n",
    "my_fancy_gui.color_by_variable('y')"
   ]
  },
  {
   "cell_type": "code",
   "execution_count": 23,
   "metadata": {},
   "outputs": [],
   "source": [
    "# creates an html file with the graph \n",
    "# and opens it in another tab\n",
    "show(my_fancy_gui.plot)"
   ]
  },
  {
   "cell_type": "code",
   "execution_count": null,
   "metadata": {},
   "outputs": [],
   "source": [
    "# if you are on colab\n",
    "# save the output html and download it  \n",
    "output_file(\"circle_BM.html\")\n",
    "save(my_fancy_gui.plot)"
   ]
  },
  {
   "cell_type": "code",
   "execution_count": null,
   "metadata": {},
   "outputs": [],
   "source": []
  }
 ],
 "metadata": {
  "interpreter": {
   "hash": "de9fe0ce6b873e2013b33bc1f4f40bac445a25d45f265babfcca256e207bbd69"
  },
  "kernelspec": {
   "display_name": "Python 3.10.4 ('tda')",
   "language": "python",
   "name": "python3"
  },
  "language_info": {
   "codemirror_mode": {
    "name": "ipython",
    "version": 3
   },
   "file_extension": ".py",
   "mimetype": "text/x-python",
   "name": "python",
   "nbconvert_exporter": "python",
   "pygments_lexer": "ipython3",
   "version": "3.10.4"
  }
 },
 "nbformat": 4,
 "nbformat_minor": 4
}
