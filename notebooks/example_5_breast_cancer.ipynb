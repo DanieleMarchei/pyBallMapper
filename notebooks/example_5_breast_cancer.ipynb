{
 "cells": [
  {
   "cell_type": "markdown",
   "metadata": {},
   "source": [
    "This notebook analyses the NKI gene expression dataset.  \n",
    "https://www.nature.com/articles/srep01236  \n",
    "\n",
    "The dataset can be downloaded from https://data.world/deviramanan2016/nki-breast-cancer-data  \n",
    "\n",
    "This notebook was prepared by Davide Gurnari. "
   ]
  },
  {
   "cell_type": "code",
   "execution_count": 1,
   "metadata": {},
   "outputs": [],
   "source": [
    "import numpy as np\n",
    "import pandas as pd\n",
    "import networkx as nx\n",
    "from sklearn.preprocessing import MinMaxScaler\n",
    "\n",
    "from matplotlib import pyplot as plt\n",
    "%matplotlib inline"
   ]
  },
  {
   "cell_type": "code",
   "execution_count": 2,
   "metadata": {},
   "outputs": [],
   "source": [
    "from pyballmapper import BallMapper\n",
    "from pyballmapper.plotting import graph_GUI\n",
    "from bokeh.plotting import figure, show\n",
    "\n",
    "from matplotlib import cm"
   ]
  },
  {
   "cell_type": "code",
   "execution_count": 3,
   "metadata": {},
   "outputs": [
    {
     "data": {
      "text/html": [
       "<div class=\"bk-root\">\n",
       "        <a href=\"https://bokeh.org\" target=\"_blank\" class=\"bk-logo bk-logo-small bk-logo-notebook\"></a>\n",
       "        <span id=\"1002\">Loading BokehJS ...</span>\n",
       "    </div>\n"
      ]
     },
     "metadata": {},
     "output_type": "display_data"
    },
    {
     "data": {
      "application/javascript": "(function(root) {\n  function now() {\n    return new Date();\n  }\n\n  const force = true;\n\n  if (typeof root._bokeh_onload_callbacks === \"undefined\" || force === true) {\n    root._bokeh_onload_callbacks = [];\n    root._bokeh_is_loading = undefined;\n  }\n\nconst JS_MIME_TYPE = 'application/javascript';\n  const HTML_MIME_TYPE = 'text/html';\n  const EXEC_MIME_TYPE = 'application/vnd.bokehjs_exec.v0+json';\n  const CLASS_NAME = 'output_bokeh rendered_html';\n\n  /**\n   * Render data to the DOM node\n   */\n  function render(props, node) {\n    const script = document.createElement(\"script\");\n    node.appendChild(script);\n  }\n\n  /**\n   * Handle when an output is cleared or removed\n   */\n  function handleClearOutput(event, handle) {\n    const cell = handle.cell;\n\n    const id = cell.output_area._bokeh_element_id;\n    const server_id = cell.output_area._bokeh_server_id;\n    // Clean up Bokeh references\n    if (id != null && id in Bokeh.index) {\n      Bokeh.index[id].model.document.clear();\n      delete Bokeh.index[id];\n    }\n\n    if (server_id !== undefined) {\n      // Clean up Bokeh references\n      const cmd_clean = \"from bokeh.io.state import curstate; print(curstate().uuid_to_server['\" + server_id + \"'].get_sessions()[0].document.roots[0]._id)\";\n      cell.notebook.kernel.execute(cmd_clean, {\n        iopub: {\n          output: function(msg) {\n            const id = msg.content.text.trim();\n            if (id in Bokeh.index) {\n              Bokeh.index[id].model.document.clear();\n              delete Bokeh.index[id];\n            }\n          }\n        }\n      });\n      // Destroy server and session\n      const cmd_destroy = \"import bokeh.io.notebook as ion; ion.destroy_server('\" + server_id + \"')\";\n      cell.notebook.kernel.execute(cmd_destroy);\n    }\n  }\n\n  /**\n   * Handle when a new output is added\n   */\n  function handleAddOutput(event, handle) {\n    const output_area = handle.output_area;\n    const output = handle.output;\n\n    // limit handleAddOutput to display_data with EXEC_MIME_TYPE content only\n    if ((output.output_type != \"display_data\") || (!Object.prototype.hasOwnProperty.call(output.data, EXEC_MIME_TYPE))) {\n      return\n    }\n\n    const toinsert = output_area.element.find(\".\" + CLASS_NAME.split(' ')[0]);\n\n    if (output.metadata[EXEC_MIME_TYPE][\"id\"] !== undefined) {\n      toinsert[toinsert.length - 1].firstChild.textContent = output.data[JS_MIME_TYPE];\n      // store reference to embed id on output_area\n      output_area._bokeh_element_id = output.metadata[EXEC_MIME_TYPE][\"id\"];\n    }\n    if (output.metadata[EXEC_MIME_TYPE][\"server_id\"] !== undefined) {\n      const bk_div = document.createElement(\"div\");\n      bk_div.innerHTML = output.data[HTML_MIME_TYPE];\n      const script_attrs = bk_div.children[0].attributes;\n      for (let i = 0; i < script_attrs.length; i++) {\n        toinsert[toinsert.length - 1].firstChild.setAttribute(script_attrs[i].name, script_attrs[i].value);\n        toinsert[toinsert.length - 1].firstChild.textContent = bk_div.children[0].textContent\n      }\n      // store reference to server id on output_area\n      output_area._bokeh_server_id = output.metadata[EXEC_MIME_TYPE][\"server_id\"];\n    }\n  }\n\n  function register_renderer(events, OutputArea) {\n\n    function append_mime(data, metadata, element) {\n      // create a DOM node to render to\n      const toinsert = this.create_output_subarea(\n        metadata,\n        CLASS_NAME,\n        EXEC_MIME_TYPE\n      );\n      this.keyboard_manager.register_events(toinsert);\n      // Render to node\n      const props = {data: data, metadata: metadata[EXEC_MIME_TYPE]};\n      render(props, toinsert[toinsert.length - 1]);\n      element.append(toinsert);\n      return toinsert\n    }\n\n    /* Handle when an output is cleared or removed */\n    events.on('clear_output.CodeCell', handleClearOutput);\n    events.on('delete.Cell', handleClearOutput);\n\n    /* Handle when a new output is added */\n    events.on('output_added.OutputArea', handleAddOutput);\n\n    /**\n     * Register the mime type and append_mime function with output_area\n     */\n    OutputArea.prototype.register_mime_type(EXEC_MIME_TYPE, append_mime, {\n      /* Is output safe? */\n      safe: true,\n      /* Index of renderer in `output_area.display_order` */\n      index: 0\n    });\n  }\n\n  // register the mime type if in Jupyter Notebook environment and previously unregistered\n  if (root.Jupyter !== undefined) {\n    const events = require('base/js/events');\n    const OutputArea = require('notebook/js/outputarea').OutputArea;\n\n    if (OutputArea.prototype.mime_types().indexOf(EXEC_MIME_TYPE) == -1) {\n      register_renderer(events, OutputArea);\n    }\n  }\n  if (typeof (root._bokeh_timeout) === \"undefined\" || force === true) {\n    root._bokeh_timeout = Date.now() + 5000;\n    root._bokeh_failed_load = false;\n  }\n\n  const NB_LOAD_WARNING = {'data': {'text/html':\n     \"<div style='background-color: #fdd'>\\n\"+\n     \"<p>\\n\"+\n     \"BokehJS does not appear to have successfully loaded. If loading BokehJS from CDN, this \\n\"+\n     \"may be due to a slow or bad network connection. Possible fixes:\\n\"+\n     \"</p>\\n\"+\n     \"<ul>\\n\"+\n     \"<li>re-rerun `output_notebook()` to attempt to load from CDN again, or</li>\\n\"+\n     \"<li>use INLINE resources instead, as so:</li>\\n\"+\n     \"</ul>\\n\"+\n     \"<code>\\n\"+\n     \"from bokeh.resources import INLINE\\n\"+\n     \"output_notebook(resources=INLINE)\\n\"+\n     \"</code>\\n\"+\n     \"</div>\"}};\n\n  function display_loaded() {\n    const el = document.getElementById(\"1002\");\n    if (el != null) {\n      el.textContent = \"BokehJS is loading...\";\n    }\n    if (root.Bokeh !== undefined) {\n      if (el != null) {\n        el.textContent = \"BokehJS \" + root.Bokeh.version + \" successfully loaded.\";\n      }\n    } else if (Date.now() < root._bokeh_timeout) {\n      setTimeout(display_loaded, 100)\n    }\n  }\n\n  function run_callbacks() {\n    try {\n      root._bokeh_onload_callbacks.forEach(function(callback) {\n        if (callback != null)\n          callback();\n      });\n    } finally {\n      delete root._bokeh_onload_callbacks\n    }\n    console.debug(\"Bokeh: all callbacks have finished\");\n  }\n\n  function load_libs(css_urls, js_urls, callback) {\n    if (css_urls == null) css_urls = [];\n    if (js_urls == null) js_urls = [];\n\n    root._bokeh_onload_callbacks.push(callback);\n    if (root._bokeh_is_loading > 0) {\n      console.debug(\"Bokeh: BokehJS is being loaded, scheduling callback at\", now());\n      return null;\n    }\n    if (js_urls == null || js_urls.length === 0) {\n      run_callbacks();\n      return null;\n    }\n    console.debug(\"Bokeh: BokehJS not loaded, scheduling load and callback at\", now());\n    root._bokeh_is_loading = css_urls.length + js_urls.length;\n\n    function on_load() {\n      root._bokeh_is_loading--;\n      if (root._bokeh_is_loading === 0) {\n        console.debug(\"Bokeh: all BokehJS libraries/stylesheets loaded\");\n        run_callbacks()\n      }\n    }\n\n    function on_error(url) {\n      console.error(\"failed to load \" + url);\n    }\n\n    for (let i = 0; i < css_urls.length; i++) {\n      const url = css_urls[i];\n      const element = document.createElement(\"link\");\n      element.onload = on_load;\n      element.onerror = on_error.bind(null, url);\n      element.rel = \"stylesheet\";\n      element.type = \"text/css\";\n      element.href = url;\n      console.debug(\"Bokeh: injecting link tag for BokehJS stylesheet: \", url);\n      document.body.appendChild(element);\n    }\n\n    for (let i = 0; i < js_urls.length; i++) {\n      const url = js_urls[i];\n      const element = document.createElement('script');\n      element.onload = on_load;\n      element.onerror = on_error.bind(null, url);\n      element.async = false;\n      element.src = url;\n      console.debug(\"Bokeh: injecting script tag for BokehJS library: \", url);\n      document.head.appendChild(element);\n    }\n  };\n\n  function inject_raw_css(css) {\n    const element = document.createElement(\"style\");\n    element.appendChild(document.createTextNode(css));\n    document.body.appendChild(element);\n  }\n\n  const js_urls = [\"https://cdn.bokeh.org/bokeh/release/bokeh-2.4.3.min.js\", \"https://cdn.bokeh.org/bokeh/release/bokeh-gl-2.4.3.min.js\", \"https://cdn.bokeh.org/bokeh/release/bokeh-widgets-2.4.3.min.js\", \"https://cdn.bokeh.org/bokeh/release/bokeh-tables-2.4.3.min.js\", \"https://cdn.bokeh.org/bokeh/release/bokeh-mathjax-2.4.3.min.js\"];\n  const css_urls = [];\n\n  const inline_js = [    function(Bokeh) {\n      Bokeh.set_log_level(\"info\");\n    },\nfunction(Bokeh) {\n    }\n  ];\n\n  function run_inline_js() {\n    if (root.Bokeh !== undefined || force === true) {\n          for (let i = 0; i < inline_js.length; i++) {\n      inline_js[i].call(root, root.Bokeh);\n    }\nif (force === true) {\n        display_loaded();\n      }} else if (Date.now() < root._bokeh_timeout) {\n      setTimeout(run_inline_js, 100);\n    } else if (!root._bokeh_failed_load) {\n      console.log(\"Bokeh: BokehJS failed to load within specified timeout.\");\n      root._bokeh_failed_load = true;\n    } else if (force !== true) {\n      const cell = $(document.getElementById(\"1002\")).parents('.cell').data().cell;\n      cell.output_area.append_execute_result(NB_LOAD_WARNING)\n    }\n  }\n\n  if (root._bokeh_is_loading === 0) {\n    console.debug(\"Bokeh: BokehJS loaded, going straight to plotting\");\n    run_inline_js();\n  } else {\n    load_libs(css_urls, js_urls, function() {\n      console.debug(\"Bokeh: BokehJS plotting callback run at\", now());\n      run_inline_js();\n    });\n  }\n}(window));",
      "application/vnd.bokehjs_load.v0+json": ""
     },
     "metadata": {},
     "output_type": "display_data"
    }
   ],
   "source": [
    "# this cell allows for bokeh plots to be displayed inside jupyter notebooks\n",
    "from bokeh.io import output_notebook\n",
    "output_notebook()"
   ]
  },
  {
   "cell_type": "markdown",
   "metadata": {},
   "source": [
    "## load data"
   ]
  },
  {
   "cell_type": "code",
   "execution_count": 4,
   "metadata": {},
   "outputs": [
    {
     "name": "stdout",
     "output_type": "stream",
     "text": [
      "(272, 1570)\n"
     ]
    },
    {
     "data": {
      "text/html": [
       "<div>\n",
       "<style scoped>\n",
       "    .dataframe tbody tr th:only-of-type {\n",
       "        vertical-align: middle;\n",
       "    }\n",
       "\n",
       "    .dataframe tbody tr th {\n",
       "        vertical-align: top;\n",
       "    }\n",
       "\n",
       "    .dataframe thead th {\n",
       "        text-align: right;\n",
       "    }\n",
       "</style>\n",
       "<table border=\"1\" class=\"dataframe\">\n",
       "  <thead>\n",
       "    <tr style=\"text-align: right;\">\n",
       "      <th></th>\n",
       "      <th>patient</th>\n",
       "      <th>id</th>\n",
       "      <th>age</th>\n",
       "      <th>eventdeath</th>\n",
       "      <th>survival</th>\n",
       "      <th>timerecurrence</th>\n",
       "      <th>chemo</th>\n",
       "      <th>hormonal</th>\n",
       "      <th>amputation</th>\n",
       "      <th>histtype</th>\n",
       "      <th>...</th>\n",
       "      <th>contig36312_rc</th>\n",
       "      <th>contig38980_rc</th>\n",
       "      <th>nm_000853</th>\n",
       "      <th>nm_000854</th>\n",
       "      <th>nm_000860</th>\n",
       "      <th>contig29014_rc</th>\n",
       "      <th>contig46616_rc</th>\n",
       "      <th>nm_000888</th>\n",
       "      <th>nm_000898</th>\n",
       "      <th>af067420</th>\n",
       "    </tr>\n",
       "  </thead>\n",
       "  <tbody>\n",
       "    <tr>\n",
       "      <th>0</th>\n",
       "      <td>s122</td>\n",
       "      <td>18</td>\n",
       "      <td>43</td>\n",
       "      <td>False</td>\n",
       "      <td>14.817248</td>\n",
       "      <td>14.817248</td>\n",
       "      <td>False</td>\n",
       "      <td>False</td>\n",
       "      <td>True</td>\n",
       "      <td>1</td>\n",
       "      <td>...</td>\n",
       "      <td>0.591103</td>\n",
       "      <td>-0.355018</td>\n",
       "      <td>0.373644</td>\n",
       "      <td>-0.760690</td>\n",
       "      <td>-0.164025</td>\n",
       "      <td>-0.038726</td>\n",
       "      <td>0.237856</td>\n",
       "      <td>-0.087631</td>\n",
       "      <td>-0.369153</td>\n",
       "      <td>0.153795</td>\n",
       "    </tr>\n",
       "    <tr>\n",
       "      <th>1</th>\n",
       "      <td>s123</td>\n",
       "      <td>19</td>\n",
       "      <td>48</td>\n",
       "      <td>False</td>\n",
       "      <td>14.261465</td>\n",
       "      <td>14.261465</td>\n",
       "      <td>False</td>\n",
       "      <td>False</td>\n",
       "      <td>False</td>\n",
       "      <td>1</td>\n",
       "      <td>...</td>\n",
       "      <td>-0.199829</td>\n",
       "      <td>-0.001635</td>\n",
       "      <td>-0.062922</td>\n",
       "      <td>-0.682204</td>\n",
       "      <td>-0.220934</td>\n",
       "      <td>-0.100088</td>\n",
       "      <td>-0.466537</td>\n",
       "      <td>-0.231547</td>\n",
       "      <td>-0.643019</td>\n",
       "      <td>-0.014098</td>\n",
       "    </tr>\n",
       "    <tr>\n",
       "      <th>2</th>\n",
       "      <td>s124</td>\n",
       "      <td>20</td>\n",
       "      <td>38</td>\n",
       "      <td>False</td>\n",
       "      <td>6.644764</td>\n",
       "      <td>6.644764</td>\n",
       "      <td>False</td>\n",
       "      <td>False</td>\n",
       "      <td>False</td>\n",
       "      <td>1</td>\n",
       "      <td>...</td>\n",
       "      <td>0.328736</td>\n",
       "      <td>-0.047571</td>\n",
       "      <td>0.084228</td>\n",
       "      <td>-0.695950</td>\n",
       "      <td>-0.402840</td>\n",
       "      <td>-0.099965</td>\n",
       "      <td>0.110155</td>\n",
       "      <td>-0.114298</td>\n",
       "      <td>0.258495</td>\n",
       "      <td>-0.198911</td>\n",
       "    </tr>\n",
       "    <tr>\n",
       "      <th>3</th>\n",
       "      <td>s125</td>\n",
       "      <td>21</td>\n",
       "      <td>50</td>\n",
       "      <td>False</td>\n",
       "      <td>7.748118</td>\n",
       "      <td>7.748118</td>\n",
       "      <td>False</td>\n",
       "      <td>True</td>\n",
       "      <td>False</td>\n",
       "      <td>1</td>\n",
       "      <td>...</td>\n",
       "      <td>0.648861</td>\n",
       "      <td>-0.039088</td>\n",
       "      <td>0.182182</td>\n",
       "      <td>-0.524640</td>\n",
       "      <td>0.037320</td>\n",
       "      <td>-0.167688</td>\n",
       "      <td>-0.016790</td>\n",
       "      <td>-0.285344</td>\n",
       "      <td>-0.251188</td>\n",
       "      <td>0.862710</td>\n",
       "    </tr>\n",
       "    <tr>\n",
       "      <th>4</th>\n",
       "      <td>s126</td>\n",
       "      <td>22</td>\n",
       "      <td>38</td>\n",
       "      <td>False</td>\n",
       "      <td>6.436687</td>\n",
       "      <td>6.318960</td>\n",
       "      <td>False</td>\n",
       "      <td>False</td>\n",
       "      <td>True</td>\n",
       "      <td>1</td>\n",
       "      <td>...</td>\n",
       "      <td>-0.287538</td>\n",
       "      <td>-0.286893</td>\n",
       "      <td>0.057082</td>\n",
       "      <td>-0.565021</td>\n",
       "      <td>-0.105632</td>\n",
       "      <td>-0.108148</td>\n",
       "      <td>-0.405853</td>\n",
       "      <td>-0.053601</td>\n",
       "      <td>-0.677072</td>\n",
       "      <td>0.134160</td>\n",
       "    </tr>\n",
       "  </tbody>\n",
       "</table>\n",
       "<p>5 rows × 1570 columns</p>\n",
       "</div>"
      ],
      "text/plain": [
       "  patient  id  age  eventdeath   survival  timerecurrence  chemo  hormonal  \\\n",
       "0    s122  18   43       False  14.817248       14.817248  False     False   \n",
       "1    s123  19   48       False  14.261465       14.261465  False     False   \n",
       "2    s124  20   38       False   6.644764        6.644764  False     False   \n",
       "3    s125  21   50       False   7.748118        7.748118  False      True   \n",
       "4    s126  22   38       False   6.436687        6.318960  False     False   \n",
       "\n",
       "   amputation  histtype  ...  contig36312_rc  contig38980_rc  nm_000853  \\\n",
       "0        True         1  ...        0.591103       -0.355018   0.373644   \n",
       "1       False         1  ...       -0.199829       -0.001635  -0.062922   \n",
       "2       False         1  ...        0.328736       -0.047571   0.084228   \n",
       "3       False         1  ...        0.648861       -0.039088   0.182182   \n",
       "4        True         1  ...       -0.287538       -0.286893   0.057082   \n",
       "\n",
       "   nm_000854  nm_000860  contig29014_rc  contig46616_rc  nm_000888  nm_000898  \\\n",
       "0  -0.760690  -0.164025       -0.038726        0.237856  -0.087631  -0.369153   \n",
       "1  -0.682204  -0.220934       -0.100088       -0.466537  -0.231547  -0.643019   \n",
       "2  -0.695950  -0.402840       -0.099965        0.110155  -0.114298   0.258495   \n",
       "3  -0.524640   0.037320       -0.167688       -0.016790  -0.285344  -0.251188   \n",
       "4  -0.565021  -0.105632       -0.108148       -0.405853  -0.053601  -0.677072   \n",
       "\n",
       "   af067420  \n",
       "0  0.153795  \n",
       "1 -0.014098  \n",
       "2 -0.198911  \n",
       "3  0.862710  \n",
       "4  0.134160  \n",
       "\n",
       "[5 rows x 1570 columns]"
      ]
     },
     "execution_count": 4,
     "metadata": {},
     "output_type": "execute_result"
    }
   ],
   "source": [
    "nki_cleaned_df = pd.read_csv('data/nki_cleaned.csv')\n",
    "print(nki_cleaned_df.shape)\n",
    "nki_cleaned_df.head()"
   ]
  },
  {
   "cell_type": "code",
   "execution_count": 5,
   "metadata": {},
   "outputs": [
    {
     "data": {
      "text/plain": [
       "Index(['patient', 'id', 'age', 'eventdeath', 'survival', 'timerecurrence',\n",
       "       'chemo', 'hormonal', 'amputation', 'histtype', 'diam', 'posnodes',\n",
       "       'grade', 'angioinv', 'lymphinfil', 'barcode', 'esr1'],\n",
       "      dtype='object')"
      ]
     },
     "execution_count": 5,
     "metadata": {},
     "output_type": "execute_result"
    }
   ],
   "source": [
    "# the first 17 columns are patient's info, the others gene expressions data\n",
    "nki_cleaned_df.columns[:17]"
   ]
  },
  {
   "cell_type": "code",
   "execution_count": 6,
   "metadata": {},
   "outputs": [
    {
     "data": {
      "text/plain": [
       "eventdeath    0.283088\n",
       "dtype: float64"
      ]
     },
     "execution_count": 6,
     "metadata": {},
     "output_type": "execute_result"
    }
   ],
   "source": [
    "# we will use the gene expression data as features\n",
    "# and 'eventdeath' as target\n",
    "X = nki_cleaned_df[nki_cleaned_df.columns[17:]]\n",
    "y = nki_cleaned_df[['eventdeath']].astype(int)\n",
    "y.mean()"
   ]
  },
  {
   "cell_type": "code",
   "execution_count": null,
   "metadata": {},
   "outputs": [],
   "source": []
  },
  {
   "cell_type": "markdown",
   "metadata": {},
   "source": [
    "## Euclidean distance"
   ]
  },
  {
   "cell_type": "markdown",
   "metadata": {},
   "source": [
    "Using the standard Euclidean distance does not reveal much..."
   ]
  },
  {
   "cell_type": "code",
   "execution_count": 7,
   "metadata": {},
   "outputs": [
    {
     "name": "stdout",
     "output_type": "stream",
     "text": [
      "using euclidean distance\n",
      "Finding vertices...\n"
     ]
    },
    {
     "data": {
      "application/vnd.jupyter.widget-view+json": {
       "model_id": "d9173b93c1ed4e11ba6502bceee234f1",
       "version_major": 2,
       "version_minor": 0
      },
      "text/plain": [
       "  0%|          | 0/272 [00:00<?, ?it/s]"
      ]
     },
     "metadata": {},
     "output_type": "display_data"
    },
    {
     "name": "stdout",
     "output_type": "stream",
     "text": [
      "Computing points_covered_by_landmarks...\n"
     ]
    },
    {
     "data": {
      "application/vnd.jupyter.widget-view+json": {
       "model_id": "1a0f65e0aee343e79b8cd0420d998ae6",
       "version_major": 2,
       "version_minor": 0
      },
      "text/plain": [
       "  0%|          | 0/251 [00:00<?, ?it/s]"
      ]
     },
     "metadata": {},
     "output_type": "display_data"
    },
    {
     "name": "stdout",
     "output_type": "stream",
     "text": [
      "Finding edges...\n"
     ]
    },
    {
     "data": {
      "application/vnd.jupyter.widget-view+json": {
       "model_id": "4fefbd18786c4c4a8c8fab8210757e76",
       "version_major": 2,
       "version_minor": 0
      },
      "text/plain": [
       "0it [00:00, ?it/s]"
      ]
     },
     "metadata": {},
     "output_type": "display_data"
    },
    {
     "name": "stdout",
     "output_type": "stream",
     "text": [
      "Creating Ball Mapper graph...\n",
      "Done\n",
      "color by variable eventdeath \n",
      "MIN_VALUE: 0.000, MAX_VALUE: 1.000\n"
     ]
    },
    {
     "data": {
      "text/html": [
       "\n",
       "  <div class=\"bk-root\" id=\"8fd394c6-f1f6-4fbf-8411-d34690dbeed6\" data-root-id=\"1005\"></div>\n"
      ]
     },
     "metadata": {},
     "output_type": "display_data"
    },
    {
     "data": {
      "application/javascript": "(function(root) {\n  function embed_document(root) {\n  const docs_json = {\"c8764983-da15-4cac-8286-5285b1f9ffa5\":{\"defs\":[],\"roots\":{\"references\":[{\"attributes\":{\"output_backend\":\"svg\",\"renderers\":[{\"id\":\"1019\"}],\"title\":{\"id\":\"1045\"},\"toolbar\":{\"id\":\"1013\"},\"width\":800,\"x_range\":{\"id\":\"1003\"},\"x_scale\":{\"id\":\"1043\"},\"y_range\":{\"id\":\"1004\"},\"y_scale\":{\"id\":\"1044\"}},\"id\":\"1005\",\"type\":\"Plot\"},{\"attributes\":{},\"id\":\"1057\",\"type\":\"UnionRenderers\"},{\"attributes\":{},\"id\":\"1044\",\"type\":\"LinearScale\"},{\"attributes\":{},\"id\":\"1010\",\"type\":\"PanTool\"},{\"attributes\":{\"fill_alpha\":{\"value\":0.8},\"fill_color\":{\"field\":\"color\"},\"size\":{\"field\":\"size rescaled\"}},\"id\":\"1029\",\"type\":\"Circle\"},{\"attributes\":{},\"id\":\"1059\",\"type\":\"UnionRenderers\"},{\"attributes\":{\"callback\":null,\"tooltips\":[[\"index\",\"@index\"],[\"size\",\"@size\"],[\"eventdeath\",\"@eventdeath\"],[\"esr1\",\"@esr1\"]]},\"id\":\"1008\",\"type\":\"HoverTool\"},{\"attributes\":{\"active_scroll\":{\"id\":\"1009\"},\"tools\":[{\"id\":\"1010\"},{\"id\":\"1008\"},{\"id\":\"1009\"},{\"id\":\"1011\"},{\"id\":\"1012\"}]},\"id\":\"1013\",\"type\":\"Toolbar\"},{\"attributes\":{\"data\":{\"color\":[\"#fff5f0\",\"#fff5f0\",\"#fff5f0\",\"#fff5f0\",\"#fff5f0\",\"#fff5f0\",\"#fff5f0\",\"#fff5f0\",\"#fff5f0\",\"#67000d\",\"#fff5f0\",\"#fff5f0\",\"#fca082\",\"#fff5f0\",\"#67000d\",\"#fff5f0\",\"#fdcab5\",\"#fff5f0\",\"#fff5f0\",\"#67000d\",\"#fff5f0\",\"#fff5f0\",\"#fff5f0\",\"#67000d\",\"#67000d\",\"#fff5f0\",\"#fff5f0\",\"#67000d\",\"#fff5f0\",\"#67000d\",\"#fff5f0\",\"#fb694a\",\"#fff5f0\",\"#67000d\",\"#67000d\",\"#fff5f0\",\"#67000d\",\"#fff5f0\",\"#fff5f0\",\"#fff5f0\",\"#67000d\",\"#67000d\",\"#fff5f0\",\"#fff5f0\",\"#67000d\",\"#fff5f0\",\"#67000d\",\"#67000d\",\"#fff5f0\",\"#fff5f0\",\"#67000d\",\"#fff5f0\",\"#fff5f0\",\"#67000d\",\"#67000d\",\"#67000d\",\"#fff5f0\",\"#fff5f0\",\"#fff5f0\",\"#fff5f0\",\"#67000d\",\"#fff5f0\",\"#fff5f0\",\"#fff5f0\",\"#fff5f0\",\"#fff5f0\",\"#fff5f0\",\"#67000d\",\"#fff5f0\",\"#fff5f0\",\"#fff5f0\",\"#fff5f0\",\"#67000d\",\"#67000d\",\"#fff5f0\",\"#fff5f0\",\"#67000d\",\"#67000d\",\"#fff5f0\",\"#67000d\",\"#fff5f0\",\"#67000d\",\"#67000d\",\"#67000d\",\"#fff5f0\",\"#fff5f0\",\"#fff5f0\",\"#67000d\",\"#67000d\",\"#fff5f0\",\"#fff5f0\",\"#67000d\",\"#fff5f0\",\"#fff5f0\",\"#fff5f0\",\"#fff5f0\",\"#fff5f0\",\"#fff5f0\",\"#fff5f0\",\"#67000d\",\"#fff5f0\",\"#67000d\",\"#67000d\",\"#fff5f0\",\"#fff5f0\",\"#fff5f0\",\"#67000d\",\"#fff5f0\",\"#fff5f0\",\"#fff5f0\",\"#fff5f0\",\"#fff5f0\",\"#67000d\",\"#67000d\",\"#fff5f0\",\"#fff5f0\",\"#fff5f0\",\"#fff5f0\",\"#67000d\",\"#fff5f0\",\"#fff5f0\",\"#fff5f0\",\"#fff5f0\",\"#fff5f0\",\"#67000d\",\"#fff5f0\",\"#fff5f0\",\"#67000d\",\"#fff5f0\",\"#fff5f0\",\"#fff5f0\",\"#fff5f0\",\"#fff5f0\",\"#fff5f0\",\"#fff5f0\",\"#67000d\",\"#fff5f0\",\"#fff5f0\",\"#fff5f0\",\"#67000d\",\"#fff5f0\",\"#fff5f0\",\"#fff5f0\",\"#67000d\",\"#fff5f0\",\"#fff5f0\",\"#67000d\",\"#fff5f0\",\"#67000d\",\"#67000d\",\"#fff5f0\",\"#fff5f0\",\"#fff5f0\",\"#fff5f0\",\"#fff5f0\",\"#fff5f0\",\"#fff5f0\",\"#fff5f0\",\"#fff5f0\",\"#fff5f0\",\"#67000d\",\"#fff5f0\",\"#fff5f0\",\"#fff5f0\",\"#fff5f0\",\"#fff5f0\",\"#fff5f0\",\"#fff5f0\",\"#67000d\",\"#67000d\",\"#fff5f0\",\"#fff5f0\",\"#fff5f0\",\"#fff5f0\",\"#fff5f0\",\"#fff5f0\",\"#fff5f0\",\"#fff5f0\",\"#fff5f0\",\"#fff5f0\",\"#fff5f0\",\"#fff5f0\",\"#fff5f0\",\"#fff5f0\",\"#fff5f0\",\"#fff5f0\",\"#fff5f0\",\"#fff5f0\",\"#67000d\",\"#fff5f0\",\"#67000d\",\"#fca082\",\"#67000d\",\"#fff5f0\",\"#67000d\",\"#fff5f0\",\"#67000d\",\"#fff5f0\",\"#fff5f0\",\"#fff5f0\",\"#fff5f0\",\"#fff5f0\",\"#67000d\",\"#fff5f0\",\"#fff5f0\",\"#67000d\",\"#fff5f0\",\"#fff5f0\",\"#fff5f0\",\"#fff5f0\",\"#fff5f0\",\"#fff5f0\",\"#fff5f0\",\"#67000d\",\"#fff5f0\",\"#fff5f0\",\"#fff5f0\",\"#fff5f0\",\"#fff5f0\",\"#67000d\",\"#67000d\",\"#67000d\",\"#67000d\",\"#fff5f0\",\"#fff5f0\",\"#fff5f0\",\"#fff5f0\",\"#fff5f0\",\"#fff5f0\",\"#fff5f0\",\"#fff5f0\",\"#fff5f0\",\"#fff5f0\",\"#fff5f0\",\"#fff5f0\",\"#fff5f0\",\"#fff5f0\",\"#fff5f0\",\"#fff5f0\",\"#fff5f0\",\"#67000d\",\"#67000d\",\"#67000d\",\"#67000d\",\"#67000d\",\"#67000d\",\"#67000d\",\"#67000d\",\"#67000d\",\"#67000d\",\"#67000d\"],\"esr1\":[-0.413955,0.195251,0.596177,0.501286,-0.066771,0.121859,0.27341,0.088803,-1.006341,-1.324176,-0.202664,-0.006307750000000001,-0.10446099999999998,-1.160662,-0.661729,0.03729366666666666,-0.07650660000000001,-0.048179,0.034581,-1.255379,-0.3873,-1.088931,-0.164632,0.008423,-1.303928,0.582304,-0.885781,-0.421592,-0.268419,-1.007845,0.22856150000000003,0.1203245,0.352512,-1.188748,0.006759,-0.0162055,-0.147207,-0.111838,0.343665,-1.359296,0.154528,0.378869,0.387274,0.064001,-0.116044,-0.13603,-1.511655,-0.909104,0.0522415,-0.902375,-0.270681,-1.305098,0.2249555,-1.126599,0.309705,-1.116131,-0.2504955,-0.648426,0.188991,0.256504,0.419559,-0.1739282,-1.158259,-1.30751,-0.300751,-0.597746,0.2949775,-0.965673,0.190609,0.209422,0.473494,-0.09299400000000002,-1.099084,-0.162281,0.2943165,-1.359423,-1.429082,0.046133,-0.361686,-1.149146,-0.105017,-1.400621,-0.34081,-1.287865,0.442379,-0.43785,0.043225,-0.891372,-1.262985,0.151557,-0.070873,-1.186065,-0.043293,0.005666,-1.23731,0.065051,-0.341476,-0.523278,-0.018613,-0.095563,-0.463737,-0.987391,-0.424719,-0.37353,0.081441,0.435272,-0.170719,0.0258755,-1.29561,-0.213401,-0.309659,-1.208053,-1.385915,-1.373331,0.286231,-0.040568,0.338275,0.335091,-1.307807,-0.146067,0.09357033333333335,0.2027615,0.14884233333333333,0.197161,0.051452,0.51868,0.406976,-0.590073,-0.417041,0.054635,0.335089,-0.255982,-0.400787,-0.110902,0.086819,-0.185495,0.031225,0.027914,-0.089822,-1.315739,-0.581141,0.160823,-1.378536,0.109356,-0.04558,-0.385181,0.070522,0.112605,0.247885,-0.494486,-0.228539,0.178182,0.226397,-1.047617,-0.263174,-1.176533,0.033616,0.362232,0.061767,-1.003159,0.228925,-1.466478,-1.413574,0.083247,-1.129338,-0.096341,-1.392765,0.522648,0.4258,-1.030526,0.175113,-1.247951,0.061856,-0.0093105,0.20929475,-0.220652,-0.167348,0.178846,-0.084927,-0.05216,0.226498,0.37663,0.300923,-0.57949,0.351714,-0.867899,0.16355,0.187085,-0.517116,-0.168443,-1.334223,0.19701733333333335,-0.341585,-0.342984,0.232049,-0.294615,-1.209474,-0.343299,0.352425,0.164124,-0.037643,-0.036138,0.395972,0.050067,0.207192,-0.294233,0.222838,0.123128,-0.274458,0.13999,0.501602,-0.1074415,-1.233425,0.587983,-0.921313,0.420483,-0.952915,-0.33158,0.142405,-1.462303,0.138597,-0.388893,-0.821286,-0.136145,0.114946,0.401954,0.073601,-0.766778,-0.820146,-0.180312,-0.295729,-0.16347,0.059033,-0.034661,-0.132915,0.028529,-0.668578,0.103277,0.151225,0.088049,-1.256106,0.203644,0.040157,-0.082388,-0.049818,-0.204023,-1.235442,0.062265,-0.635322,-1.055801,-1.063121],\"eventdeath\":[0.0,0.0,0.0,0.0,0.0,0.0,0.0,0.0,0.0,1.0,0.0,0.0,0.3333333333333333,0.0,1.0,0.0,0.2,0.0,0.0,1.0,0.0,0.0,0.0,1.0,1.0,0.0,0.0,1.0,0.0,1.0,0.0,0.5,0.0,1.0,1.0,0.0,1.0,0.0,0.0,0.0,1.0,1.0,0.0,0.0,1.0,0.0,1.0,1.0,0.0,0.0,1.0,0.0,0.0,1.0,1.0,1.0,0.0,0.0,0.0,0.0,1.0,0.0,0.0,0.0,0.0,0.0,0.0,1.0,0.0,0.0,0.0,0.0,1.0,1.0,0.0,0.0,1.0,1.0,0.0,1.0,0.0,1.0,1.0,1.0,0.0,0.0,0.0,1.0,1.0,0.0,0.0,1.0,0.0,0.0,0.0,0.0,0.0,0.0,0.0,1.0,0.0,1.0,1.0,0.0,0.0,0.0,1.0,0.0,0.0,0.0,0.0,0.0,1.0,1.0,0.0,0.0,0.0,0.0,1.0,0.0,0.0,0.0,0.0,0.0,1.0,0.0,0.0,1.0,0.0,0.0,0.0,0.0,0.0,0.0,0.0,1.0,0.0,0.0,0.0,1.0,0.0,0.0,0.0,1.0,0.0,0.0,1.0,0.0,1.0,1.0,0.0,0.0,0.0,0.0,0.0,0.0,0.0,0.0,0.0,0.0,1.0,0.0,0.0,0.0,0.0,0.0,0.0,0.0,1.0,1.0,0.0,0.0,0.0,0.0,0.0,0.0,0.0,0.0,0.0,0.0,0.0,0.0,0.0,0.0,0.0,0.0,0.0,0.0,1.0,0.0,1.0,0.3333333333333333,1.0,0.0,1.0,0.0,1.0,0.0,0.0,0.0,0.0,0.0,1.0,0.0,0.0,1.0,0.0,0.0,0.0,0.0,0.0,0.0,0.0,1.0,0.0,0.0,0.0,0.0,0.0,1.0,1.0,1.0,1.0,0.0,0.0,0.0,0.0,0.0,0.0,0.0,0.0,0.0,0.0,0.0,0.0,0.0,0.0,0.0,0.0,0.0,1.0,1.0,1.0,1.0,1.0,1.0,1.0,1.0,1.0,1.0,1.0],\"index\":[1,2,3,4,5,6,7,8,9,10,11,12,13,14,15,16,17,18,19,20,21,22,23,24,25,26,27,28,29,30,31,32,33,34,35,36,37,38,39,40,41,42,43,44,45,46,47,48,49,50,51,52,53,54,55,56,57,58,59,60,61,62,63,64,65,66,67,68,69,70,71,72,73,74,75,76,77,78,79,80,81,82,83,84,85,86,87,88,89,90,91,92,93,94,95,96,97,98,99,100,101,102,103,104,105,106,107,108,109,110,111,112,113,114,115,116,117,118,119,120,121,122,123,124,125,126,127,128,129,130,131,132,133,134,135,136,137,138,139,140,141,142,143,144,145,146,147,148,149,150,151,152,153,154,155,156,157,158,159,160,161,162,163,164,165,166,167,168,169,170,171,172,173,174,175,176,177,178,179,180,181,182,183,184,185,186,187,188,189,190,191,192,193,194,195,196,197,198,199,200,201,202,203,204,205,206,207,208,209,210,211,212,213,214,215,216,217,218,219,220,221,222,223,224,225,226,227,228,229,230,231,232,233,234,235,236,237,238,239,240,241,242,243,244,245,246,247,248,249,250,251],\"landmark\":[0,1,2,3,4,5,6,7,8,9,10,11,12,13,14,15,16,17,18,19,20,21,22,23,24,25,26,27,28,29,30,31,33,34,35,36,37,38,39,40,41,42,44,45,46,47,48,49,50,51,52,53,55,56,57,58,59,61,62,63,64,66,67,69,70,71,72,74,75,76,77,78,81,82,83,84,85,86,89,90,91,92,93,94,95,96,97,98,99,100,101,102,103,104,105,106,107,109,110,111,112,113,114,115,116,117,118,119,120,121,122,123,124,125,126,127,128,129,130,131,132,133,134,136,137,138,139,140,141,142,143,144,146,147,148,149,150,152,153,154,155,156,157,158,159,160,161,162,163,164,165,166,167,168,169,170,171,172,173,174,175,176,177,178,179,180,182,183,184,185,186,188,189,190,192,193,194,195,196,197,200,202,203,204,205,206,207,208,209,210,211,212,213,214,215,216,217,218,219,220,221,222,223,224,225,226,227,228,229,230,231,232,233,234,235,236,237,238,239,240,241,242,243,244,245,246,247,248,249,250,251,252,253,254,255,256,257,258,259,260,261,262,263,264,265,266,267,268,269,270,271],\"points covered\":[[0],[1],[2],[3],[4],[5],[6],[7],[8],[9],[10],[11,32,88,145],[12,79,181],[13],[14],[15,54,65],[16,68,151,198,201],[17],[18],[19],[20],[21],[22],[23],[24],[25],[26],[27],[28],[29],[30,43,145,191],[31,32],[33],[34],[35],[36,108],[37],[38],[39],[40],[41],[42],[44],[45],[46],[47],[48],[49],[50,68],[51],[52],[53],[55,60,65,79],[56],[57],[58],[59,68],[61],[62],[63],[64],[54,65,66,79,87],[67],[69],[70],[71],[72,73],[74],[75],[76],[77],[78,79,80],[81],[82],[83,88],[84],[85],[86],[89],[90],[91],[92],[93],[94],[95],[96],[97],[98],[99],[100],[101],[102],[103],[104],[105],[106],[107],[109],[110],[111],[112],[113],[114],[115],[116],[117],[118],[65,119],[120],[121],[122],[123],[124],[125],[126],[127],[128],[129],[130],[131],[68,132,187],[68,133,135,199],[134,187,199],[136],[137],[138],[139],[140],[141],[142],[143],[144],[146],[147],[148],[149],[150],[152],[153],[154],[155],[156],[157],[158],[159],[160],[161],[162],[163],[164],[165],[166],[167],[168],[169],[170],[171],[172],[173],[174],[175],[176],[177],[178],[179],[180],[182],[183],[184],[185],[186],[188],[189],[145,190],[43,88,145,192],[193],[194],[195],[196],[197],[200],[202],[203],[204],[205],[206],[207],[208],[209],[210],[211],[65,68,212],[213],[214],[215],[216],[217],[218],[219],[220],[221],[222],[223],[224],[225],[226],[227],[228],[229],[230],[231],[145,232],[233],[234],[235],[236],[237],[238],[239],[240],[241],[242],[243],[244],[245],[246],[247],[248],[249],[250],[251],[252],[253],[254],[255],[256],[257],[258],[259],[260],[261],[262],[263],[264],[265],[266],[267],[268],[269],[270],[271]],\"size\":[1,1,1,1,1,1,1,1,1,1,1,4,3,1,1,3,5,1,1,1,1,1,1,1,1,1,1,1,1,1,4,2,1,1,1,2,1,1,1,1,1,1,1,1,1,1,1,1,2,1,1,1,4,1,1,1,2,1,1,1,1,5,1,1,1,1,2,1,1,1,1,3,1,1,2,1,1,1,1,1,1,1,1,1,1,1,1,1,1,1,1,1,1,1,1,1,1,1,1,1,1,1,1,1,1,1,1,2,1,1,1,1,1,1,1,1,1,1,1,1,3,4,3,1,1,1,1,1,1,1,1,1,1,1,1,1,1,1,1,1,1,1,1,1,1,1,1,1,1,1,1,1,1,1,1,1,1,1,1,1,1,1,1,1,1,1,1,1,1,1,1,1,1,2,4,1,1,1,1,1,1,1,1,1,1,1,1,1,1,1,1,3,1,1,1,1,1,1,1,1,1,1,1,1,1,1,1,1,1,1,1,2,1,1,1,1,1,1,1,1,1,1,1,1,1,1,1,1,1,1,1,1,1,1,1,1,1,1,1,1,1,1,1,1,1,1,1,1,1,1,1],\"size rescaled\":[11.0,11.0,11.0,11.0,11.0,11.0,11.0,11.0,11.0,11.0,11.0,23.0,19.0,11.0,11.0,19.0,27.0,11.0,11.0,11.0,11.0,11.0,11.0,11.0,11.0,11.0,11.0,11.0,11.0,11.0,23.0,15.0,11.0,11.0,11.0,15.0,11.0,11.0,11.0,11.0,11.0,11.0,11.0,11.0,11.0,11.0,11.0,11.0,15.0,11.0,11.0,11.0,23.0,11.0,11.0,11.0,15.0,11.0,11.0,11.0,11.0,27.0,11.0,11.0,11.0,11.0,15.0,11.0,11.0,11.0,11.0,19.0,11.0,11.0,15.0,11.0,11.0,11.0,11.0,11.0,11.0,11.0,11.0,11.0,11.0,11.0,11.0,11.0,11.0,11.0,11.0,11.0,11.0,11.0,11.0,11.0,11.0,11.0,11.0,11.0,11.0,11.0,11.0,11.0,11.0,11.0,11.0,15.0,11.0,11.0,11.0,11.0,11.0,11.0,11.0,11.0,11.0,11.0,11.0,11.0,19.0,23.0,19.0,11.0,11.0,11.0,11.0,11.0,11.0,11.0,11.0,11.0,11.0,11.0,11.0,11.0,11.0,11.0,11.0,11.0,11.0,11.0,11.0,11.0,11.0,11.0,11.0,11.0,11.0,11.0,11.0,11.0,11.0,11.0,11.0,11.0,11.0,11.0,11.0,11.0,11.0,11.0,11.0,11.0,11.0,11.0,11.0,11.0,11.0,11.0,11.0,11.0,11.0,15.0,23.0,11.0,11.0,11.0,11.0,11.0,11.0,11.0,11.0,11.0,11.0,11.0,11.0,11.0,11.0,11.0,11.0,19.0,11.0,11.0,11.0,11.0,11.0,11.0,11.0,11.0,11.0,11.0,11.0,11.0,11.0,11.0,11.0,11.0,11.0,11.0,11.0,15.0,11.0,11.0,11.0,11.0,11.0,11.0,11.0,11.0,11.0,11.0,11.0,11.0,11.0,11.0,11.0,11.0,11.0,11.0,11.0,11.0,11.0,11.0,11.0,11.0,11.0,11.0,11.0,11.0,11.0,11.0,11.0,11.0,11.0,11.0,11.0,11.0,11.0,11.0,11.0]},\"selected\":{\"id\":\"1058\"},\"selection_policy\":{\"id\":\"1057\"}},\"id\":\"1021\",\"type\":\"ColumnDataSource\"},{\"attributes\":{},\"id\":\"1012\",\"type\":\"SaveTool\"},{\"attributes\":{\"coordinates\":null,\"data_source\":{\"id\":\"1021\"},\"glyph\":{\"id\":\"1029\"},\"group\":null,\"hover_glyph\":null,\"view\":{\"id\":\"1023\"}},\"id\":\"1022\",\"type\":\"GlyphRenderer\"},{\"attributes\":{\"coordinates\":null,\"edge_renderer\":{\"id\":\"1026\"},\"group\":null,\"inspection_policy\":{\"id\":\"1056\"},\"layout_provider\":{\"id\":\"1028\"},\"node_renderer\":{\"id\":\"1022\"},\"selection_policy\":{\"id\":\"1055\"}},\"id\":\"1019\",\"type\":\"GraphRenderer\"},{\"attributes\":{},\"id\":\"1011\",\"type\":\"ResetTool\"},{\"attributes\":{},\"id\":\"1058\",\"type\":\"Selection\"},{\"attributes\":{\"data\":{\"end\":[31,32,75,174,175,212,53,62,72,53,62,108,192,49,57,121,122,192,174,175,212,57,121,122,192,62,72,108,192,121,122,192,72,108,192,175,192,122,123,192,123,192,175,212,212],\"start\":[12,12,12,12,12,12,13,13,13,16,16,16,16,17,17,17,17,17,31,31,31,49,49,49,49,53,53,53,53,57,57,57,62,62,62,75,108,121,121,121,122,122,174,174,175]},\"selected\":{\"id\":\"1060\"},\"selection_policy\":{\"id\":\"1059\"}},\"id\":\"1025\",\"type\":\"ColumnDataSource\"},{\"attributes\":{\"start\":-1},\"id\":\"1004\",\"type\":\"Range1d\"},{\"attributes\":{\"source\":{\"id\":\"1021\"}},\"id\":\"1023\",\"type\":\"CDSView\"},{\"attributes\":{},\"id\":\"1043\",\"type\":\"LinearScale\"},{\"attributes\":{},\"id\":\"1060\",\"type\":\"Selection\"},{\"attributes\":{\"coordinates\":null,\"data_source\":{\"id\":\"1025\"},\"glyph\":{\"id\":\"1034\"},\"group\":null,\"hover_glyph\":null,\"view\":{\"id\":\"1027\"}},\"id\":\"1026\",\"type\":\"GlyphRenderer\"},{\"attributes\":{},\"id\":\"1055\",\"type\":\"NodesOnly\"},{\"attributes\":{\"source\":{\"id\":\"1025\"}},\"id\":\"1027\",\"type\":\"CDSView\"},{\"attributes\":{\"start\":-1},\"id\":\"1003\",\"type\":\"Range1d\"},{\"attributes\":{\"line_alpha\":{\"value\":0.8}},\"id\":\"1034\",\"type\":\"MultiLine\"},{\"attributes\":{},\"id\":\"1009\",\"type\":\"WheelZoomTool\"},{\"attributes\":{\"coordinates\":null,\"group\":null},\"id\":\"1045\",\"type\":\"Title\"},{\"attributes\":{\"graph_layout\":{\"1\":[-0.0997031759771268,0.9850914090921273],\"10\":[-0.0063030525336849295,-0.9534839381066121],\"100\":[0.8246274017500981,0.5635386438387864],\"101\":[0.43392881958824603,-0.8965384693459777],\"102\":[-0.4765223202649752,0.8770433871168046],\"103\":[0.23858263657198622,-0.97900328021721],\"104\":[-0.9362452998508801,0.30317786632873667],\"105\":[-0.9072494494596535,-0.4606721217809259],\"106\":[0.17067811815026065,0.9273486644322455],\"107\":[0.5779774582567256,-0.7833505385729098],\"108\":[0.03188613860031353,0.01661533115394213],\"109\":[-0.5010045690541748,0.8190742040572091],\"11\":[0.2620363366809688,-0.949579327517041],\"110\":[0.31997517909930073,0.9231653664626863],\"111\":[0.8385753535227568,0.43343919837060485],\"112\":[-0.9524044384638684,-0.2550106649880891],\"113\":[-0.7560310539306775,-0.612656429783013],\"114\":[0.9852231530188621,-0.19405267874780216],\"115\":[0.9809155367910931,0.11930576047648386],\"116\":[0.9471416614400363,-0.20172686727173195],\"117\":[0.5141299016034763,-0.7699666495170924],\"118\":[-0.7178868110091491,0.6571881028663342],\"119\":[-0.3121086847614737,-0.9592210091869525],\"12\":[-0.06438083196665326,-0.12256194354029769],\"120\":[0.5373071068876274,-0.8196281244551659],\"121\":[0.026309354019464336,0.048666433930968325],\"122\":[0.020038167631203464,0.05099617669683701],\"123\":[0.02601715165229871,0.06579546545638638],\"124\":[-0.02204394631764929,0.9916095028282094],\"125\":[0.8677848350727754,0.5316928505942703],\"126\":[-0.8169888845800237,-0.4850738131201085],\"127\":[0.8632124596560476,-0.4824671498100479],\"128\":[-0.9531758680759215,0.1597731548284787],\"129\":[0.9722809292572971,0.23143677153668277],\"13\":[0.046394534427647995,-0.004378006026862678],\"130\":[0.10523461004935154,-0.9839256388569666],\"131\":[0.20210912031288686,0.9784855373952431],\"132\":[-0.96901848901887,-0.06784215831764645],\"133\":[0.8936093952549526,0.4341263265012541],\"134\":[0.7658888771303264,0.5830379813020528],\"135\":[-0.44993163434050143,-0.8460372052052251],\"136\":[0.6764480351462226,0.7232659363735717],\"137\":[0.5409756777999546,0.8512463311540954],\"138\":[0.8271105243795938,-0.3934850480208214],\"139\":[0.9280834950294761,0.2943019600950398],\"14\":[-0.9529842429734405,-0.12812646506324366],\"140\":[0.41599708315299216,0.878649347880791],\"141\":[0.9107185122812987,-0.39662952328743983],\"142\":[-0.08894760251154818,-0.9861979888803796],\"143\":[0.059244190914088966,-0.9989257776877163],\"144\":[-0.8289481161604183,0.2004441900761215],\"145\":[-0.873081695160076,0.36837713425830454],\"146\":[-0.7135224013072923,-0.7446411918185918],\"147\":[0.8784580090927204,-0.43554247131492496],\"148\":[-0.9736307825103441,0.033801392789804895],\"149\":[0.7027438060223887,-0.6952130503854824],\"15\":[0.182604121855182,-0.9836535473747899],\"150\":[0.3005985082733762,-0.9487457495090577],\"151\":[-0.9818540624518913,-0.11027000451877458],\"152\":[0.29575324368045647,0.8837965557063866],\"153\":[0.2921220505186081,0.9592463150156401],\"154\":[0.4150609243469689,-0.8490456650173399],\"155\":[0.7633214257393544,-0.6225396180369672],\"156\":[-0.025208528619044056,-0.9921307359852337],\"157\":[-0.706107838329825,0.7437850181577967],\"158\":[0.8505301132422645,0.49283598607386137],\"159\":[-0.058617901917296614,-0.9738004073041601],\"16\":[0.02552744828832241,0.010625281819849857],\"160\":[-0.8315595877564507,-0.531676255133904],\"161\":[0.050181514108202256,0.9447220228648892],\"162\":[0.6516847945826768,-0.7134287227255002],\"163\":[0.94892195325075,0.33337152851884444],\"164\":[0.6565306932110408,0.6610383787039217],\"165\":[-0.3092837644911986,-0.9095111551858261],\"166\":[-0.3716832264426353,0.8838047564020292],\"167\":[-0.8702743231371707,-0.5350886435519033],\"168\":[-0.6368515777688996,-0.8080502946280373],\"169\":[0.9042642761731134,0.39521077805061094],\"17\":[0.014379499865016052,0.03869691931758678],\"170\":[0.01887877955370368,-0.9885958272263122],\"171\":[-0.22497681983907486,-0.8889823839497532],\"172\":[-0.8952201075877009,-0.36950736959972535],\"173\":[-0.5857098531922632,0.7262088435475705],\"174\":[-0.06318163188024457,-0.1063501024464084],\"175\":[-0.06825877523776099,-0.11367988783853437],\"176\":[0.012226318558527743,0.9716060527895773],\"177\":[0.4921176783435551,-0.8522482882255074],\"178\":[-0.9519826976844507,0.2647398036480199],\"179\":[-0.9916831198164403,0.06453405698698697],\"18\":[0.8957385922550636,0.4744505747366117],\"180\":[0.9922585940224549,0.08241725529221038],\"181\":[-0.4361867032386516,0.8292517661632687],\"182\":[-0.8007858598872303,0.44201855408471125],\"183\":[0.9685832914815251,-0.24479991261816614],\"184\":[0.7800119283135867,0.6619411312521746],\"185\":[-0.5732704613630787,-0.8295404865220607],\"186\":[-0.533251302663177,-0.8758199940327368],\"187\":[-0.9264550743842892,0.33898031078485147],\"188\":[-0.9291414496310898,-0.3517231373111923],\"189\":[0.6071656398316915,-0.8247463984626451],\"19\":[-0.4360070482984419,-0.8938662052451597],\"190\":[0.8214273359430546,-0.5466116927016734],\"191\":[-0.8652570259722356,0.467871741946571],\"192\":[0.026185895858561636,0.028877942441173834],\"193\":[0.5036447511956632,0.8383751422863396],\"194\":[-0.5904209869982299,-0.7857668719758301],\"195\":[0.5493650847084534,0.8133699127056939],\"196\":[0.9994264562493276,-0.11534042245010571],\"197\":[-0.2528189017573492,0.9264783248343945],\"198\":[-0.23007786068003305,0.96175632404546],\"199\":[0.9422048228691614,-0.27848039014277054],\"2\":[0.8954505693014164,0.34129466904847944],\"20\":[0.8107993400877999,-0.4967539482867547],\"200\":[0.7147635639825263,0.6644661750771816],\"201\":[-0.5582711805168978,0.835789016943631],\"202\":[0.09004375020786697,0.9620606811663837],\"203\":[-0.3219468799920741,0.9300228135305625],\"204\":[-0.12461924980607172,-0.9980253191374777],\"205\":[0.7056888174427693,-0.7390692020149834],\"206\":[-0.28368257148519377,0.9521106598699784],\"207\":[0.9967926271140057,0.03252101896038843],\"208\":[0.6905330474106205,-0.6385226732472342],\"209\":[-0.7768903722806477,-0.5613283501349351],\"21\":[-0.950735296508927,-0.21680827427496832],\"210\":[0.45624526070966104,0.849586140555075],\"211\":[0.7567511952220718,0.6317759214649692],\"212\":[-0.05594735482379197,-0.10911229302087118],\"213\":[-0.987523661419571,-0.003785662680022368],\"214\":[-0.06041874758854479,0.9757023174886769],\"215\":[-0.270423069580971,-0.9510285198887658],\"216\":[-0.7670543201578839,0.6187566465469567],\"217\":[0.34381910904915364,-0.9305737619658362],\"218\":[-0.903100302761369,0.4047652629922301],\"219\":[-0.8971510691574416,0.4441958722685433],\"22\":[-0.8104987255277895,0.6152928759542738],\"220\":[0.47222960338894715,-0.8832490641585025],\"221\":[-0.4224320977971566,0.924315960317802],\"222\":[-0.5258507437412954,-0.7848129225026815],\"223\":[0.4228956467762557,0.9131429288762033],\"224\":[0.9718379640656366,0.2796605769976002],\"225\":[-0.16867089005317476,-0.9782057397814614],\"226\":[0.9635494005410338,0.06287861350283755],\"227\":[-0.14179470675764155,0.9709770479829967],\"228\":[-0.9642031782737794,-0.16209161549995083],\"229\":[-0.9774396805087363,-0.1934658944769823],\"23\":[-0.6547074647169424,0.6969972301601075],\"230\":[-0.7495068422870559,-0.6880743573947379],\"231\":[-0.9544106961026646,0.2231515222324183],\"232\":[0.930643323360017,0.24017939495531096],\"233\":[0.9525491187216091,-0.31527621773858444],\"234\":[-0.4279184282808231,0.8846557606882565],\"235\":[-0.3650748442860163,0.9334465141161961],\"236\":[-0.7736375255359605,0.6770520201670722],\"237\":[-0.8470970421857057,0.55690454418144],\"238\":[0.055612503036353345,0.9952796971387302],\"239\":[-0.9796111237669226,0.10048013143967732],\"24\":[-0.9034399927251259,0.06572616231784033],\"240\":[0.9999999999999999,-0.0300994617444402],\"241\":[0.5663031560589789,0.7657280695141587],\"242\":[-0.30171510893173814,0.8787415414933366],\"243\":[0.12221225985077679,0.9735242786301995],\"244\":[-0.9143829573559619,-0.4072229186468118],\"245\":[0.817808479810965,0.6090882777023003],\"246\":[-0.033071166361666814,0.9270012435405124],\"247\":[-0.6755390167605044,-0.7077899163201158],\"248\":[0.14928277441221705,-0.927891021867056],\"249\":[0.1425394656486198,-0.9840070939075064],\"25\":[0.20957984041811847,-0.9512299069437791],\"250\":[0.6908859297323111,0.7688536280191763],\"251\":[0.9428746634496349,-0.11755412510795665],\"26\":[0.9351612793926178,0.38458561535292257],\"27\":[0.6376041881241006,0.7909050044577406],\"28\":[0.15957448125087145,0.9730651478103374],\"29\":[-0.8175221776987559,-0.5811349630246829],\"3\":[-0.6548235428014653,-0.7558108245364306],\"30\":[-0.9494055890677983,-0.3041544073035456],\"31\":[-0.05436505638604945,-0.11609224758952358],\"32\":[-0.0654465761336972,-0.14157065121365062],\"33\":[-0.9104298676451205,0.257778689281596],\"34\":[-0.6164372917101774,0.7729116809219886],\"35\":[-0.5241500102968367,0.8759090978190146],\"36\":[0.6196024579204874,-0.7730981344645657],\"37\":[-0.9385542459746065,0.3741332095127195],\"38\":[0.624244927829604,0.7377527638431643],\"39\":[0.5402105397320962,-0.8519934702456468],\"4\":[-0.8700497758433675,0.5096669327339134],\"40\":[-0.2025374798452647,-0.9653535247483153],\"41\":[0.9708650723004899,0.15561879501918244],\"42\":[-0.2377342236115844,-0.9702725577173265],\"43\":[-0.613282999065872,-0.7355953052124625],\"44\":[0.8037496137703477,0.5263563961788961],\"45\":[0.9744252238673893,-0.15254003065461547],\"46\":[-0.8040562999796714,0.5666811685774303],\"47\":[0.960703971039023,-0.04203827034785499],\"48\":[0.9001217009917956,-0.34000568420150057],\"49\":[0.023067657372372447,0.04096429912124022],\"5\":[0.36891002824005587,0.8747618741041067],\"50\":[-0.8033378172989613,-0.6323771580671953],\"51\":[-0.9757843274705955,0.19299833886437345],\"52\":[-0.8962349082165193,-0.2528977256686935],\"53\":[0.040738258742148925,0.011550056328589579],\"54\":[-0.1890818014268285,0.9359799942042046],\"55\":[-0.47907231592401117,-0.8826075976822298],\"56\":[-0.5165400210919002,-0.8390632935554142],\"57\":[0.01384283336342155,0.04524181697171027],\"58\":[0.22867559902218434,0.9516869516318373],\"59\":[0.6532459783785887,-0.7525099080108225],\"6\":[-0.6154766219969401,0.8204518191993038],\"60\":[0.9830688148842003,-0.07797108040291331],\"61\":[0.4766793644496047,0.8779141743001698],\"62\":[0.036292756996612684,0.006582528060362732],\"63\":[-0.8642597933916731,-0.41767358152793427],\"64\":[0.5938907238880624,0.8009508188398344],\"65\":[-0.9952141646384669,-0.05632823956546184],\"66\":[-0.13481747432378896,-0.9568973344005403],\"67\":[-0.8646876803899072,-0.47111632477146853],\"68\":[0.9365011304723844,-0.359665154305163],\"69\":[-0.11415624233900605,0.9353447733555396],\"7\":[0.73892784913883,-0.6694577069224918],\"70\":[-0.18405600606579328,0.9778577380638934],\"71\":[0.8635975164192152,-0.5279884079865658],\"72\":[0.052766141950642075,0.002601022535714767],\"73\":[-0.38843901860527563,-0.928440909581694],\"74\":[0.9001508763608569,-0.2514096694768239],\"75\":[-0.07952222821462204,-0.1213179083087208],\"76\":[0.8137517248207845,-0.5893898350269743],\"77\":[-0.9198717912483871,-0.3059276261597915],\"78\":[0.9112071019261992,-0.451030562016678],\"79\":[0.2572755695211369,0.926448364535076],\"8\":[-0.7404614624345744,-0.6607051661838342],\"80\":[-0.5566531040871864,0.7902122981376265],\"81\":[-0.7274076885271773,0.5937109381342647],\"82\":[0.9275402302233092,0.1477711968739807],\"83\":[-0.7162393106572121,0.6993064155764225],\"84\":[-0.39613031044166,-0.8951051890758172],\"85\":[-0.9816985882734788,0.13847361044766088],\"86\":[0.3847487688252843,-0.9343082213689045],\"87\":[0.06874455449359178,-0.962948939657945],\"88\":[0.38955440335596486,-0.9005383450776607],\"89\":[0.7673911566320507,-0.5719568174651516],\"9\":[-0.9411013920650152,-0.024051869045580845],\"90\":[0.78815154549739,-0.6480610417470412],\"91\":[-0.34805885877123016,-0.9262546193407639],\"92\":[0.728963933002319,0.7050865649020311],\"93\":[-0.8097682773836438,0.5115736209336669],\"94\":[0.9730131202224154,0.00568504417385687],\"95\":[0.30739588372184046,-0.9120434939147853],\"96\":[-0.6610931778196291,0.7608222416310095],\"97\":[0.971213264740764,0.19289895491170658],\"98\":[-0.6883366225033033,-0.6549369697805998],\"99\":[0.36368133171284245,0.9214858493848535]}},\"id\":\"1028\",\"type\":\"StaticLayoutProvider\"},{\"attributes\":{},\"id\":\"1056\",\"type\":\"NodesOnly\"}],\"root_ids\":[\"1005\"]},\"title\":\"Bokeh Application\",\"version\":\"2.4.3\"}};\n  const render_items = [{\"docid\":\"c8764983-da15-4cac-8286-5285b1f9ffa5\",\"root_ids\":[\"1005\"],\"roots\":{\"1005\":\"8fd394c6-f1f6-4fbf-8411-d34690dbeed6\"}}];\n  root.Bokeh.embed.embed_items_notebook(docs_json, render_items);\n  }\n  if (root.Bokeh !== undefined) {\n    embed_document(root);\n  } else {\n    let attempts = 0;\n    const timer = setInterval(function(root) {\n      if (root.Bokeh !== undefined) {\n        clearInterval(timer);\n        embed_document(root);\n      } else {\n        attempts++;\n        if (attempts > 100) {\n          clearInterval(timer);\n          console.log(\"Bokeh: ERROR: Unable to run BokehJS code because BokehJS library is missing\");\n        }\n      }\n    }, 10, root)\n  }\n})(window);",
      "application/vnd.bokehjs_exec.v0+json": ""
     },
     "metadata": {
      "application/vnd.bokehjs_exec.v0+json": {
       "id": "1005"
      }
     },
     "output_type": "display_data"
    }
   ],
   "source": [
    "EPS = 10\n",
    "\n",
    "X = nki_cleaned_df[nki_cleaned_df.columns[17:]]\n",
    "\n",
    "nki_bm = BallMapper(points = X.values, # the pointcloud, as a numpy array\n",
    "                    epsilon = EPS,\n",
    "                    dbg=True) # the radius of the balls\n",
    "\n",
    "my_red_palette = cm.get_cmap(name='Reds')\n",
    "nki_bm.add_coloring(coloring_df=nki_cleaned_df[['eventdeath', 'esr1']])\n",
    "\n",
    "euclidean_gui = graph_GUI(nki_bm.Graph,\n",
    "                          my_red_palette,\n",
    "                          ['eventdeath', 'esr1'])\n",
    "euclidean_gui.color_by_variable('eventdeath')\n",
    "\n",
    "\n",
    "show(euclidean_gui.plot)"
   ]
  },
  {
   "cell_type": "markdown",
   "metadata": {},
   "source": [
    "## Cosine distance"
   ]
  },
  {
   "cell_type": "markdown",
   "metadata": {},
   "source": [
    "But if we use the cosine distance we see two clusters"
   ]
  },
  {
   "cell_type": "code",
   "execution_count": 8,
   "metadata": {},
   "outputs": [],
   "source": [
    "from scipy.spatial.distance import cosine"
   ]
  },
  {
   "cell_type": "code",
   "execution_count": 9,
   "metadata": {},
   "outputs": [
    {
     "name": "stdout",
     "output_type": "stream",
     "text": [
      "using custom distance <function cosine at 0x168833a30>\n",
      "Finding vertices...\n"
     ]
    },
    {
     "data": {
      "application/vnd.jupyter.widget-view+json": {
       "model_id": "3ada346891ed43b8b79027bdefd1a9d9",
       "version_major": 2,
       "version_minor": 0
      },
      "text/plain": [
       "  0%|          | 0/272 [00:00<?, ?it/s]"
      ]
     },
     "metadata": {},
     "output_type": "display_data"
    },
    {
     "name": "stdout",
     "output_type": "stream",
     "text": [
      "Computing points_covered_by_landmarks...\n"
     ]
    },
    {
     "data": {
      "application/vnd.jupyter.widget-view+json": {
       "model_id": "6e56f97549094feb9a9504ea3db7cd10",
       "version_major": 2,
       "version_minor": 0
      },
      "text/plain": [
       "  0%|          | 0/193 [00:00<?, ?it/s]"
      ]
     },
     "metadata": {},
     "output_type": "display_data"
    },
    {
     "name": "stdout",
     "output_type": "stream",
     "text": [
      "Finding edges...\n"
     ]
    },
    {
     "data": {
      "application/vnd.jupyter.widget-view+json": {
       "model_id": "d8cf7374afde4ed9b5551979ac05cd6c",
       "version_major": 2,
       "version_minor": 0
      },
      "text/plain": [
       "0it [00:00, ?it/s]"
      ]
     },
     "metadata": {},
     "output_type": "display_data"
    },
    {
     "name": "stdout",
     "output_type": "stream",
     "text": [
      "Creating Ball Mapper graph...\n",
      "Done\n",
      "color by variable eventdeath \n",
      "MIN_VALUE: 0.000, MAX_VALUE: 1.000\n"
     ]
    },
    {
     "data": {
      "text/html": [
       "\n",
       "  <div class=\"bk-root\" id=\"226ff2fb-9ce9-433a-a662-7823b84ede22\" data-root-id=\"1173\"></div>\n"
      ]
     },
     "metadata": {},
     "output_type": "display_data"
    },
    {
     "data": {
      "application/javascript": "(function(root) {\n  function embed_document(root) {\n  const docs_json = {\"b37db046-6b3b-4c35-9282-2a65da43823d\":{\"defs\":[],\"roots\":{\"references\":[{\"attributes\":{\"output_backend\":\"svg\",\"renderers\":[{\"id\":\"1187\"}],\"title\":{\"id\":\"1231\"},\"toolbar\":{\"id\":\"1181\"},\"width\":800,\"x_range\":{\"id\":\"1171\"},\"x_scale\":{\"id\":\"1229\"},\"y_range\":{\"id\":\"1172\"},\"y_scale\":{\"id\":\"1230\"}},\"id\":\"1173\",\"type\":\"Plot\"},{\"attributes\":{},\"id\":\"1179\",\"type\":\"ResetTool\"},{\"attributes\":{\"coordinates\":null,\"group\":null},\"id\":\"1231\",\"type\":\"Title\"},{\"attributes\":{\"line_alpha\":{\"value\":0.8}},\"id\":\"1202\",\"type\":\"MultiLine\"},{\"attributes\":{},\"id\":\"1178\",\"type\":\"PanTool\"},{\"attributes\":{\"fill_alpha\":{\"value\":0.8},\"fill_color\":{\"field\":\"color\"},\"size\":{\"field\":\"size rescaled\"}},\"id\":\"1197\",\"type\":\"Circle\"},{\"attributes\":{\"coordinates\":null,\"data_source\":{\"id\":\"1189\"},\"glyph\":{\"id\":\"1197\"},\"group\":null,\"hover_glyph\":null,\"view\":{\"id\":\"1191\"}},\"id\":\"1190\",\"type\":\"GlyphRenderer\"},{\"attributes\":{},\"id\":\"1241\",\"type\":\"NodesOnly\"},{\"attributes\":{},\"id\":\"1243\",\"type\":\"UnionRenderers\"},{\"attributes\":{},\"id\":\"1177\",\"type\":\"WheelZoomTool\"},{\"attributes\":{\"source\":{\"id\":\"1193\"}},\"id\":\"1195\",\"type\":\"CDSView\"},{\"attributes\":{\"graph_layout\":{\"1\":[-0.10827389282859054,-0.06619014754020493],\"10\":[-0.39884889021263936,-0.8513094721360116],\"100\":[0.6236816059376589,0.7359807450341336],\"101\":[-0.08047622580990978,-0.11941227490092343],\"102\":[-0.45905387165147693,0.882211508115059],\"103\":[0.46284144744672884,0.19670674951931313],\"104\":[-0.9235496474313756,0.35668104312023075],\"105\":[-0.14247916374452216,-0.06040913665580772],\"106\":[0.08254893706645193,0.9226784803566644],\"107\":[-0.7120580408362828,-0.06792295906248495],\"108\":[0.47204512489747863,-0.814047425271035],\"109\":[-0.49998682061340327,0.8181312092411871],\"11\":[-0.18020132661174812,-0.031257908915357936],\"110\":[0.13965515134140116,0.9466768281691308],\"111\":[0.6958856306077339,0.5833053647999432],\"112\":[-0.9741367001820281,-0.17118263485451327],\"113\":[-0.8105063962645543,-0.5315675977311767],\"114\":[0.9541391459824302,-0.10326233431854885],\"115\":[0.9311105343575854,0.17277288812469022],\"116\":[0.9265096678268686,-0.001567983980782171],\"117\":[0.7213012438009752,-0.5163598396934203],\"118\":[-0.17117034904973324,0.01395166750082316],\"119\":[-0.30554439398663547,-0.9432133816799105],\"12\":[-0.8458947839300384,-0.44228045714891917],\"120\":[0.1834227723364361,-0.928731198365186],\"121\":[0.1308148751441452,0.1285467042144689],\"122\":[0.9201953603899516,-0.24315792422523555],\"123\":[-0.8345613886434199,0.5968708593101208],\"124\":[-0.19036813733530827,0.9643209221374542],\"125\":[0.4581564113471605,0.1799169921775478],\"126\":[-0.9179761543651545,-0.2528160884527029],\"127\":[0.7634957478176284,-0.559613869817773],\"128\":[-0.9460234088369295,0.22715312887148287],\"129\":[0.915901310732373,0.28736898910436903],\"13\":[-0.2879006036899687,0.9063591970482481],\"130\":[0.08900097406202323,-0.9590665358324918],\"131\":[-0.005842957063256347,0.9823031972434338],\"132\":[-0.9764013196904833,-0.01715936953375212],\"133\":[0.7676150336311437,0.5738619805523356],\"134\":[0.5300392517434956,0.7664556163118453],\"135\":[-0.5473119818797139,-0.7742282377139986],\"136\":[-0.08232671940139627,-0.04662908549558301],\"137\":[0.4433188231326585,0.8752880525185212],\"138\":[0.5489144555510777,0.689357528095409],\"139\":[0.7959343907991172,0.4927135580730809],\"14\":[-0.09038501533841685,-0.08977616064247361],\"140\":[-0.06993689056305862,-0.09831946213250578],\"141\":[0.8703611715537085,-0.3821751556931995],\"142\":[-0.08424410822211262,-0.9639314173450221],\"143\":[0.03919105737011731,-0.9741768863316682],\"144\":[-0.07400271418201833,0.8810588846908431],\"145\":[-0.8454987693930712,0.43911715505910687],\"146\":[-0.7748010517168396,-0.6724877852306909],\"147\":[0.8901807133858685,-0.28607599831659225],\"148\":[-0.979396526809106,0.04032785621488113],\"149\":[0.15745412305128728,0.1309269460692266],\"15\":[-0.0937659911415811,-0.10191382358426783],\"150\":[0.13790255271278484,0.098939919242714],\"151\":[0.45468099916082866,0.18839869063618983],\"152\":[-0.16215662028670752,0.9054120327505787],\"153\":[0.22480901216072394,0.9565195506678471],\"154\":[0.2238761259656781,-0.8760018743940812],\"155\":[0.5797177786529184,-0.7463446507639637],\"156\":[-0.06794521007268524,-0.07245102892144958],\"157\":[-0.7468413601310958,0.7055028368953232],\"158\":[0.673165715409962,0.6666981884943046],\"159\":[-0.13040106215508906,-0.9455769812697729],\"16\":[0.13345483130951738,-0.941148526934606],\"160\":[-0.17257274693765537,-0.031181691474144155],\"161\":[-0.028933533192675207,0.9329841633522115],\"162\":[0.3516003827865797,-0.8582695369493969],\"163\":[0.900972928467487,0.35060941378596755],\"164\":[0.31427247001980363,0.8519387328151216],\"165\":[0.14355053993331998,0.053856997436969554],\"166\":[-0.41285567479670393,0.8612938287857642],\"167\":[-0.8994440420034406,-0.48096606530656383],\"168\":[-0.7127017455494986,-0.7328059806820101],\"169\":[0.853222593852666,0.4160116901260875],\"17\":[-0.1828136935776784,-0.05305873953513883],\"170\":[-0.029275961563783138,-0.9642375775261461],\"171\":[-0.7220242680947546,-0.5524948924540934],\"172\":[-0.052421555107155196,-0.0842830479875381],\"173\":[-0.11557344537771998,-0.1012704167417072],\"174\":[0.14713057732582724,0.03929065044339358],\"175\":[-0.7542465661480964,0.5616942376033456],\"176\":[-0.1047261396981962,0.9546953878506379],\"177\":[0.2902391746374755,-0.905747392748567],\"178\":[-0.9515782188020142,0.2883645435581757],\"179\":[-0.9944062918426034,0.10107334220766216],\"18\":[0.8175626848835208,0.5360890336293932],\"180\":[0.949218316034861,0.09423938976040164],\"181\":[-0.35439257634653726,0.861639782331887],\"182\":[-0.5281140551895969,0.7461945593902941],\"183\":[0.9405838651703207,-0.1654588026832763],\"184\":[0.6896801259328361,0.7105377666623016],\"185\":[-0.6255503825326896,-0.7795205937939735],\"186\":[-0.5825199797261876,-0.8320248123796297],\"187\":[-0.9014038157907602,0.4140918053133291],\"188\":[-0.9464298843079744,-0.30896141144582506],\"189\":[0.48838864538071564,-0.8582837978057117],\"19\":[0.15575957290641804,0.03872048334449399],\"190\":[0.6391821122195078,-0.6942161598554614],\"191\":[-0.8331290688531402,0.5304996774500579],\"192\":[0.17040941269452156,0.05863497176970185],\"193\":[0.3794458847209708,0.8746488875554544],\"2\":[0.8477397099854925,0.3602116173603604],\"20\":[0.82440055737383,-0.3823792763869905],\"21\":[-0.9739940064868101,-0.11385355561722747],\"22\":[0.137133108491834,0.113294962158899],\"23\":[0.4704762766633507,0.18102719811192028],\"24\":[-0.8885228895514299,0.3023882867882848],\"25\":[0.14022282620395093,0.13824819447796627],\"26\":[0.856673529992513,0.46212787079737516],\"27\":[0.5852291328294928,0.7942034115105753],\"28\":[-0.16755514056841453,-0.018403612779134406],\"29\":[-0.14051575574665012,-0.09541038000573833],\"3\":[-0.7837960043093811,-0.6131478761295],\"30\":[-0.9717970379543075,-0.23298601491364027],\"31\":[0.12338829064008663,0.10780876795561009],\"32\":[0.8122442040967885,-0.4710360552822295],\"33\":[-0.9438851521456142,0.12531960796775596],\"34\":[-0.6834648407603775,0.7182219652138213],\"35\":[-0.5504853794419237,0.8574399344660832],\"36\":[0.4157995210875674,-0.8582119913032863],\"37\":[-0.158778707816571,-0.010118772070678033],\"38\":[0.44478049523606744,0.8265473131192533],\"39\":[0.35637522354300427,-0.9059887290293828],\"4\":[-0.8835586079055706,0.49400457063486186],\"40\":[-0.17799585230286588,-0.9510896529760486],\"41\":[0.12929482575256418,0.09619359508748063],\"42\":[-0.2282318184204005,-0.9529910896704231],\"43\":[-0.6899206504919476,-0.6565088783768199],\"44\":[-0.07266795563153665,-0.11728829229957079],\"45\":[0.9422109374693479,-0.048300144464576776],\"46\":[-0.13862649279633468,-0.015315249614477293],\"47\":[0.9132851617299356,0.12433939289915161],\"48\":[0.89926898843345,-0.1980672752833984],\"49\":[0.47958404636321794,-0.7411956321545722],\"5\":[0.18538008920053145,0.9115615640143702],\"50\":[-0.8536218490498945,-0.5562509938670451],\"51\":[-0.10749319748061414,-0.09488303483045488],\"52\":[0.1400432778145187,0.0796177289849126],\"53\":[0.7408956879457882,-0.6114366074845055],\"54\":[0.18288997551799976,0.039323086488057275],\"55\":[-0.5199720792534873,-0.8461433629942542],\"56\":[-0.6512175403573994,-0.7275135762750155],\"57\":[0.7396149139764293,0.6334514755010919],\"58\":[0.05967347753611101,0.9595198529644984],\"59\":[0.5425313322006502,-0.7899278887955302],\"6\":[-0.6419940272208754,0.8003861436905765],\"60\":[0.9435694469299422,0.04261154640644779],\"61\":[0.32665460505371624,0.9169380036836451],\"62\":[-0.46816991421248266,-0.8598436142361893],\"63\":[0.15876444525974445,0.05231270243486457],\"64\":[0.5093147214659024,0.8243337887221108],\"65\":[-1.0,-0.05742191788484246],\"66\":[-0.2668804087562771,-0.9116795051664937],\"67\":[-0.9085709867287173,-0.38044594995823233],\"68\":[0.9005316137997772,-0.33227349599839506],\"69\":[-0.232416651325779,0.9044652861745518],\"7\":[-0.06501584517423606,-0.08813420592370944],\"70\":[-0.3328907545000574,0.9314278758261103],\"71\":[0.8138730608421083,-0.5274982045962815],\"72\":[-0.004472983985116503,-0.9278094483850522],\"73\":[-0.41606473551042955,-0.9009388777686048],\"74\":[0.8861844500947789,-0.10638705618358621],\"75\":[-0.923343383680246,-0.38624036390090805],\"76\":[0.7000570025860203,-0.6621762830702993],\"77\":[-0.12060863371990528,-0.0754107901634299],\"78\":[0.8651477525317572,-0.4469369390409517],\"79\":[0.26070677958705984,0.9054452734616404],\"8\":[0.12161114005323735,0.12503445216866174],\"80\":[-0.6037279664083037,0.755875413803586],\"81\":[-0.6668254564927553,0.6589215148433178],\"82\":[0.8608537230989161,0.25660143462856827],\"83\":[-0.7748279341595624,0.6396332673277939],\"84\":[-0.1909971986801549,-0.0029392103310949534],\"85\":[-0.9809418512682672,0.1816352308656211],\"86\":[0.2379071757304782,-0.949866956473985],\"87\":[0.10323308202316624,0.1229919743988864],\"88\":[-0.05227244150553588,-0.09212039630793235],\"89\":[0.6647791384194517,-0.6295534348321227],\"9\":[0.15122396627568105,0.05559354927226293],\"90\":[0.636839718894664,-0.7444899762976976],\"91\":[-0.352106304565298,-0.908842450429005],\"92\":[0.15490202809659784,0.06541309119438268],\"93\":[-0.11311619953588072,-0.057951664498093754],\"94\":[-0.09607191603480775,-0.05683888852563082],\"95\":[-0.10613942639616807,-0.03083053565640565],\"96\":[-0.7275904660875853,-0.06894531974962942],\"97\":[0.9228987758575741,0.22517731512712172],\"98\":[-0.1561511802098611,-0.04377396466374301],\"99\":[-0.14804971619879806,-0.06692894916352962]}},\"id\":\"1196\",\"type\":\"StaticLayoutProvider\"},{\"attributes\":{},\"id\":\"1244\",\"type\":\"Selection\"},{\"attributes\":{},\"id\":\"1230\",\"type\":\"LinearScale\"},{\"attributes\":{\"start\":-1},\"id\":\"1172\",\"type\":\"Range1d\"},{\"attributes\":{\"active_scroll\":{\"id\":\"1177\"},\"tools\":[{\"id\":\"1178\"},{\"id\":\"1176\"},{\"id\":\"1177\"},{\"id\":\"1179\"},{\"id\":\"1180\"}]},\"id\":\"1181\",\"type\":\"Toolbar\"},{\"attributes\":{},\"id\":\"1180\",\"type\":\"SaveTool\"},{\"attributes\":{\"data\":{\"color\":[\"#fff5f0\",\"#fff5f0\",\"#fff5f0\",\"#fff5f0\",\"#fff5f0\",\"#fff5f0\",\"#fff5f0\",\"#fb694a\",\"#f7593f\",\"#fb694a\",\"#fff5f0\",\"#67000d\",\"#67000d\",\"#fff5f0\",\"#fdcab5\",\"#fff5f0\",\"#fff5f0\",\"#fff5f0\",\"#fb694a\",\"#fff5f0\",\"#67000d\",\"#bc141a\",\"#fb694a\",\"#fff5f0\",\"#fb694a\",\"#fff5f0\",\"#67000d\",\"#fff5f0\",\"#fb694a\",\"#fff5f0\",\"#67000d\",\"#67000d\",\"#67000d\",\"#fb694a\",\"#fb694a\",\"#67000d\",\"#fff5f0\",\"#fb694a\",\"#fff5f0\",\"#fff5f0\",\"#fb694a\",\"#67000d\",\"#fff5f0\",\"#fb694a\",\"#fff5f0\",\"#fff5f0\",\"#fff5f0\",\"#fff5f0\",\"#e32f27\",\"#fff5f0\",\"#fff5f0\",\"#fb694a\",\"#fff5f0\",\"#fff5f0\",\"#fff5f0\",\"#fff5f0\",\"#fff5f0\",\"#fff5f0\",\"#fff5f0\",\"#fff5f0\",\"#fff5f0\",\"#fff5f0\",\"#f24734\",\"#67000d\",\"#fff5f0\",\"#fff5f0\",\"#fff5f0\",\"#fff5f0\",\"#67000d\",\"#fff5f0\",\"#fff5f0\",\"#fff5f0\",\"#fff5f0\",\"#fff5f0\",\"#fff5f0\",\"#fff5f0\",\"#fff5f0\",\"#fff5f0\",\"#67000d\",\"#fff5f0\",\"#67000d\",\"#fff5f0\",\"#fff5f0\",\"#fff5f0\",\"#67000d\",\"#fff5f0\",\"#fb694a\",\"#fff5f0\",\"#fff5f0\",\"#fff5f0\",\"#fff5f0\",\"#e32f27\",\"#fff5f0\",\"#fff5f0\",\"#fff5f0\",\"#fff5f0\",\"#67000d\",\"#fff5f0\",\"#fca082\",\"#fff5f0\",\"#fff5f0\",\"#fff5f0\",\"#fff5f0\",\"#fff5f0\",\"#fff5f0\",\"#67000d\",\"#fff5f0\",\"#fff5f0\",\"#fff5f0\",\"#67000d\",\"#67000d\",\"#67000d\",\"#fff5f0\",\"#fff5f0\",\"#fff5f0\",\"#fff5f0\",\"#fff5f0\",\"#fff5f0\",\"#fff5f0\",\"#67000d\",\"#fca082\",\"#fff5f0\",\"#fff5f0\",\"#fff5f0\",\"#e32f27\",\"#67000d\",\"#fff5f0\",\"#fff5f0\",\"#fff5f0\",\"#fff5f0\",\"#fff5f0\",\"#fff5f0\",\"#fff5f0\",\"#fff5f0\",\"#fff5f0\",\"#fff5f0\",\"#fff5f0\",\"#fff5f0\",\"#fff5f0\",\"#fff5f0\",\"#fff5f0\",\"#67000d\",\"#fff5f0\",\"#67000d\",\"#67000d\",\"#67000d\",\"#fff5f0\",\"#67000d\",\"#fb694a\",\"#67000d\",\"#fca082\",\"#fff5f0\",\"#67000d\",\"#fff5f0\",\"#67000d\",\"#fff5f0\",\"#fff5f0\",\"#fff5f0\",\"#fff5f0\",\"#fff5f0\",\"#fff5f0\",\"#67000d\",\"#fff5f0\",\"#fff5f0\",\"#fcbba1\",\"#fff5f0\",\"#67000d\",\"#67000d\",\"#67000d\",\"#fff5f0\",\"#fff5f0\",\"#fff5f0\",\"#fff5f0\",\"#fca082\",\"#fff5f0\",\"#fff5f0\",\"#fff5f0\",\"#fff5f0\",\"#fff5f0\",\"#fff5f0\",\"#fff5f0\",\"#fff5f0\",\"#fff5f0\",\"#fff5f0\",\"#fff5f0\",\"#67000d\",\"#67000d\",\"#67000d\",\"#67000d\",\"#67000d\",\"#67000d\",\"#67000d\",\"#67000d\"],\"esr1\":[-0.16651400000000002,0.395714,0.2826435,-0.066771,0.121859,0.27341,-0.030847666666666662,-1.13086,-1.247684227272727,-0.142526,-0.037416666666666674,-0.162349,-0.661729,-0.13544266666666668,-0.21510020000000002,-0.048179,0.176033,-0.3873,-1.196523,-0.164632,0.008423,-1.2279322,0.4805865,-0.885781,-0.863345,-0.268419,-1.007845,0.242485,0.1203245,0.352512,-1.2902685,0.006759,-0.147207,-0.03285250000000001,0.0014274999999999982,0.154528,0.32804940000000005,-0.3485925,-0.13603,0.022536,-1.09512,-0.270681,0.438809,0.13105250000000002,-0.582938,0.33570775,-0.648426,0.188991,0.2808353333333333,0.080359,-0.29935233333333333,-1.1999465,0.081947,-1.2777305,-0.300751,-0.597746,0.2949775,-0.18202333333333334,0.209422,0.473494,-0.11351950000000001,-0.051943,-1.2419793181818182,-0.162281,-0.361686,-0.105017,0.2351465,0.043225,-0.891372,0.151557,-0.070873,-0.043293,0.005666,-1.23731,0.046482499999999996,-0.341476,-0.14805844444444444,-0.018613,-0.095563,-0.463737,-0.424719,-0.37353,0.081441,0.2792,-0.170719,-0.028608,-0.8693705,0.2713675,-0.040568,0.338275,0.335091,-1.3175853333333334,-0.03324233333333333,0.20694239999999997,0.14884233333333333,0.123614,0.051452,0.0986345,-0.3402779999999999,-0.417041,0.06036975000000001,-0.255982,-0.372043,-0.110902,-0.149181,-0.185495,0.040646,-0.089822,0.1624735,0.109356,0.247885,-0.494486,-0.228539,0.178182,0.226397,-0.263174,0.033616,0.25305900000000003,0.061767,0.228925,-1.3246836666666668,0.083247,-0.099091,0.522648,0.15379,-1.030526,0.175113,-0.220652,-0.167348,0.178846,-0.084927,-0.05216,0.226498,-0.102944,0.37663,0.30493033333333336,-0.57949,0.351714,-0.867899,0.0112886,0.187085,-0.517116,-0.168443,-1.334223,0.428746,-0.341585,-0.342984,0.232049,-0.641003,-1.2486695,-0.0006910000000000041,-0.036138,0.395972,0.207192,-0.294233,0.2513493333333333,-0.274458,0.13999,0.501602,-0.1074415,-1.233425,0.587983,-0.921313,0.044451500000000005,-1.15146225,0.142405,0.138597,-0.388893,-0.821286,-0.136145,0.114946,0.1650525,-0.706763,-0.9633039999999999,-0.180312,-0.295729,-0.16347,0.059033,-0.034661,-0.132915,0.028529,-0.668578,0.103277,0.151225,0.088049,0.203644,0.040157,-0.049818,-0.204023,0.062265,-0.635322,-1.2398023333333332,-1.063121],\"eventdeath\":[0.0,0.0,0.0,0.0,0.0,0.0,0.0,0.5,0.5454545454545454,0.5,0.0,1.0,1.0,0.0,0.2,0.0,0.0,0.0,0.5,0.0,1.0,0.8,0.5,0.0,0.5,0.0,1.0,0.0,0.5,0.0,1.0,1.0,1.0,0.5,0.5,1.0,0.0,0.5,0.0,0.0,0.5,1.0,0.0,0.5,0.0,0.0,0.0,0.0,0.6666666666666666,0.0,0.0,0.5,0.0,0.0,0.0,0.0,0.0,0.0,0.0,0.0,0.0,0.0,0.5909090909090909,1.0,0.0,0.0,0.0,0.0,1.0,0.0,0.0,0.0,0.0,0.0,0.0,0.0,0.0,0.0,1.0,0.0,1.0,0.0,0.0,0.0,1.0,0.0,0.5,0.0,0.0,0.0,0.0,0.6666666666666666,0.0,0.0,0.0,0.0,1.0,0.0,0.3333333333333333,0.0,0.0,0.0,0.0,0.0,0.0,1.0,0.0,0.0,0.0,1.0,1.0,1.0,0.0,0.0,0.0,0.0,0.0,0.0,0.0,1.0,0.3333333333333333,0.0,0.0,0.0,0.6666666666666666,1.0,0.0,0.0,0.0,0.0,0.0,0.0,0.0,0.0,0.0,0.0,0.0,0.0,0.0,0.0,0.0,1.0,0.0,1.0,1.0,1.0,0.0,1.0,0.5,1.0,0.3333333333333333,0.0,1.0,0.0,1.0,0.0,0.0,0.0,0.0,0.0,0.0,1.0,0.0,0.0,0.25,0.0,1.0,1.0,1.0,0.0,0.0,0.0,0.0,0.3333333333333333,0.0,0.0,0.0,0.0,0.0,0.0,0.0,0.0,0.0,0.0,0.0,1.0,1.0,1.0,1.0,1.0,1.0,1.0,1.0],\"index\":[1,2,3,4,5,6,7,8,9,10,11,12,13,14,15,16,17,18,19,20,21,22,23,24,25,26,27,28,29,30,31,32,33,34,35,36,37,38,39,40,41,42,43,44,45,46,47,48,49,50,51,52,53,54,55,56,57,58,59,60,61,62,63,64,65,66,67,68,69,70,71,72,73,74,75,76,77,78,79,80,81,82,83,84,85,86,87,88,89,90,91,92,93,94,95,96,97,98,99,100,101,102,103,104,105,106,107,108,109,110,111,112,113,114,115,116,117,118,119,120,121,122,123,124,125,126,127,128,129,130,131,132,133,134,135,136,137,138,139,140,141,142,143,144,145,146,147,148,149,150,151,152,153,154,155,156,157,158,159,160,161,162,163,164,165,166,167,168,169,170,171,172,173,174,175,176,177,178,179,180,181,182,183,184,185,186,187,188,189,190,191,192,193],\"landmark\":[0,1,3,4,5,6,7,8,9,10,11,12,14,15,16,17,18,20,21,22,23,24,25,26,27,28,29,30,31,33,34,35,37,38,39,41,44,46,47,50,51,52,55,57,59,60,61,62,64,65,66,67,68,69,70,71,72,75,76,77,78,79,81,82,89,91,95,97,98,100,101,103,104,105,106,107,108,110,111,112,114,115,116,117,118,119,122,126,127,128,129,130,132,133,134,136,137,139,140,141,142,144,146,147,148,149,150,153,156,158,163,164,165,166,167,169,171,172,173,175,177,178,181,183,184,185,186,193,194,195,196,197,200,201,202,203,204,205,206,207,208,209,210,211,212,213,214,215,216,217,221,222,223,225,226,227,229,230,231,232,233,234,235,236,237,239,241,242,243,244,245,247,248,249,250,251,252,253,254,255,256,257,258,259,260,262,263,265,266,268,269,270,271],\"points covered\":[[0,36,180],[1,2],[3,45],[4],[5],[6],[7,63,96],[8,19],[9,13,40,48,49,56,58,84,90,92,120,123,124,125,154,157,168,170,174,179,240,261],[10,264],[11,88,145],[12],[14],[15,54,96],[16,54,87,151,198],[17],[18,83],[20],[13,21,56,90,123,125,174,240],[22],[23],[19,24,53,94,113],[25,42],[26],[27,53],[28],[29],[30,43,88,138,145,190,191,228],[31,32],[33],[19,34,85,94],[35],[37],[38,86],[39,93],[41],[44,143,190,191,192],[46,155],[47],[50],[51,94],[52],[55],[57,198],[59],[43,60,187,192],[61],[62],[64,161,219],[65],[54,66,87],[67,74,94,120,154,170],[68],[69,188],[70],[71],[72,73],[75,109,121],[76],[77],[78,80],[79],[13,40,56,58,74,81,84,90,92,99,102,123,125,154,170,174,176,182,188,240,261,267],[82],[89],[91],[95,152],[97],[98],[100],[101],[103],[104],[105],[106,152],[107],[32,36,54,87,108,131,159,160,180],[110],[111],[112],[114],[115],[116],[117,228],[118],[119],[85,122],[63,126],[127],[128],[129],[48,58,92,130,170,182],[36,132,180],[133,135,180,199,246],[134,187,199],[136,224],[137],[83,88,139,145,160,190],[140,159,160],[141],[142,151,162,198],[144],[146,218],[147],[148,160],[149],[150,224],[153],[156,220],[158],[163],[164],[165],[166],[167],[169],[171],[143,172,189],[173],[175],[19,53,177],[178],[181],[183],[42,184,218],[185],[186],[193],[194],[195],[196],[197],[200],[201],[202],[135,199,203],[204],[205],[206],[63,96,151,198,207],[208],[209],[210],[211],[212],[213],[214],[215],[113,216],[94,217],[42,218,221],[222],[223],[225],[226],[63,135,227],[229],[230],[231],[145,232],[233],[234],[235],[236,238],[13,154,170,237],[239],[241],[242],[243],[244],[245],[63,247],[87,248],[13,49,249],[250],[251],[252],[253],[254],[255],[256],[257],[258],[259],[260],[262],[263],[265],[266],[268],[269],[92,99,270],[271]],\"size\":[3,2,2,1,1,1,3,2,22,2,3,1,1,3,5,1,2,1,8,1,1,5,2,1,2,1,1,8,2,1,4,1,1,2,2,1,5,2,1,1,2,1,1,2,1,4,1,1,3,1,3,6,1,2,1,1,2,3,1,1,2,1,22,1,1,1,2,1,1,1,1,1,1,1,2,1,9,1,1,1,1,1,1,2,1,1,2,2,1,1,1,6,3,5,3,2,1,6,3,1,4,1,2,1,2,1,2,1,2,1,1,1,1,1,1,1,1,3,1,1,3,1,1,1,3,1,1,1,1,1,1,1,1,1,1,3,1,1,1,5,1,1,1,1,1,1,1,1,2,2,3,1,1,1,1,3,1,1,1,2,1,1,1,2,4,1,1,1,1,1,1,2,2,3,1,1,1,1,1,1,1,1,1,1,1,1,1,1,1,1,1,3,1],\"size rescaled\":[9.727272727272727,8.818181818181818,8.818181818181818,7.909090909090909,7.909090909090909,7.909090909090909,9.727272727272727,8.818181818181818,27.0,8.818181818181818,9.727272727272727,7.909090909090909,7.909090909090909,9.727272727272727,11.545454545454547,7.909090909090909,8.818181818181818,7.909090909090909,14.272727272727273,7.909090909090909,7.909090909090909,11.545454545454547,8.818181818181818,7.909090909090909,8.818181818181818,7.909090909090909,7.909090909090909,14.272727272727273,8.818181818181818,7.909090909090909,10.636363636363637,7.909090909090909,7.909090909090909,8.818181818181818,8.818181818181818,7.909090909090909,11.545454545454547,8.818181818181818,7.909090909090909,7.909090909090909,8.818181818181818,7.909090909090909,7.909090909090909,8.818181818181818,7.909090909090909,10.636363636363637,7.909090909090909,7.909090909090909,9.727272727272727,7.909090909090909,9.727272727272727,12.454545454545453,7.909090909090909,8.818181818181818,7.909090909090909,7.909090909090909,8.818181818181818,9.727272727272727,7.909090909090909,7.909090909090909,8.818181818181818,7.909090909090909,27.0,7.909090909090909,7.909090909090909,7.909090909090909,8.818181818181818,7.909090909090909,7.909090909090909,7.909090909090909,7.909090909090909,7.909090909090909,7.909090909090909,7.909090909090909,8.818181818181818,7.909090909090909,15.181818181818182,7.909090909090909,7.909090909090909,7.909090909090909,7.909090909090909,7.909090909090909,7.909090909090909,8.818181818181818,7.909090909090909,7.909090909090909,8.818181818181818,8.818181818181818,7.909090909090909,7.909090909090909,7.909090909090909,12.454545454545453,9.727272727272727,11.545454545454547,9.727272727272727,8.818181818181818,7.909090909090909,12.454545454545453,9.727272727272727,7.909090909090909,10.636363636363637,7.909090909090909,8.818181818181818,7.909090909090909,8.818181818181818,7.909090909090909,8.818181818181818,7.909090909090909,8.818181818181818,7.909090909090909,7.909090909090909,7.909090909090909,7.909090909090909,7.909090909090909,7.909090909090909,7.909090909090909,7.909090909090909,9.727272727272727,7.909090909090909,7.909090909090909,9.727272727272727,7.909090909090909,7.909090909090909,7.909090909090909,9.727272727272727,7.909090909090909,7.909090909090909,7.909090909090909,7.909090909090909,7.909090909090909,7.909090909090909,7.909090909090909,7.909090909090909,7.909090909090909,7.909090909090909,9.727272727272727,7.909090909090909,7.909090909090909,7.909090909090909,11.545454545454547,7.909090909090909,7.909090909090909,7.909090909090909,7.909090909090909,7.909090909090909,7.909090909090909,7.909090909090909,7.909090909090909,8.818181818181818,8.818181818181818,9.727272727272727,7.909090909090909,7.909090909090909,7.909090909090909,7.909090909090909,9.727272727272727,7.909090909090909,7.909090909090909,7.909090909090909,8.818181818181818,7.909090909090909,7.909090909090909,7.909090909090909,8.818181818181818,10.636363636363637,7.909090909090909,7.909090909090909,7.909090909090909,7.909090909090909,7.909090909090909,7.909090909090909,8.818181818181818,8.818181818181818,9.727272727272727,7.909090909090909,7.909090909090909,7.909090909090909,7.909090909090909,7.909090909090909,7.909090909090909,7.909090909090909,7.909090909090909,7.909090909090909,7.909090909090909,7.909090909090909,7.909090909090909,7.909090909090909,7.909090909090909,7.909090909090909,7.909090909090909,7.909090909090909,9.727272727272727,7.909090909090909]},\"selected\":{\"id\":\"1244\"},\"selection_policy\":{\"id\":\"1243\"}},\"id\":\"1189\",\"type\":\"ColumnDataSource\"},{\"attributes\":{\"coordinates\":null,\"data_source\":{\"id\":\"1193\"},\"glyph\":{\"id\":\"1202\"},\"group\":null,\"hover_glyph\":null,\"view\":{\"id\":\"1195\"}},\"id\":\"1194\",\"type\":\"GlyphRenderer\"},{\"attributes\":{},\"id\":\"1242\",\"type\":\"NodesOnly\"},{\"attributes\":{\"source\":{\"id\":\"1189\"}},\"id\":\"1191\",\"type\":\"CDSView\"},{\"attributes\":{\"start\":-1},\"id\":\"1171\",\"type\":\"Range1d\"},{\"attributes\":{},\"id\":\"1245\",\"type\":\"UnionRenderers\"},{\"attributes\":{},\"id\":\"1229\",\"type\":\"LinearScale\"},{\"attributes\":{\"data\":{\"end\":[77,93,94,14,88,140,156,172,22,31,121,19,52,63,92,165,174,192,28,98,160,15,51,77,140,44,51,77,101,140,173,98,63,165,174,25,31,41,52,121,149,150,125,151,121,37,46,84,98,160,77,41,52,87,121,150,46,98,118,52,150,101,140,95,77,173,63,92,150,165,63,92,165,174,192,75,93,94,98,99,105,173,140,156,172,165,192,94,95,136,156,136,107,99,105,160,105,140,125,151,151,156,156,172,172,174],\"start\":[1,1,1,7,7,7,7,7,8,8,8,9,9,9,9,9,9,9,11,11,11,14,14,14,14,15,15,15,15,15,15,17,19,19,19,22,22,22,22,22,22,22,23,23,25,28,28,28,28,28,29,31,31,31,31,31,37,37,37,41,41,44,44,46,51,51,52,52,52,52,54,63,63,63,63,67,77,77,77,77,77,77,88,88,88,92,92,93,94,94,94,95,96,98,98,98,99,101,103,103,125,136,140,140,156,165]},\"selected\":{\"id\":\"1246\"},\"selection_policy\":{\"id\":\"1245\"}},\"id\":\"1193\",\"type\":\"ColumnDataSource\"},{\"attributes\":{},\"id\":\"1246\",\"type\":\"Selection\"},{\"attributes\":{\"coordinates\":null,\"edge_renderer\":{\"id\":\"1194\"},\"group\":null,\"inspection_policy\":{\"id\":\"1242\"},\"layout_provider\":{\"id\":\"1196\"},\"node_renderer\":{\"id\":\"1190\"},\"selection_policy\":{\"id\":\"1241\"}},\"id\":\"1187\",\"type\":\"GraphRenderer\"},{\"attributes\":{\"callback\":null,\"tooltips\":[[\"index\",\"@index\"],[\"size\",\"@size\"],[\"eventdeath\",\"@eventdeath\"],[\"esr1\",\"@esr1\"]]},\"id\":\"1176\",\"type\":\"HoverTool\"}],\"root_ids\":[\"1173\"]},\"title\":\"Bokeh Application\",\"version\":\"2.4.3\"}};\n  const render_items = [{\"docid\":\"b37db046-6b3b-4c35-9282-2a65da43823d\",\"root_ids\":[\"1173\"],\"roots\":{\"1173\":\"226ff2fb-9ce9-433a-a662-7823b84ede22\"}}];\n  root.Bokeh.embed.embed_items_notebook(docs_json, render_items);\n  }\n  if (root.Bokeh !== undefined) {\n    embed_document(root);\n  } else {\n    let attempts = 0;\n    const timer = setInterval(function(root) {\n      if (root.Bokeh !== undefined) {\n        clearInterval(timer);\n        embed_document(root);\n      } else {\n        attempts++;\n        if (attempts > 100) {\n          clearInterval(timer);\n          console.log(\"Bokeh: ERROR: Unable to run BokehJS code because BokehJS library is missing\");\n        }\n      }\n    }, 10, root)\n  }\n})(window);",
      "application/vnd.bokehjs_exec.v0+json": ""
     },
     "metadata": {
      "application/vnd.bokehjs_exec.v0+json": {
       "id": "1173"
      }
     },
     "output_type": "display_data"
    }
   ],
   "source": [
    "EPS_cosine = 0.43\n",
    "\n",
    "X = nki_cleaned_df[nki_cleaned_df.columns[17:]]\n",
    "\n",
    "nki_cosine_bm = BallMapper(points = X.values,    # the pointcloud, as a numpy array\n",
    "                           epsilon = EPS_cosine, # the radius of the balls\n",
    "                           distance=cosine,      # a custom distance function\n",
    "                           dbg=True) \n",
    "nki_cosine_bm.add_coloring(coloring_df=nki_cleaned_df[['eventdeath', 'esr1']])\n",
    "\n",
    "my_red_palette = cm.get_cmap(name='Reds')\n",
    "\n",
    "cosine_gui = graph_GUI(nki_cosine_bm.Graph,\n",
    "                       my_red_palette,\n",
    "                       tooltips_variables=['eventdeath', 'esr1']\n",
    "                       )\n",
    "cosine_gui.color_by_variable('eventdeath')\n",
    "\n",
    "show(cosine_gui.plot)"
   ]
  },
  {
   "cell_type": "markdown",
   "metadata": {},
   "source": [
    "By coloring by the expression level of the estrogen receptor gene we see a good separation"
   ]
  },
  {
   "cell_type": "code",
   "execution_count": 10,
   "metadata": {},
   "outputs": [
    {
     "name": "stdout",
     "output_type": "stream",
     "text": [
      "color by variable esr1 \n",
      "MIN_VALUE: -1.334, MAX_VALUE: 0.588\n"
     ]
    },
    {
     "data": {
      "text/html": [
       "\n",
       "  <div class=\"bk-root\" id=\"dc658da0-1346-488a-8fc3-25aeba2cd1d1\" data-root-id=\"1173\"></div>\n"
      ]
     },
     "metadata": {},
     "output_type": "display_data"
    },
    {
     "data": {
      "application/javascript": "(function(root) {\n  function embed_document(root) {\n  const docs_json = {\"4653228c-46ea-4edd-9b53-3d83b8f23126\":{\"defs\":[],\"roots\":{\"references\":[{\"attributes\":{\"output_backend\":\"svg\",\"renderers\":[{\"id\":\"1187\"}],\"title\":{\"id\":\"1231\"},\"toolbar\":{\"id\":\"1181\"},\"width\":800,\"x_range\":{\"id\":\"1171\"},\"x_scale\":{\"id\":\"1229\"},\"y_range\":{\"id\":\"1172\"},\"y_scale\":{\"id\":\"1230\"}},\"id\":\"1173\",\"type\":\"Plot\"},{\"attributes\":{},\"id\":\"1179\",\"type\":\"ResetTool\"},{\"attributes\":{\"coordinates\":null,\"group\":null},\"id\":\"1231\",\"type\":\"Title\"},{\"attributes\":{\"line_alpha\":{\"value\":0.8}},\"id\":\"1202\",\"type\":\"MultiLine\"},{\"attributes\":{},\"id\":\"1178\",\"type\":\"PanTool\"},{\"attributes\":{\"fill_alpha\":{\"value\":0.8},\"fill_color\":{\"field\":\"color\"},\"size\":{\"field\":\"size rescaled\"}},\"id\":\"1197\",\"type\":\"Circle\"},{\"attributes\":{\"coordinates\":null,\"data_source\":{\"id\":\"1189\"},\"glyph\":{\"id\":\"1197\"},\"group\":null,\"hover_glyph\":null,\"view\":{\"id\":\"1191\"}},\"id\":\"1190\",\"type\":\"GlyphRenderer\"},{\"attributes\":{},\"id\":\"1241\",\"type\":\"NodesOnly\"},{\"attributes\":{},\"id\":\"1243\",\"type\":\"UnionRenderers\"},{\"attributes\":{},\"id\":\"1177\",\"type\":\"WheelZoomTool\"},{\"attributes\":{\"source\":{\"id\":\"1193\"}},\"id\":\"1195\",\"type\":\"CDSView\"},{\"attributes\":{\"graph_layout\":{\"1\":[-0.10827389282859054,-0.06619014754020493],\"10\":[-0.39884889021263936,-0.8513094721360116],\"100\":[0.6236816059376589,0.7359807450341336],\"101\":[-0.08047622580990978,-0.11941227490092343],\"102\":[-0.45905387165147693,0.882211508115059],\"103\":[0.46284144744672884,0.19670674951931313],\"104\":[-0.9235496474313756,0.35668104312023075],\"105\":[-0.14247916374452216,-0.06040913665580772],\"106\":[0.08254893706645193,0.9226784803566644],\"107\":[-0.7120580408362828,-0.06792295906248495],\"108\":[0.47204512489747863,-0.814047425271035],\"109\":[-0.49998682061340327,0.8181312092411871],\"11\":[-0.18020132661174812,-0.031257908915357936],\"110\":[0.13965515134140116,0.9466768281691308],\"111\":[0.6958856306077339,0.5833053647999432],\"112\":[-0.9741367001820281,-0.17118263485451327],\"113\":[-0.8105063962645543,-0.5315675977311767],\"114\":[0.9541391459824302,-0.10326233431854885],\"115\":[0.9311105343575854,0.17277288812469022],\"116\":[0.9265096678268686,-0.001567983980782171],\"117\":[0.7213012438009752,-0.5163598396934203],\"118\":[-0.17117034904973324,0.01395166750082316],\"119\":[-0.30554439398663547,-0.9432133816799105],\"12\":[-0.8458947839300384,-0.44228045714891917],\"120\":[0.1834227723364361,-0.928731198365186],\"121\":[0.1308148751441452,0.1285467042144689],\"122\":[0.9201953603899516,-0.24315792422523555],\"123\":[-0.8345613886434199,0.5968708593101208],\"124\":[-0.19036813733530827,0.9643209221374542],\"125\":[0.4581564113471605,0.1799169921775478],\"126\":[-0.9179761543651545,-0.2528160884527029],\"127\":[0.7634957478176284,-0.559613869817773],\"128\":[-0.9460234088369295,0.22715312887148287],\"129\":[0.915901310732373,0.28736898910436903],\"13\":[-0.2879006036899687,0.9063591970482481],\"130\":[0.08900097406202323,-0.9590665358324918],\"131\":[-0.005842957063256347,0.9823031972434338],\"132\":[-0.9764013196904833,-0.01715936953375212],\"133\":[0.7676150336311437,0.5738619805523356],\"134\":[0.5300392517434956,0.7664556163118453],\"135\":[-0.5473119818797139,-0.7742282377139986],\"136\":[-0.08232671940139627,-0.04662908549558301],\"137\":[0.4433188231326585,0.8752880525185212],\"138\":[0.5489144555510777,0.689357528095409],\"139\":[0.7959343907991172,0.4927135580730809],\"14\":[-0.09038501533841685,-0.08977616064247361],\"140\":[-0.06993689056305862,-0.09831946213250578],\"141\":[0.8703611715537085,-0.3821751556931995],\"142\":[-0.08424410822211262,-0.9639314173450221],\"143\":[0.03919105737011731,-0.9741768863316682],\"144\":[-0.07400271418201833,0.8810588846908431],\"145\":[-0.8454987693930712,0.43911715505910687],\"146\":[-0.7748010517168396,-0.6724877852306909],\"147\":[0.8901807133858685,-0.28607599831659225],\"148\":[-0.979396526809106,0.04032785621488113],\"149\":[0.15745412305128728,0.1309269460692266],\"15\":[-0.0937659911415811,-0.10191382358426783],\"150\":[0.13790255271278484,0.098939919242714],\"151\":[0.45468099916082866,0.18839869063618983],\"152\":[-0.16215662028670752,0.9054120327505787],\"153\":[0.22480901216072394,0.9565195506678471],\"154\":[0.2238761259656781,-0.8760018743940812],\"155\":[0.5797177786529184,-0.7463446507639637],\"156\":[-0.06794521007268524,-0.07245102892144958],\"157\":[-0.7468413601310958,0.7055028368953232],\"158\":[0.673165715409962,0.6666981884943046],\"159\":[-0.13040106215508906,-0.9455769812697729],\"16\":[0.13345483130951738,-0.941148526934606],\"160\":[-0.17257274693765537,-0.031181691474144155],\"161\":[-0.028933533192675207,0.9329841633522115],\"162\":[0.3516003827865797,-0.8582695369493969],\"163\":[0.900972928467487,0.35060941378596755],\"164\":[0.31427247001980363,0.8519387328151216],\"165\":[0.14355053993331998,0.053856997436969554],\"166\":[-0.41285567479670393,0.8612938287857642],\"167\":[-0.8994440420034406,-0.48096606530656383],\"168\":[-0.7127017455494986,-0.7328059806820101],\"169\":[0.853222593852666,0.4160116901260875],\"17\":[-0.1828136935776784,-0.05305873953513883],\"170\":[-0.029275961563783138,-0.9642375775261461],\"171\":[-0.7220242680947546,-0.5524948924540934],\"172\":[-0.052421555107155196,-0.0842830479875381],\"173\":[-0.11557344537771998,-0.1012704167417072],\"174\":[0.14713057732582724,0.03929065044339358],\"175\":[-0.7542465661480964,0.5616942376033456],\"176\":[-0.1047261396981962,0.9546953878506379],\"177\":[0.2902391746374755,-0.905747392748567],\"178\":[-0.9515782188020142,0.2883645435581757],\"179\":[-0.9944062918426034,0.10107334220766216],\"18\":[0.8175626848835208,0.5360890336293932],\"180\":[0.949218316034861,0.09423938976040164],\"181\":[-0.35439257634653726,0.861639782331887],\"182\":[-0.5281140551895969,0.7461945593902941],\"183\":[0.9405838651703207,-0.1654588026832763],\"184\":[0.6896801259328361,0.7105377666623016],\"185\":[-0.6255503825326896,-0.7795205937939735],\"186\":[-0.5825199797261876,-0.8320248123796297],\"187\":[-0.9014038157907602,0.4140918053133291],\"188\":[-0.9464298843079744,-0.30896141144582506],\"189\":[0.48838864538071564,-0.8582837978057117],\"19\":[0.15575957290641804,0.03872048334449399],\"190\":[0.6391821122195078,-0.6942161598554614],\"191\":[-0.8331290688531402,0.5304996774500579],\"192\":[0.17040941269452156,0.05863497176970185],\"193\":[0.3794458847209708,0.8746488875554544],\"2\":[0.8477397099854925,0.3602116173603604],\"20\":[0.82440055737383,-0.3823792763869905],\"21\":[-0.9739940064868101,-0.11385355561722747],\"22\":[0.137133108491834,0.113294962158899],\"23\":[0.4704762766633507,0.18102719811192028],\"24\":[-0.8885228895514299,0.3023882867882848],\"25\":[0.14022282620395093,0.13824819447796627],\"26\":[0.856673529992513,0.46212787079737516],\"27\":[0.5852291328294928,0.7942034115105753],\"28\":[-0.16755514056841453,-0.018403612779134406],\"29\":[-0.14051575574665012,-0.09541038000573833],\"3\":[-0.7837960043093811,-0.6131478761295],\"30\":[-0.9717970379543075,-0.23298601491364027],\"31\":[0.12338829064008663,0.10780876795561009],\"32\":[0.8122442040967885,-0.4710360552822295],\"33\":[-0.9438851521456142,0.12531960796775596],\"34\":[-0.6834648407603775,0.7182219652138213],\"35\":[-0.5504853794419237,0.8574399344660832],\"36\":[0.4157995210875674,-0.8582119913032863],\"37\":[-0.158778707816571,-0.010118772070678033],\"38\":[0.44478049523606744,0.8265473131192533],\"39\":[0.35637522354300427,-0.9059887290293828],\"4\":[-0.8835586079055706,0.49400457063486186],\"40\":[-0.17799585230286588,-0.9510896529760486],\"41\":[0.12929482575256418,0.09619359508748063],\"42\":[-0.2282318184204005,-0.9529910896704231],\"43\":[-0.6899206504919476,-0.6565088783768199],\"44\":[-0.07266795563153665,-0.11728829229957079],\"45\":[0.9422109374693479,-0.048300144464576776],\"46\":[-0.13862649279633468,-0.015315249614477293],\"47\":[0.9132851617299356,0.12433939289915161],\"48\":[0.89926898843345,-0.1980672752833984],\"49\":[0.47958404636321794,-0.7411956321545722],\"5\":[0.18538008920053145,0.9115615640143702],\"50\":[-0.8536218490498945,-0.5562509938670451],\"51\":[-0.10749319748061414,-0.09488303483045488],\"52\":[0.1400432778145187,0.0796177289849126],\"53\":[0.7408956879457882,-0.6114366074845055],\"54\":[0.18288997551799976,0.039323086488057275],\"55\":[-0.5199720792534873,-0.8461433629942542],\"56\":[-0.6512175403573994,-0.7275135762750155],\"57\":[0.7396149139764293,0.6334514755010919],\"58\":[0.05967347753611101,0.9595198529644984],\"59\":[0.5425313322006502,-0.7899278887955302],\"6\":[-0.6419940272208754,0.8003861436905765],\"60\":[0.9435694469299422,0.04261154640644779],\"61\":[0.32665460505371624,0.9169380036836451],\"62\":[-0.46816991421248266,-0.8598436142361893],\"63\":[0.15876444525974445,0.05231270243486457],\"64\":[0.5093147214659024,0.8243337887221108],\"65\":[-1.0,-0.05742191788484246],\"66\":[-0.2668804087562771,-0.9116795051664937],\"67\":[-0.9085709867287173,-0.38044594995823233],\"68\":[0.9005316137997772,-0.33227349599839506],\"69\":[-0.232416651325779,0.9044652861745518],\"7\":[-0.06501584517423606,-0.08813420592370944],\"70\":[-0.3328907545000574,0.9314278758261103],\"71\":[0.8138730608421083,-0.5274982045962815],\"72\":[-0.004472983985116503,-0.9278094483850522],\"73\":[-0.41606473551042955,-0.9009388777686048],\"74\":[0.8861844500947789,-0.10638705618358621],\"75\":[-0.923343383680246,-0.38624036390090805],\"76\":[0.7000570025860203,-0.6621762830702993],\"77\":[-0.12060863371990528,-0.0754107901634299],\"78\":[0.8651477525317572,-0.4469369390409517],\"79\":[0.26070677958705984,0.9054452734616404],\"8\":[0.12161114005323735,0.12503445216866174],\"80\":[-0.6037279664083037,0.755875413803586],\"81\":[-0.6668254564927553,0.6589215148433178],\"82\":[0.8608537230989161,0.25660143462856827],\"83\":[-0.7748279341595624,0.6396332673277939],\"84\":[-0.1909971986801549,-0.0029392103310949534],\"85\":[-0.9809418512682672,0.1816352308656211],\"86\":[0.2379071757304782,-0.949866956473985],\"87\":[0.10323308202316624,0.1229919743988864],\"88\":[-0.05227244150553588,-0.09212039630793235],\"89\":[0.6647791384194517,-0.6295534348321227],\"9\":[0.15122396627568105,0.05559354927226293],\"90\":[0.636839718894664,-0.7444899762976976],\"91\":[-0.352106304565298,-0.908842450429005],\"92\":[0.15490202809659784,0.06541309119438268],\"93\":[-0.11311619953588072,-0.057951664498093754],\"94\":[-0.09607191603480775,-0.05683888852563082],\"95\":[-0.10613942639616807,-0.03083053565640565],\"96\":[-0.7275904660875853,-0.06894531974962942],\"97\":[0.9228987758575741,0.22517731512712172],\"98\":[-0.1561511802098611,-0.04377396466374301],\"99\":[-0.14804971619879806,-0.06692894916352962]}},\"id\":\"1196\",\"type\":\"StaticLayoutProvider\"},{\"attributes\":{},\"id\":\"1244\",\"type\":\"Selection\"},{\"attributes\":{},\"id\":\"1230\",\"type\":\"LinearScale\"},{\"attributes\":{\"start\":-1},\"id\":\"1172\",\"type\":\"Range1d\"},{\"attributes\":{\"active_scroll\":{\"id\":\"1177\"},\"tools\":[{\"id\":\"1178\"},{\"id\":\"1176\"},{\"id\":\"1177\"},{\"id\":\"1179\"},{\"id\":\"1180\"}]},\"id\":\"1181\",\"type\":\"Toolbar\"},{\"attributes\":{},\"id\":\"1180\",\"type\":\"SaveTool\"},{\"attributes\":{\"data\":{\"color\":[\"#f14130\",\"#980c13\",\"#af1117\",\"#e53228\",\"#c9181d\",\"#b01217\",\"#e02c26\",\"#fee3d7\",\"#ffeee6\",\"#f03d2d\",\"#e12d26\",\"#f0402f\",\"#fc9b7c\",\"#ef3c2c\",\"#f34a36\",\"#e22e27\",\"#bf151b\",\"#fb6c4c\",\"#fee9df\",\"#f14130\",\"#da2723\",\"#ffece3\",\"#820711\",\"#fcc1a8\",\"#fcbda4\",\"#f6563d\",\"#fdd3c1\",\"#b61319\",\"#c9181d\",\"#a30f15\",\"#fff2eb\",\"#da2723\",\"#f03d2d\",\"#e02c26\",\"#db2824\",\"#c3161b\",\"#a81016\",\"#fa6547\",\"#ef3c2c\",\"#d82422\",\"#fee1d3\",\"#f6563d\",\"#8c0912\",\"#c7171c\",\"#fc8d6d\",\"#a60f15\",\"#fc9879\",\"#be151a\",\"#af1117\",\"#cf1c1f\",\"#f75c41\",\"#feeae0\",\"#cf1c1f\",\"#fff0e9\",\"#f75c41\",\"#fc8f6f\",\"#ad1117\",\"#f14432\",\"#bb141a\",\"#840711\",\"#ec382b\",\"#e32f27\",\"#ffede5\",\"#f0402f\",\"#fa6849\",\"#eb372a\",\"#b61319\",\"#d42121\",\"#fcc2aa\",\"#c4161c\",\"#e53228\",\"#e22e27\",\"#da2723\",\"#ffede5\",\"#d42121\",\"#f96346\",\"#f03f2e\",\"#dd2a25\",\"#ea362a\",\"#fb7a5a\",\"#fb7252\",\"#fb6b4b\",\"#cf1c1f\",\"#b01217\",\"#f14331\",\"#e02c26\",\"#fcbea5\",\"#b11218\",\"#e12d26\",\"#a60f15\",\"#a60f15\",\"#fff4ee\",\"#e02c26\",\"#bb141a\",\"#c4161c\",\"#c8171c\",\"#d32020\",\"#cc191e\",\"#f96346\",\"#fb7151\",\"#d21f20\",\"#f5533b\",\"#fb694a\",\"#ec382b\",\"#f03f2e\",\"#f24633\",\"#d42121\",\"#e93529\",\"#c2161b\",\"#ca181d\",\"#b51318\",\"#fc7f5f\",\"#f44d38\",\"#bf151b\",\"#b81419\",\"#f6553c\",\"#d52221\",\"#b31218\",\"#d21f20\",\"#b71319\",\"#fff4ef\",\"#cf1c1f\",\"#ea362a\",\"#77040f\",\"#c3161b\",\"#fdd7c6\",\"#bf151b\",\"#f34c37\",\"#f14130\",\"#bf151b\",\"#e83429\",\"#e32f27\",\"#b81419\",\"#eb372a\",\"#9d0d14\",\"#ab1016\",\"#fc8d6d\",\"#a30f15\",\"#fcbda4\",\"#d92523\",\"#be151a\",\"#fc8262\",\"#f14130\",\"#fff5f0\",\"#900a12\",\"#f96346\",\"#f96346\",\"#b71319\",\"#fc9777\",\"#ffeee6\",\"#db2824\",\"#e12d26\",\"#980c13\",\"#bb141a\",\"#f75b40\",\"#b31218\",\"#f6563d\",\"#c5171c\",\"#7c0510\",\"#eb372a\",\"#ffece4\",\"#67000d\",\"#fdc6b0\",\"#d42121\",\"#fee5d9\",\"#c5171c\",\"#c5171c\",\"#fb6d4d\",\"#fcb69b\",\"#ef3c2c\",\"#c9181d\",\"#c2161b\",\"#fca285\",\"#fdccb8\",\"#f14432\",\"#f75b40\",\"#f14130\",\"#d21f20\",\"#e02c26\",\"#ef3c2c\",\"#d72322\",\"#fc9c7d\",\"#cb181d\",\"#c4161c\",\"#ce1a1e\",\"#bc141a\",\"#d42121\",\"#e22e27\",\"#f34935\",\"#d21f20\",\"#fc9576\",\"#ffede5\",\"#fedbcc\"],\"esr1\":[-0.16651400000000002,0.395714,0.2826435,-0.066771,0.121859,0.27341,-0.030847666666666662,-1.13086,-1.247684227272727,-0.142526,-0.037416666666666674,-0.162349,-0.661729,-0.13544266666666668,-0.21510020000000002,-0.048179,0.176033,-0.3873,-1.196523,-0.164632,0.008423,-1.2279322,0.4805865,-0.885781,-0.863345,-0.268419,-1.007845,0.242485,0.1203245,0.352512,-1.2902685,0.006759,-0.147207,-0.03285250000000001,0.0014274999999999982,0.154528,0.32804940000000005,-0.3485925,-0.13603,0.022536,-1.09512,-0.270681,0.438809,0.13105250000000002,-0.582938,0.33570775,-0.648426,0.188991,0.2808353333333333,0.080359,-0.29935233333333333,-1.1999465,0.081947,-1.2777305,-0.300751,-0.597746,0.2949775,-0.18202333333333334,0.209422,0.473494,-0.11351950000000001,-0.051943,-1.2419793181818182,-0.162281,-0.361686,-0.105017,0.2351465,0.043225,-0.891372,0.151557,-0.070873,-0.043293,0.005666,-1.23731,0.046482499999999996,-0.341476,-0.14805844444444444,-0.018613,-0.095563,-0.463737,-0.424719,-0.37353,0.081441,0.2792,-0.170719,-0.028608,-0.8693705,0.2713675,-0.040568,0.338275,0.335091,-1.3175853333333334,-0.03324233333333333,0.20694239999999997,0.14884233333333333,0.123614,0.051452,0.0986345,-0.3402779999999999,-0.417041,0.06036975000000001,-0.255982,-0.372043,-0.110902,-0.149181,-0.185495,0.040646,-0.089822,0.1624735,0.109356,0.247885,-0.494486,-0.228539,0.178182,0.226397,-0.263174,0.033616,0.25305900000000003,0.061767,0.228925,-1.3246836666666668,0.083247,-0.099091,0.522648,0.15379,-1.030526,0.175113,-0.220652,-0.167348,0.178846,-0.084927,-0.05216,0.226498,-0.102944,0.37663,0.30493033333333336,-0.57949,0.351714,-0.867899,0.0112886,0.187085,-0.517116,-0.168443,-1.334223,0.428746,-0.341585,-0.342984,0.232049,-0.641003,-1.2486695,-0.0006910000000000041,-0.036138,0.395972,0.207192,-0.294233,0.2513493333333333,-0.274458,0.13999,0.501602,-0.1074415,-1.233425,0.587983,-0.921313,0.044451500000000005,-1.15146225,0.142405,0.138597,-0.388893,-0.821286,-0.136145,0.114946,0.1650525,-0.706763,-0.9633039999999999,-0.180312,-0.295729,-0.16347,0.059033,-0.034661,-0.132915,0.028529,-0.668578,0.103277,0.151225,0.088049,0.203644,0.040157,-0.049818,-0.204023,0.062265,-0.635322,-1.2398023333333332,-1.063121],\"eventdeath\":[0.0,0.0,0.0,0.0,0.0,0.0,0.0,0.5,0.5454545454545454,0.5,0.0,1.0,1.0,0.0,0.2,0.0,0.0,0.0,0.5,0.0,1.0,0.8,0.5,0.0,0.5,0.0,1.0,0.0,0.5,0.0,1.0,1.0,1.0,0.5,0.5,1.0,0.0,0.5,0.0,0.0,0.5,1.0,0.0,0.5,0.0,0.0,0.0,0.0,0.6666666666666666,0.0,0.0,0.5,0.0,0.0,0.0,0.0,0.0,0.0,0.0,0.0,0.0,0.0,0.5909090909090909,1.0,0.0,0.0,0.0,0.0,1.0,0.0,0.0,0.0,0.0,0.0,0.0,0.0,0.0,0.0,1.0,0.0,1.0,0.0,0.0,0.0,1.0,0.0,0.5,0.0,0.0,0.0,0.0,0.6666666666666666,0.0,0.0,0.0,0.0,1.0,0.0,0.3333333333333333,0.0,0.0,0.0,0.0,0.0,0.0,1.0,0.0,0.0,0.0,1.0,1.0,1.0,0.0,0.0,0.0,0.0,0.0,0.0,0.0,1.0,0.3333333333333333,0.0,0.0,0.0,0.6666666666666666,1.0,0.0,0.0,0.0,0.0,0.0,0.0,0.0,0.0,0.0,0.0,0.0,0.0,0.0,0.0,0.0,1.0,0.0,1.0,1.0,1.0,0.0,1.0,0.5,1.0,0.3333333333333333,0.0,1.0,0.0,1.0,0.0,0.0,0.0,0.0,0.0,0.0,1.0,0.0,0.0,0.25,0.0,1.0,1.0,1.0,0.0,0.0,0.0,0.0,0.3333333333333333,0.0,0.0,0.0,0.0,0.0,0.0,0.0,0.0,0.0,0.0,0.0,1.0,1.0,1.0,1.0,1.0,1.0,1.0,1.0],\"index\":[1,2,3,4,5,6,7,8,9,10,11,12,13,14,15,16,17,18,19,20,21,22,23,24,25,26,27,28,29,30,31,32,33,34,35,36,37,38,39,40,41,42,43,44,45,46,47,48,49,50,51,52,53,54,55,56,57,58,59,60,61,62,63,64,65,66,67,68,69,70,71,72,73,74,75,76,77,78,79,80,81,82,83,84,85,86,87,88,89,90,91,92,93,94,95,96,97,98,99,100,101,102,103,104,105,106,107,108,109,110,111,112,113,114,115,116,117,118,119,120,121,122,123,124,125,126,127,128,129,130,131,132,133,134,135,136,137,138,139,140,141,142,143,144,145,146,147,148,149,150,151,152,153,154,155,156,157,158,159,160,161,162,163,164,165,166,167,168,169,170,171,172,173,174,175,176,177,178,179,180,181,182,183,184,185,186,187,188,189,190,191,192,193],\"landmark\":[0,1,3,4,5,6,7,8,9,10,11,12,14,15,16,17,18,20,21,22,23,24,25,26,27,28,29,30,31,33,34,35,37,38,39,41,44,46,47,50,51,52,55,57,59,60,61,62,64,65,66,67,68,69,70,71,72,75,76,77,78,79,81,82,89,91,95,97,98,100,101,103,104,105,106,107,108,110,111,112,114,115,116,117,118,119,122,126,127,128,129,130,132,133,134,136,137,139,140,141,142,144,146,147,148,149,150,153,156,158,163,164,165,166,167,169,171,172,173,175,177,178,181,183,184,185,186,193,194,195,196,197,200,201,202,203,204,205,206,207,208,209,210,211,212,213,214,215,216,217,221,222,223,225,226,227,229,230,231,232,233,234,235,236,237,239,241,242,243,244,245,247,248,249,250,251,252,253,254,255,256,257,258,259,260,262,263,265,266,268,269,270,271],\"points covered\":[[0,36,180],[1,2],[3,45],[4],[5],[6],[7,63,96],[8,19],[9,13,40,48,49,56,58,84,90,92,120,123,124,125,154,157,168,170,174,179,240,261],[10,264],[11,88,145],[12],[14],[15,54,96],[16,54,87,151,198],[17],[18,83],[20],[13,21,56,90,123,125,174,240],[22],[23],[19,24,53,94,113],[25,42],[26],[27,53],[28],[29],[30,43,88,138,145,190,191,228],[31,32],[33],[19,34,85,94],[35],[37],[38,86],[39,93],[41],[44,143,190,191,192],[46,155],[47],[50],[51,94],[52],[55],[57,198],[59],[43,60,187,192],[61],[62],[64,161,219],[65],[54,66,87],[67,74,94,120,154,170],[68],[69,188],[70],[71],[72,73],[75,109,121],[76],[77],[78,80],[79],[13,40,56,58,74,81,84,90,92,99,102,123,125,154,170,174,176,182,188,240,261,267],[82],[89],[91],[95,152],[97],[98],[100],[101],[103],[104],[105],[106,152],[107],[32,36,54,87,108,131,159,160,180],[110],[111],[112],[114],[115],[116],[117,228],[118],[119],[85,122],[63,126],[127],[128],[129],[48,58,92,130,170,182],[36,132,180],[133,135,180,199,246],[134,187,199],[136,224],[137],[83,88,139,145,160,190],[140,159,160],[141],[142,151,162,198],[144],[146,218],[147],[148,160],[149],[150,224],[153],[156,220],[158],[163],[164],[165],[166],[167],[169],[171],[143,172,189],[173],[175],[19,53,177],[178],[181],[183],[42,184,218],[185],[186],[193],[194],[195],[196],[197],[200],[201],[202],[135,199,203],[204],[205],[206],[63,96,151,198,207],[208],[209],[210],[211],[212],[213],[214],[215],[113,216],[94,217],[42,218,221],[222],[223],[225],[226],[63,135,227],[229],[230],[231],[145,232],[233],[234],[235],[236,238],[13,154,170,237],[239],[241],[242],[243],[244],[245],[63,247],[87,248],[13,49,249],[250],[251],[252],[253],[254],[255],[256],[257],[258],[259],[260],[262],[263],[265],[266],[268],[269],[92,99,270],[271]],\"size\":[3,2,2,1,1,1,3,2,22,2,3,1,1,3,5,1,2,1,8,1,1,5,2,1,2,1,1,8,2,1,4,1,1,2,2,1,5,2,1,1,2,1,1,2,1,4,1,1,3,1,3,6,1,2,1,1,2,3,1,1,2,1,22,1,1,1,2,1,1,1,1,1,1,1,2,1,9,1,1,1,1,1,1,2,1,1,2,2,1,1,1,6,3,5,3,2,1,6,3,1,4,1,2,1,2,1,2,1,2,1,1,1,1,1,1,1,1,3,1,1,3,1,1,1,3,1,1,1,1,1,1,1,1,1,1,3,1,1,1,5,1,1,1,1,1,1,1,1,2,2,3,1,1,1,1,3,1,1,1,2,1,1,1,2,4,1,1,1,1,1,1,2,2,3,1,1,1,1,1,1,1,1,1,1,1,1,1,1,1,1,1,3,1],\"size rescaled\":[9.727272727272727,8.818181818181818,8.818181818181818,7.909090909090909,7.909090909090909,7.909090909090909,9.727272727272727,8.818181818181818,27.0,8.818181818181818,9.727272727272727,7.909090909090909,7.909090909090909,9.727272727272727,11.545454545454547,7.909090909090909,8.818181818181818,7.909090909090909,14.272727272727273,7.909090909090909,7.909090909090909,11.545454545454547,8.818181818181818,7.909090909090909,8.818181818181818,7.909090909090909,7.909090909090909,14.272727272727273,8.818181818181818,7.909090909090909,10.636363636363637,7.909090909090909,7.909090909090909,8.818181818181818,8.818181818181818,7.909090909090909,11.545454545454547,8.818181818181818,7.909090909090909,7.909090909090909,8.818181818181818,7.909090909090909,7.909090909090909,8.818181818181818,7.909090909090909,10.636363636363637,7.909090909090909,7.909090909090909,9.727272727272727,7.909090909090909,9.727272727272727,12.454545454545453,7.909090909090909,8.818181818181818,7.909090909090909,7.909090909090909,8.818181818181818,9.727272727272727,7.909090909090909,7.909090909090909,8.818181818181818,7.909090909090909,27.0,7.909090909090909,7.909090909090909,7.909090909090909,8.818181818181818,7.909090909090909,7.909090909090909,7.909090909090909,7.909090909090909,7.909090909090909,7.909090909090909,7.909090909090909,8.818181818181818,7.909090909090909,15.181818181818182,7.909090909090909,7.909090909090909,7.909090909090909,7.909090909090909,7.909090909090909,7.909090909090909,8.818181818181818,7.909090909090909,7.909090909090909,8.818181818181818,8.818181818181818,7.909090909090909,7.909090909090909,7.909090909090909,12.454545454545453,9.727272727272727,11.545454545454547,9.727272727272727,8.818181818181818,7.909090909090909,12.454545454545453,9.727272727272727,7.909090909090909,10.636363636363637,7.909090909090909,8.818181818181818,7.909090909090909,8.818181818181818,7.909090909090909,8.818181818181818,7.909090909090909,8.818181818181818,7.909090909090909,7.909090909090909,7.909090909090909,7.909090909090909,7.909090909090909,7.909090909090909,7.909090909090909,7.909090909090909,9.727272727272727,7.909090909090909,7.909090909090909,9.727272727272727,7.909090909090909,7.909090909090909,7.909090909090909,9.727272727272727,7.909090909090909,7.909090909090909,7.909090909090909,7.909090909090909,7.909090909090909,7.909090909090909,7.909090909090909,7.909090909090909,7.909090909090909,7.909090909090909,9.727272727272727,7.909090909090909,7.909090909090909,7.909090909090909,11.545454545454547,7.909090909090909,7.909090909090909,7.909090909090909,7.909090909090909,7.909090909090909,7.909090909090909,7.909090909090909,7.909090909090909,8.818181818181818,8.818181818181818,9.727272727272727,7.909090909090909,7.909090909090909,7.909090909090909,7.909090909090909,9.727272727272727,7.909090909090909,7.909090909090909,7.909090909090909,8.818181818181818,7.909090909090909,7.909090909090909,7.909090909090909,8.818181818181818,10.636363636363637,7.909090909090909,7.909090909090909,7.909090909090909,7.909090909090909,7.909090909090909,7.909090909090909,8.818181818181818,8.818181818181818,9.727272727272727,7.909090909090909,7.909090909090909,7.909090909090909,7.909090909090909,7.909090909090909,7.909090909090909,7.909090909090909,7.909090909090909,7.909090909090909,7.909090909090909,7.909090909090909,7.909090909090909,7.909090909090909,7.909090909090909,7.909090909090909,7.909090909090909,7.909090909090909,9.727272727272727,7.909090909090909]},\"selected\":{\"id\":\"1244\"},\"selection_policy\":{\"id\":\"1243\"}},\"id\":\"1189\",\"type\":\"ColumnDataSource\"},{\"attributes\":{\"coordinates\":null,\"data_source\":{\"id\":\"1193\"},\"glyph\":{\"id\":\"1202\"},\"group\":null,\"hover_glyph\":null,\"view\":{\"id\":\"1195\"}},\"id\":\"1194\",\"type\":\"GlyphRenderer\"},{\"attributes\":{},\"id\":\"1242\",\"type\":\"NodesOnly\"},{\"attributes\":{\"source\":{\"id\":\"1189\"}},\"id\":\"1191\",\"type\":\"CDSView\"},{\"attributes\":{\"start\":-1},\"id\":\"1171\",\"type\":\"Range1d\"},{\"attributes\":{},\"id\":\"1245\",\"type\":\"UnionRenderers\"},{\"attributes\":{},\"id\":\"1229\",\"type\":\"LinearScale\"},{\"attributes\":{\"data\":{\"end\":[77,93,94,14,88,140,156,172,22,31,121,19,52,63,92,165,174,192,28,98,160,15,51,77,140,44,51,77,101,140,173,98,63,165,174,25,31,41,52,121,149,150,125,151,121,37,46,84,98,160,77,41,52,87,121,150,46,98,118,52,150,101,140,95,77,173,63,92,150,165,63,92,165,174,192,75,93,94,98,99,105,173,140,156,172,165,192,94,95,136,156,136,107,99,105,160,105,140,125,151,151,156,156,172,172,174],\"start\":[1,1,1,7,7,7,7,7,8,8,8,9,9,9,9,9,9,9,11,11,11,14,14,14,14,15,15,15,15,15,15,17,19,19,19,22,22,22,22,22,22,22,23,23,25,28,28,28,28,28,29,31,31,31,31,31,37,37,37,41,41,44,44,46,51,51,52,52,52,52,54,63,63,63,63,67,77,77,77,77,77,77,88,88,88,92,92,93,94,94,94,95,96,98,98,98,99,101,103,103,125,136,140,140,156,165]},\"selected\":{\"id\":\"1246\"},\"selection_policy\":{\"id\":\"1245\"}},\"id\":\"1193\",\"type\":\"ColumnDataSource\"},{\"attributes\":{},\"id\":\"1246\",\"type\":\"Selection\"},{\"attributes\":{\"coordinates\":null,\"edge_renderer\":{\"id\":\"1194\"},\"group\":null,\"inspection_policy\":{\"id\":\"1242\"},\"layout_provider\":{\"id\":\"1196\"},\"node_renderer\":{\"id\":\"1190\"},\"selection_policy\":{\"id\":\"1241\"}},\"id\":\"1187\",\"type\":\"GraphRenderer\"},{\"attributes\":{\"callback\":null,\"tooltips\":[[\"index\",\"@index\"],[\"size\",\"@size\"],[\"eventdeath\",\"@eventdeath\"],[\"esr1\",\"@esr1\"]]},\"id\":\"1176\",\"type\":\"HoverTool\"}],\"root_ids\":[\"1173\"]},\"title\":\"Bokeh Application\",\"version\":\"2.4.3\"}};\n  const render_items = [{\"docid\":\"4653228c-46ea-4edd-9b53-3d83b8f23126\",\"root_ids\":[\"1173\"],\"roots\":{\"1173\":\"dc658da0-1346-488a-8fc3-25aeba2cd1d1\"}}];\n  root.Bokeh.embed.embed_items_notebook(docs_json, render_items);\n  }\n  if (root.Bokeh !== undefined) {\n    embed_document(root);\n  } else {\n    let attempts = 0;\n    const timer = setInterval(function(root) {\n      if (root.Bokeh !== undefined) {\n        clearInterval(timer);\n        embed_document(root);\n      } else {\n        attempts++;\n        if (attempts > 100) {\n          clearInterval(timer);\n          console.log(\"Bokeh: ERROR: Unable to run BokehJS code because BokehJS library is missing\");\n        }\n      }\n    }, 10, root)\n  }\n})(window);",
      "application/vnd.bokehjs_exec.v0+json": ""
     },
     "metadata": {
      "application/vnd.bokehjs_exec.v0+json": {
       "id": "1173"
      }
     },
     "output_type": "display_data"
    }
   ],
   "source": [
    "cosine_gui.color_by_variable('esr1')\n",
    "\n",
    "show(cosine_gui.plot)"
   ]
  },
  {
   "cell_type": "markdown",
   "metadata": {},
   "source": [
    "## distance correlation"
   ]
  },
  {
   "cell_type": "code",
   "execution_count": 11,
   "metadata": {},
   "outputs": [],
   "source": [
    "from scipy.spatial.distance import correlation"
   ]
  },
  {
   "cell_type": "code",
   "execution_count": 12,
   "metadata": {},
   "outputs": [
    {
     "name": "stdout",
     "output_type": "stream",
     "text": [
      "using custom distance <function correlation at 0x1688339a0>\n",
      "Finding vertices...\n"
     ]
    },
    {
     "data": {
      "application/vnd.jupyter.widget-view+json": {
       "model_id": "f5e6905cf0d34120aab68b42c0fff281",
       "version_major": 2,
       "version_minor": 0
      },
      "text/plain": [
       "  0%|          | 0/272 [00:00<?, ?it/s]"
      ]
     },
     "metadata": {},
     "output_type": "display_data"
    },
    {
     "name": "stdout",
     "output_type": "stream",
     "text": [
      "Computing points_covered_by_landmarks...\n"
     ]
    },
    {
     "data": {
      "application/vnd.jupyter.widget-view+json": {
       "model_id": "726d1385999c4b4ead01a13adbf42104",
       "version_major": 2,
       "version_minor": 0
      },
      "text/plain": [
       "  0%|          | 0/185 [00:00<?, ?it/s]"
      ]
     },
     "metadata": {},
     "output_type": "display_data"
    },
    {
     "name": "stdout",
     "output_type": "stream",
     "text": [
      "Finding edges...\n"
     ]
    },
    {
     "data": {
      "application/vnd.jupyter.widget-view+json": {
       "model_id": "8196951eac90449a87f326a205acc16f",
       "version_major": 2,
       "version_minor": 0
      },
      "text/plain": [
       "0it [00:00, ?it/s]"
      ]
     },
     "metadata": {},
     "output_type": "display_data"
    },
    {
     "name": "stdout",
     "output_type": "stream",
     "text": [
      "Creating Ball Mapper graph...\n",
      "Done\n",
      "color by variable eventdeath \n",
      "MIN_VALUE: 0.000, MAX_VALUE: 1.000\n"
     ]
    },
    {
     "data": {
      "text/html": [
       "\n",
       "  <div class=\"bk-root\" id=\"10a326d0-3ab2-4547-a8cf-3f561eaa684c\" data-root-id=\"1473\"></div>\n"
      ]
     },
     "metadata": {},
     "output_type": "display_data"
    },
    {
     "data": {
      "application/javascript": "(function(root) {\n  function embed_document(root) {\n  const docs_json = {\"f57b981c-3e5f-4967-b720-678f046403f1\":{\"defs\":[],\"roots\":{\"references\":[{\"attributes\":{\"output_backend\":\"svg\",\"renderers\":[{\"id\":\"1487\"}],\"title\":{\"id\":\"1549\"},\"toolbar\":{\"id\":\"1481\"},\"width\":800,\"x_range\":{\"id\":\"1471\"},\"x_scale\":{\"id\":\"1547\"},\"y_range\":{\"id\":\"1472\"},\"y_scale\":{\"id\":\"1548\"}},\"id\":\"1473\",\"type\":\"Plot\"},{\"attributes\":{},\"id\":\"1560\",\"type\":\"NodesOnly\"},{\"attributes\":{},\"id\":\"1548\",\"type\":\"LinearScale\"},{\"attributes\":{\"data\":{\"end\":[76,90,161,49,86,14,15,51,76,86,132,162,22,30,46,150,19,39,114,152,154,164,181,184,17,27,28,36,76,149,15,50,51,76,132,44,50,51,52,76,121,132,163,27,36,128,149,39,114,154,164,184,30,41,46,114,140,141,150,185,103,118,142,29,36,44,83,128,149,76,41,46,85,114,141,150,185,149,52,114,141,152,154,164,181,184,51,55,69,86,128,132,161,171,114,141,185,51,121,132,149,150,84,103,52,76,163,55,76,86,104,121,128,132,161,162,171,76,114,141,163,184,128,132,161,171,74,121,86,126,128,161,162,84,90,92,97,132,161,163,92,97,103,132,161,162,161,99,121,97,118,121,118,142,141,152,154,164,181,184,185,142,132,128,132,161,162,171,161,162,171,184,185,181,164,171,184],\"start\":[1,1,1,2,2,7,7,7,7,7,7,7,8,8,8,8,9,9,9,9,9,9,9,9,11,11,11,11,11,11,14,14,14,14,14,15,15,15,15,15,15,15,15,17,17,17,17,19,19,19,19,19,22,22,22,22,22,22,22,22,23,23,23,27,27,27,27,27,27,28,30,30,30,30,30,30,30,36,39,39,39,39,39,39,39,39,40,40,40,40,40,40,40,40,41,41,41,44,44,44,44,46,48,48,50,50,50,51,51,51,51,51,51,51,51,51,51,52,52,52,52,52,55,55,55,55,66,66,69,69,69,69,69,76,76,76,76,76,76,76,84,84,84,86,86,86,90,91,91,92,95,99,103,103,114,114,114,114,114,114,114,118,121,126,128,128,128,128,132,132,132,141,141,152,154,161,181]},\"selected\":{\"id\":\"1564\"},\"selection_policy\":{\"id\":\"1563\"}},\"id\":\"1493\",\"type\":\"ColumnDataSource\"},{\"attributes\":{\"data\":{\"color\":[\"#fff5f0\",\"#fff5f0\",\"#fff5f0\",\"#fff5f0\",\"#fff5f0\",\"#fff5f0\",\"#fff5f0\",\"#fb694a\",\"#f6583e\",\"#fff5f0\",\"#fff5f0\",\"#67000d\",\"#67000d\",\"#fff5f0\",\"#fcc4ad\",\"#fff5f0\",\"#fff5f0\",\"#fff5f0\",\"#fb694a\",\"#fff5f0\",\"#67000d\",\"#bc141a\",\"#fb694a\",\"#fff5f0\",\"#67000d\",\"#fff5f0\",\"#fff5f0\",\"#fb694a\",\"#fff5f0\",\"#bc141a\",\"#67000d\",\"#67000d\",\"#fff5f0\",\"#fff5f0\",\"#67000d\",\"#fff5f0\",\"#fb694a\",\"#fff5f0\",\"#f75b40\",\"#fff5f0\",\"#fb694a\",\"#67000d\",\"#fff5f0\",\"#fca082\",\"#fff5f0\",\"#fca082\",\"#fff5f0\",\"#fb694a\",\"#fff5f0\",\"#fff5f0\",\"#fff5f0\",\"#fff5f0\",\"#fff5f0\",\"#fff5f0\",\"#fff5f0\",\"#fff5f0\",\"#fff5f0\",\"#fff5f0\",\"#fff5f0\",\"#fff5f0\",\"#67000d\",\"#67000d\",\"#fff5f0\",\"#fff5f0\",\"#67000d\",\"#fff5f0\",\"#fff5f0\",\"#67000d\",\"#fff5f0\",\"#fff5f0\",\"#fff5f0\",\"#fff5f0\",\"#fff5f0\",\"#fff5f0\",\"#fff5f0\",\"#fff5f0\",\"#fff5f0\",\"#67000d\",\"#fff5f0\",\"#67000d\",\"#fff5f0\",\"#fff5f0\",\"#fff5f0\",\"#fb694a\",\"#fb694a\",\"#fff5f0\",\"#fff5f0\",\"#fff5f0\",\"#fff5f0\",\"#fff5f0\",\"#fff5f0\",\"#fca082\",\"#fff5f0\",\"#fff5f0\",\"#fff5f0\",\"#fff5f0\",\"#fff5f0\",\"#67000d\",\"#fff5f0\",\"#fff5f0\",\"#fff5f0\",\"#67000d\",\"#e32f27\",\"#fff5f0\",\"#67000d\",\"#67000d\",\"#fff5f0\",\"#fff5f0\",\"#fff5f0\",\"#fff5f0\",\"#fff5f0\",\"#fff5f0\",\"#67000d\",\"#f5533b\",\"#fff5f0\",\"#fff5f0\",\"#fff5f0\",\"#e32f27\",\"#67000d\",\"#fff5f0\",\"#fff5f0\",\"#fff5f0\",\"#fff5f0\",\"#fff5f0\",\"#fff5f0\",\"#fff5f0\",\"#fff5f0\",\"#fff5f0\",\"#fff5f0\",\"#fff5f0\",\"#fff5f0\",\"#fff5f0\",\"#fff5f0\",\"#67000d\",\"#67000d\",\"#67000d\",\"#67000d\",\"#fff5f0\",\"#67000d\",\"#fb694a\",\"#e32f27\",\"#fb694a\",\"#67000d\",\"#fff5f0\",\"#67000d\",\"#fff5f0\",\"#fff5f0\",\"#fff5f0\",\"#fff5f0\",\"#fb694a\",\"#67000d\",\"#fb694a\",\"#fff5f0\",\"#fcbba1\",\"#fff5f0\",\"#fff5f0\",\"#67000d\",\"#67000d\",\"#fff5f0\",\"#fff5f0\",\"#fff5f0\",\"#fff5f0\",\"#fff5f0\",\"#fdcab5\",\"#fff5f0\",\"#fff5f0\",\"#fff5f0\",\"#fff5f0\",\"#fff5f0\",\"#fff5f0\",\"#fff5f0\",\"#fff5f0\",\"#fff5f0\",\"#fff5f0\",\"#fff5f0\",\"#67000d\",\"#67000d\",\"#67000d\",\"#67000d\",\"#67000d\",\"#67000d\",\"#67000d\",\"#67000d\",\"#ec382b\",\"#67000d\"],\"esr1\":[-0.16651400000000002,0.25427333333333335,0.2826435,-0.066771,0.121859,0.27341,-0.0596525,-1.13086,-1.22656735,-0.202664,-0.006307750000000001,-0.162349,-0.661729,-0.13544266666666668,-0.310287,-0.048179,0.1518644,-0.3873,-1.196523,-0.164632,0.008423,-1.2279322,0.4805865,-0.885781,-0.421592,-0.268419,0.2241317,0.1203245,0.43459633333333336,-1.2638666,0.006759,-0.147207,-0.111838,0.343665,0.154528,0.25149133333333334,-0.3485925,-0.13603,-1.2589859583333334,0.137491,-1.09512,-0.270681,0.438809,0.223027,-0.582938,-1.105793,0.188991,0.385992,0.0258755,-0.29935233333333333,0.043454428571428574,-1.0674029999999999,-0.300751,-0.597746,0.28822033333333336,-0.18202333333333334,0.209422,0.473494,-0.11351950000000001,-0.051943,-0.162281,-0.17138,-0.361686,-0.105017,-0.34081,0.2775083333333333,0.043225,-0.891372,0.207197,-0.070873,-0.043293,0.005666,-1.23731,0.01894233333333333,-0.341476,-0.17703760000000002,-0.018613,-0.095563,-0.463737,-0.424719,-0.37353,0.081441,0.2792,-0.038005750000000005,-0.8693705,0.31353575,-0.040568,0.338275,0.335091,0.028294250000000003,0.054100333333333334,-0.3402779999999999,-0.417041,-0.255982,-0.372043,-0.110902,-0.149181,-0.185495,0.040646,-0.089822,0.1624735,0.109356,0.267272,0.08362,0.247885,-0.494486,-0.228539,0.178182,0.226397,-0.263174,0.033616,0.061767,0.228925,-1.25744116,0.083247,-0.099091,0.522648,0.15379,-1.030526,0.175113,0.10663875,-0.220652,-0.167348,0.178846,-0.05216,0.28283,0.37663,0.2810072,-0.57949,0.351714,-0.867899,0.055191500000000004,0.187085,-0.517116,-1.334223,0.428746,-0.341585,-0.342984,0.232049,-0.641003,-1.24843,0.17061300000000001,0.395972,0.207192,-0.294233,-0.274458,0.13999,0.501602,0.11518379999999999,-1.244402,0.587983,-1.018722,0.420483,-1.15146225,-0.33158,0.142405,0.138597,-0.821286,-0.136145,0.114946,0.17388749999999997,0.18431433333333336,-0.706763,-1.0377361999999999,-0.180312,-0.295729,-0.16347,0.059033,-0.034661,-0.132915,0.15161750000000002,-0.668578,0.103277,0.151225,0.088049,0.203644,0.040157,-0.082388,-0.049818,-0.204023,-1.1785656,0.062265,-0.635322,-1.2496996363636366,-1.175493],\"eventdeath\":[0.0,0.0,0.0,0.0,0.0,0.0,0.0,0.5,0.55,0.0,0.0,1.0,1.0,0.0,0.2222222222222222,0.0,0.0,0.0,0.5,0.0,1.0,0.8,0.5,0.0,1.0,0.0,0.0,0.5,0.0,0.8,1.0,1.0,0.0,0.0,1.0,0.0,0.5,0.0,0.5416666666666666,0.0,0.5,1.0,0.0,0.3333333333333333,0.0,0.3333333333333333,0.0,0.5,0.0,0.0,0.0,0.0,0.0,0.0,0.0,0.0,0.0,0.0,0.0,0.0,1.0,1.0,0.0,0.0,1.0,0.0,0.0,1.0,0.0,0.0,0.0,0.0,0.0,0.0,0.0,0.0,0.0,1.0,0.0,1.0,0.0,0.0,0.0,0.5,0.5,0.0,0.0,0.0,0.0,0.0,0.0,0.3333333333333333,0.0,0.0,0.0,0.0,0.0,1.0,0.0,0.0,0.0,1.0,0.6666666666666666,0.0,1.0,1.0,0.0,0.0,0.0,0.0,0.0,0.0,1.0,0.56,0.0,0.0,0.0,0.6666666666666666,1.0,0.0,0.0,0.0,0.0,0.0,0.0,0.0,0.0,0.0,0.0,0.0,0.0,0.0,0.0,1.0,1.0,1.0,1.0,0.0,1.0,0.5,0.6666666666666666,0.5,1.0,0.0,1.0,0.0,0.0,0.0,0.0,0.5,1.0,0.5,0.0,0.25,0.0,0.0,1.0,1.0,0.0,0.0,0.0,0.0,0.0,0.2,0.0,0.0,0.0,0.0,0.0,0.0,0.0,0.0,0.0,0.0,0.0,1.0,1.0,1.0,1.0,1.0,1.0,1.0,1.0,0.6363636363636364,1.0],\"index\":[1,2,3,4,5,6,7,8,9,10,11,12,13,14,15,16,17,18,19,20,21,22,23,24,25,26,27,28,29,30,31,32,33,34,35,36,37,38,39,40,41,42,43,44,45,46,47,48,49,50,51,52,53,54,55,56,57,58,59,60,61,62,63,64,65,66,67,68,69,70,71,72,73,74,75,76,77,78,79,80,81,82,83,84,85,86,87,88,89,90,91,92,93,94,95,96,97,98,99,100,101,102,103,104,105,106,107,108,109,110,111,112,113,114,115,116,117,118,119,120,121,122,123,124,125,126,127,128,129,130,131,132,133,134,135,136,137,138,139,140,141,142,143,144,145,146,147,148,149,150,151,152,153,154,155,156,157,158,159,160,161,162,163,164,165,166,167,168,169,170,171,172,173,174,175,176,177,178,179,180,181,182,183,184,185],\"landmark\":[0,1,3,4,5,6,7,8,9,10,11,12,14,15,16,17,18,20,21,22,23,24,25,26,27,28,30,31,33,34,35,37,38,39,41,44,46,47,48,50,51,52,55,57,59,61,62,64,65,66,68,69,70,71,72,75,76,77,78,79,82,86,89,91,93,95,97,98,100,101,103,104,105,106,107,108,110,111,112,114,115,116,117,118,122,126,127,128,129,132,136,140,141,144,146,147,148,149,150,153,156,158,161,162,163,164,165,166,167,169,171,173,175,176,178,181,183,184,185,186,189,193,194,195,197,200,202,203,204,205,206,207,208,209,211,212,213,214,215,216,217,221,223,225,226,229,230,231,232,233,234,235,236,237,238,239,241,243,244,245,246,247,248,249,250,251,252,253,254,255,256,257,258,259,260,262,263,264,265,266,267,268,269,270,271],\"points covered\":[[0,36,180],[1,2,119],[3,45],[4],[5],[6],[7,63,96,131],[8,19],[9,13,40,49,58,81,84,90,92,120,123,124,125,154,168,170,174,179,240,261],[10],[11,32,88,145],[12],[14],[15,54,96],[16,29,54,87,96,151,198,201,210],[17],[18,43,83,88,145],[20],[13,21,56,90,123,125,174,240],[22],[23],[19,24,53,94,113],[25,42],[26],[27],[28],[30,43,88,134,138,139,145,190,191,228],[31,32],[33,60,138],[19,34,67,85,94],[35],[37],[38],[39],[41],[44,143,145,190,191,192],[46,155],[47],[13,40,48,56,58,74,84,90,92,99,102,120,123,124,125,130,157,170,174,179,182,188,240,261],[50,133,135],[51,94],[52],[55],[57,139,198],[59],[19,61,177],[62],[64,219],[65,119],[54,66,87],[63,68,96,135,142,151,198],[69,87,188],[70],[71],[72,73,135],[75,109,121],[76],[77],[78,80],[79],[82],[86,242],[89],[91],[93],[95,152,172],[97],[98],[100,133,199,227],[101],[103],[104],[105],[106,152,222],[107],[32,36,54,87,96,108,131,159,160,180],[110],[111],[112],[114],[115],[116],[117,228],[118,137,160,219],[85,122],[2,63,126,133],[127],[128],[129],[36,132,180,187],[136,196,224],[140,159,160],[141],[144],[146,218],[147],[148,160],[149],[150,224],[153],[156,220],[158],[42,161,219],[142,162],[163],[164],[165],[166],[167],[169],[171],[173],[175],[13,40,56,58,74,81,84,90,92,94,99,102,120,123,124,125,154,157,170,174,176,182,188,240,261],[178],[181],[183],[42,184,218],[185],[186],[172,189,198,224],[193],[194],[195],[197],[199,200],[202],[43,135,199,203,227],[204],[205],[206],[63,96,135,151,198,207],[208],[209],[211],[212],[213],[214],[215],[113,216],[94,188,217],[42,221],[223],[225],[226],[229],[230],[231],[88,139,145,190,232],[19,233],[234],[58,235],[236],[13,154,170,237],[238],[239],[241],[243],[244],[245],[133,135,180,246],[63,227,247],[87,248],[13,49,120,174,249],[250],[251],[252],[253],[254],[255],[135,256],[257],[258],[259],[260],[262],[263],[264],[265],[266],[58,81,102,261,267],[268],[269],[40,56,81,84,92,99,102,182,188,261,270],[94,271]],\"size\":[3,3,2,1,1,1,4,2,20,1,4,1,1,3,9,1,5,1,8,1,1,5,2,1,1,1,10,2,3,5,1,1,1,1,1,6,2,1,24,3,2,1,1,3,1,3,1,2,2,3,7,3,1,1,3,3,1,1,2,1,1,2,1,1,1,3,1,1,4,1,1,1,1,3,1,10,1,1,1,1,1,1,2,4,2,4,1,1,1,4,3,3,1,1,2,1,2,1,2,1,2,1,3,2,1,1,1,1,1,1,1,1,1,25,1,1,1,3,1,1,4,1,1,1,1,2,1,5,1,1,1,6,1,1,1,1,1,1,1,2,3,2,1,1,1,1,1,1,5,2,1,2,1,4,1,1,1,1,1,1,4,3,2,5,1,1,1,1,1,1,2,1,1,1,1,1,1,1,1,1,5,1,1,11,2],\"size rescaled\":[9.4,9.4,8.6,7.8,7.8,7.8,10.2,8.6,23.0,7.8,10.2,7.8,7.8,9.4,14.2,7.8,11.0,7.8,13.4,7.8,7.8,11.0,8.6,7.8,7.8,7.8,15.0,8.6,9.4,11.0,7.8,7.8,7.8,7.8,7.8,11.8,8.6,7.8,26.2,9.4,8.6,7.8,7.8,9.4,7.8,9.4,7.8,8.6,8.6,9.4,12.6,9.4,7.8,7.8,9.4,9.4,7.8,7.8,8.6,7.8,7.8,8.6,7.8,7.8,7.8,9.4,7.8,7.8,10.2,7.8,7.8,7.8,7.8,9.4,7.8,15.0,7.8,7.8,7.8,7.8,7.8,7.8,8.6,10.2,8.6,10.2,7.8,7.8,7.8,10.2,9.4,9.4,7.8,7.8,8.6,7.8,8.6,7.8,8.6,7.8,8.6,7.8,9.4,8.6,7.8,7.8,7.8,7.8,7.8,7.8,7.8,7.8,7.8,27.0,7.8,7.8,7.8,9.4,7.8,7.8,10.2,7.8,7.8,7.8,7.8,8.6,7.8,11.0,7.8,7.8,7.8,11.8,7.8,7.8,7.8,7.8,7.8,7.8,7.8,8.6,9.4,8.6,7.8,7.8,7.8,7.8,7.8,7.8,11.0,8.6,7.8,8.6,7.8,10.2,7.8,7.8,7.8,7.8,7.8,7.8,10.2,9.4,8.6,11.0,7.8,7.8,7.8,7.8,7.8,7.8,8.6,7.8,7.8,7.8,7.8,7.8,7.8,7.8,7.8,7.8,11.0,7.8,7.8,15.8,8.6]},\"selected\":{\"id\":\"1562\"},\"selection_policy\":{\"id\":\"1561\"}},\"id\":\"1489\",\"type\":\"ColumnDataSource\"},{\"attributes\":{},\"id\":\"1563\",\"type\":\"UnionRenderers\"},{\"attributes\":{},\"id\":\"1564\",\"type\":\"Selection\"},{\"attributes\":{\"graph_layout\":{\"1\":[-0.014792588379664824,-0.06896572537704766],\"10\":[-0.15101054593282204,-0.939832631418917],\"100\":[0.6726549388898898,0.7152064255219132],\"101\":[0.42364631553308335,-0.8996703241984816],\"102\":[-0.4213926099649574,0.8950191941372989],\"103\":[0.010778847496254478,-0.16374780660869678],\"104\":[-0.03950513668052607,-0.0818476418190606],\"105\":[-0.9045508256668952,-0.4760818284658853],\"106\":[0.04264230198162255,0.9293531668891946],\"107\":[0.5605756422645491,-0.7912028116723374],\"108\":[0.6476807340963054,-0.7274530843923017],\"109\":[-0.46486310108285334,0.832183966932736],\"11\":[-0.03564511605966778,-0.009091419307022215],\"110\":[0.2285708675410786,0.9361636685316437],\"111\":[0.6788506746592673,0.630541846608695],\"112\":[-0.9574532322827601,-0.24964201922460724],\"113\":[-0.7209507833356413,-0.6618051677670723],\"114\":[0.07682092904112198,0.06020726844192849],\"115\":[0.9628230530505775,0.16262840316211757],\"116\":[0.9568050390196656,-0.05200624437898085],\"117\":[0.9061991005310984,-0.14501141947917062],\"118\":[0.009521083530967821,-0.20268109471585757],\"119\":[-0.3484271440157858,-0.9508939708233549],\"12\":[-0.8895953590286972,-0.3511752517142167],\"120\":[0.516639014319327,-0.8298195319713689],\"121\":[0.011056848259205122,-0.05081619480172951],\"122\":[0.9517517419748236,-0.25659657954828113],\"123\":[-0.8491790927681652,0.5640127013678774],\"124\":[-0.15306666161367058,0.9700475786899738],\"125\":[0.7389479010765703,0.6773524817910109],\"126\":[-0.0828580014998406,-0.04644731691539358],\"127\":[0.8256048603296252,-0.5312087364621378],\"128\":[-0.053775826384020106,-0.03599768073001543],\"129\":[0.9537908804893636,0.2547091323243483],\"13\":[-0.09535068217408837,0.9434199768660221],\"130\":[0.1994537366748232,-0.9699543526375336],\"131\":[0.06030088622190057,0.9839616878457416],\"132\":[-0.02482136426876398,-0.041958874159321445],\"133\":[0.8272616810686579,0.5253570096769922],\"134\":[0.6032362785490053,0.7311587747875354],\"135\":[-0.6127319955832078,-0.7401989202687097],\"136\":[0.5479713485818383,0.8041266282295056],\"137\":[0.6126504837560355,0.7856822299248344],\"138\":[0.36452642033814847,0.8179746506566395],\"139\":[0.853347797257427,0.4399579482228949],\"14\":[-0.005370509831931747,-0.03308462281137922],\"140\":[0.11129523231970692,0.11990415522997543],\"141\":[0.0662123471462648,0.06439230621983333],\"142\":[0.006762375687430485,-0.19082126967952082],\"143\":[0.062436928144594825,-1.0],\"144\":[-0.11828613333485806,0.8798004467113235],\"145\":[-0.8905244738653384,0.31708244754679],\"146\":[-0.761326512035972,-0.7022326854478663],\"147\":[0.9083747242317387,-0.340323062497272],\"148\":[-0.9660090720301132,0.12790769770726074],\"149\":[-0.04768410858384335,0.00046827679663690493],\"15\":[0.0035846357691389644,-0.025337100467759336],\"150\":[0.08792589435746063,0.12182427088189896],\"151\":[-0.9866158542776725,0.07370206616673643],\"152\":[0.09967088403020852,0.043963165154908605],\"153\":[0.2927805623746378,0.9461032255082491],\"154\":[0.09571141521853524,0.06256247352036429],\"155\":[0.6944286748327626,-0.690595551547443],\"156\":[-0.12070855591361575,-0.9878212435634063],\"157\":[-0.7593012018653885,0.6833693918773677],\"158\":[0.7541089244230013,0.6056378638251578],\"159\":[-0.212859851269273,-0.9558451135290459],\"16\":[0.261720938955249,-0.94345896599793],\"160\":[-0.837442363499215,-0.5313068816174399],\"161\":[-0.03287325739551391,-0.05385290505249179],\"162\":[-0.04202142804754291,-0.05392116606258723],\"163\":[0.025313657207470832,-0.014758490649278085],\"164\":[0.10017691792586719,0.05597245472686662],\"165\":[-0.33757646427708365,-0.9033936107183621],\"166\":[-0.36231074330477603,0.8793363318314547],\"167\":[-0.8297687816139515,-0.6054644649842965],\"168\":[-0.6274772075794095,-0.8209907127905738],\"169\":[0.9221147186734487,0.3111380726284964],\"17\":[-0.05913316196723884,-0.008692406238061341],\"170\":[-0.0038529238751276625,-0.9905392880164324],\"171\":[-0.0451315455909549,-0.04423930924061266],\"172\":[-0.9520695238288175,-0.19476346480939732],\"173\":[-0.29206552258664775,0.8702047657948666],\"174\":[0.31887687351919386,-0.9500519436426628],\"175\":[-0.7238161335133506,0.58850787036676],\"176\":[-0.027437535679341676,0.9604977311039123],\"177\":[0.46896518035832513,-0.8629320510249897],\"178\":[-0.9450992071457134,0.2875302668901746],\"179\":[-0.9719893205575308,0.20890108284821157],\"18\":[0.8796153645350463,0.47643681715634806],\"180\":[0.9821553173689773,0.05812853437921245],\"181\":[0.08826894239868587,0.039331141682860365],\"182\":[-0.5022895801604997,0.7566489100057652],\"183\":[0.9702487061397654,-0.18775325179353763],\"184\":[0.06912411334489998,0.04212251857498968],\"185\":[0.0797958904130182,0.08335388196116957],\"19\":[0.08708978937590162,0.05620772081414447],\"2\":[-0.08410192809793703,-0.09153258250967633],\"20\":[0.8991030773070148,-0.2795757703267638],\"21\":[-0.9773262501613911,0.015539321285529973],\"22\":[0.0859045542152155,0.09669803716365735],\"23\":[0.017625744467937045,-0.1916953103756399],\"24\":[-0.8411485000125324,0.3993040000953142],\"25\":[0.10216243646617972,-0.9688848866654775],\"26\":[0.923885340938397,0.37748153825232544],\"27\":[-0.06330127064242781,-0.0025092517318630395],\"28\":[-0.012027636897243895,-0.012623597819984199],\"29\":[-0.09575503994882026,0.009245117951981028],\"3\":[-0.6815975066317093,-0.7381060759305221],\"30\":[0.07630940484837037,0.09939294277725051],\"31\":[-0.48382288216672514,-0.8319183416655177],\"32\":[0.8586088699239813,-0.46008270399824247],\"33\":[-0.9274902553092369,0.19345654392668268],\"34\":[-0.7812278078296705,0.6029440010077539],\"35\":[-0.5233723901348241,0.8681356587458346],\"36\":[-0.05815082539317414,0.009821738416304378],\"37\":[-0.9330756595966818,0.38672921010492095],\"38\":[0.4453505934088815,0.8394461439243307],\"39\":[0.07755344855440495,0.044114842820461825],\"4\":[-0.8891940067827656,0.4694518909678195],\"40\":[-0.04918869322725974,-0.05086936260390644],\"41\":[0.07164503056548396,0.08503348372318606],\"42\":[-0.26971472077643965,-0.9654243068065729],\"43\":[-0.7624857727822836,-0.5866165726334632],\"44\":[-0.024941254592701686,-0.02280454585801434],\"45\":[0.9692213058032619,-0.11349719680509776],\"46\":[0.09340348320979767,0.11590089255121375],\"47\":[0.9260529821758281,0.21082045384551407],\"48\":[0.012556044649882348,-0.14174458084176994],\"49\":[-0.10934382291391866,-0.1097116762941879],\"5\":[0.17530776651959093,0.9188154572547875],\"50\":[0.01707279328054657,-0.015076834907974783],\"51\":[-0.02536194496946148,-0.04775543217373306],\"52\":[0.04173577047164301,0.013874241699850586],\"53\":[0.748507759770676,-0.6560460516071104],\"54\":[-0.21958507142780695,0.9194331157323697],\"55\":[-0.04202741163775799,-0.038376828757299405],\"56\":[-0.5592469101976042,-0.815742807259375],\"57\":[0.805494543229157,0.5820935199234079],\"58\":[0.12825815113028183,0.956862920752923],\"59\":[0.6168273796690016,-0.7774056094027756],\"6\":[-0.6787423976190243,0.7633435940042498],\"60\":[0.9755037014536038,0.00047509640203544236],\"61\":[0.4007592510519484,0.8986901944354956],\"62\":[-0.41894212018680554,-0.9030718132478098],\"63\":[-0.9510821717945455,-0.13857265176031333],\"64\":[0.5002630781506289,0.8441376087661026],\"65\":[-0.9985403617342816,-0.04065657109650934],\"66\":[0.04852394153310245,-0.07937663873794899],\"67\":[-0.9381096189292578,-0.3063330926247582],\"68\":[0.9134138403556948,-0.39369422098590434],\"69\":[-0.0621377262828586,-0.05475404794945115],\"7\":[-0.017736716131222366,-0.047487978273351536],\"70\":[-0.28304413609805323,0.9449959539657534],\"71\":[0.8124898061269538,-0.5908200449244146],\"72\":[0.1618337540904987,-0.9380767754296516],\"73\":[-0.49082184587706135,-0.8824802192177841],\"74\":[0.07432581036821984,-0.09881784321750434],\"75\":[-0.9232637928777172,-0.39498651036358595],\"76\":[0.001306640440705935,-0.042943292338931814],\"77\":[-0.9702065148421022,-0.08609325275412909],\"78\":[0.8908308995125989,-0.47422838954801666],\"79\":[0.32361134963851174,0.8939794786002593],\"8\":[0.08057088477414903,0.11882911459210382],\"80\":[-0.6775292755829825,0.6847676011412862],\"81\":[-0.5919289932692964,0.7179962113764989],\"82\":[0.8482194157743475,0.36379816990560365],\"83\":[-0.08806424779151012,0.021465359398056445],\"84\":[0.009283685229443554,-0.10719787052523434],\"85\":[0.06961579423903676,0.13273722557660084],\"86\":[-0.047920942989135545,-0.06411899695896843],\"87\":[-0.055600315866519784,-0.9655962543654155],\"88\":[0.3649337064805028,-0.9099594263150781],\"89\":[0.7415250335526203,-0.5948549665604147],\"9\":[0.09099976126543079,0.0490267592753551],\"90\":[-0.008650248204475644,-0.06406367007980229],\"91\":[0.03794171183573417,-0.06620100240987345],\"92\":[0.007144565576817601,-0.0827469310632797],\"93\":[-0.8160423035576274,0.497580209274753],\"94\":[0.9556320268388314,0.10501663162300494],\"95\":[0.007957461786888586,-0.23158124452148993],\"96\":[-0.5973146251134901,0.8036370805273079],\"97\":[0.014852592826685362,-0.08092938718752284],\"98\":[-0.8373070770439078,-0.4543478868014968],\"99\":[0.04249042548294719,-0.05689449303506701]}},\"id\":\"1496\",\"type\":\"StaticLayoutProvider\"},{\"attributes\":{\"active_scroll\":{\"id\":\"1477\"},\"tools\":[{\"id\":\"1478\"},{\"id\":\"1476\"},{\"id\":\"1477\"},{\"id\":\"1479\"},{\"id\":\"1480\"}]},\"id\":\"1481\",\"type\":\"Toolbar\"},{\"attributes\":{\"line_alpha\":{\"value\":0.8}},\"id\":\"1502\",\"type\":\"MultiLine\"},{\"attributes\":{\"source\":{\"id\":\"1489\"}},\"id\":\"1491\",\"type\":\"CDSView\"},{\"attributes\":{\"coordinates\":null,\"group\":null},\"id\":\"1549\",\"type\":\"Title\"},{\"attributes\":{},\"id\":\"1547\",\"type\":\"LinearScale\"},{\"attributes\":{\"coordinates\":null,\"data_source\":{\"id\":\"1489\"},\"glyph\":{\"id\":\"1497\"},\"group\":null,\"hover_glyph\":null,\"view\":{\"id\":\"1491\"}},\"id\":\"1490\",\"type\":\"GlyphRenderer\"},{\"attributes\":{\"source\":{\"id\":\"1493\"}},\"id\":\"1495\",\"type\":\"CDSView\"},{\"attributes\":{\"start\":-1},\"id\":\"1471\",\"type\":\"Range1d\"},{\"attributes\":{\"fill_alpha\":{\"value\":0.8},\"fill_color\":{\"field\":\"color\"},\"size\":{\"field\":\"size rescaled\"}},\"id\":\"1497\",\"type\":\"Circle\"},{\"attributes\":{\"coordinates\":null,\"edge_renderer\":{\"id\":\"1494\"},\"group\":null,\"inspection_policy\":{\"id\":\"1560\"},\"layout_provider\":{\"id\":\"1496\"},\"node_renderer\":{\"id\":\"1490\"},\"selection_policy\":{\"id\":\"1559\"}},\"id\":\"1487\",\"type\":\"GraphRenderer\"},{\"attributes\":{},\"id\":\"1478\",\"type\":\"PanTool\"},{\"attributes\":{},\"id\":\"1479\",\"type\":\"ResetTool\"},{\"attributes\":{\"start\":-1},\"id\":\"1472\",\"type\":\"Range1d\"},{\"attributes\":{\"callback\":null,\"tooltips\":[[\"index\",\"@index\"],[\"size\",\"@size\"]]},\"id\":\"1476\",\"type\":\"HoverTool\"},{\"attributes\":{\"coordinates\":null,\"data_source\":{\"id\":\"1493\"},\"glyph\":{\"id\":\"1502\"},\"group\":null,\"hover_glyph\":null,\"view\":{\"id\":\"1495\"}},\"id\":\"1494\",\"type\":\"GlyphRenderer\"},{\"attributes\":{},\"id\":\"1559\",\"type\":\"NodesOnly\"},{\"attributes\":{},\"id\":\"1561\",\"type\":\"UnionRenderers\"},{\"attributes\":{},\"id\":\"1477\",\"type\":\"WheelZoomTool\"},{\"attributes\":{},\"id\":\"1562\",\"type\":\"Selection\"},{\"attributes\":{},\"id\":\"1480\",\"type\":\"SaveTool\"}],\"root_ids\":[\"1473\"]},\"title\":\"Bokeh Application\",\"version\":\"2.4.3\"}};\n  const render_items = [{\"docid\":\"f57b981c-3e5f-4967-b720-678f046403f1\",\"root_ids\":[\"1473\"],\"roots\":{\"1473\":\"10a326d0-3ab2-4547-a8cf-3f561eaa684c\"}}];\n  root.Bokeh.embed.embed_items_notebook(docs_json, render_items);\n  }\n  if (root.Bokeh !== undefined) {\n    embed_document(root);\n  } else {\n    let attempts = 0;\n    const timer = setInterval(function(root) {\n      if (root.Bokeh !== undefined) {\n        clearInterval(timer);\n        embed_document(root);\n      } else {\n        attempts++;\n        if (attempts > 100) {\n          clearInterval(timer);\n          console.log(\"Bokeh: ERROR: Unable to run BokehJS code because BokehJS library is missing\");\n        }\n      }\n    }, 10, root)\n  }\n})(window);",
      "application/vnd.bokehjs_exec.v0+json": ""
     },
     "metadata": {
      "application/vnd.bokehjs_exec.v0+json": {
       "id": "1473"
      }
     },
     "output_type": "display_data"
    }
   ],
   "source": [
    "EPS_correlation = 0.5\n",
    "\n",
    "X = nki_cleaned_df[nki_cleaned_df.columns[17:]]\n",
    "\n",
    "nki_correlation_bm = BallMapper(points = X.values, # the pointcloud, as a numpy array\n",
    "                           epsilon = EPS_correlation,\n",
    "                           distance=correlation,\n",
    "                           dbg=True) # the radius of the balls\n",
    "\n",
    "my_red_palette = cm.get_cmap(name='Reds')\n",
    "nki_correlation_bm.add_coloring(coloring_df=nki_cleaned_df[['eventdeath', 'esr1']])\n",
    "correlation_gui = graph_GUI(nki_correlation_bm.Graph, my_red_palette,\n",
    "                            )\n",
    "correlation_gui.color_by_variable('eventdeath')\n",
    "\n",
    "show(correlation_gui.plot)"
   ]
  },
  {
   "cell_type": "markdown",
   "metadata": {},
   "source": [
    "The flare with lower survival probability corresponds to high ESR1 patients that do not respond well to therapy."
   ]
  },
  {
   "cell_type": "code",
   "execution_count": 13,
   "metadata": {},
   "outputs": [
    {
     "name": "stdout",
     "output_type": "stream",
     "text": [
      "color by variable esr1 \n",
      "MIN_VALUE: -1.334, MAX_VALUE: 0.588\n"
     ]
    },
    {
     "data": {
      "text/html": [
       "\n",
       "  <div class=\"bk-root\" id=\"0f7c1db1-b2d8-4ca2-a13f-23d1ba6b0496\" data-root-id=\"1473\"></div>\n"
      ]
     },
     "metadata": {},
     "output_type": "display_data"
    },
    {
     "data": {
      "application/javascript": "(function(root) {\n  function embed_document(root) {\n  const docs_json = {\"69a7d2fb-f00e-4559-97bb-d21d75bf7e05\":{\"defs\":[],\"roots\":{\"references\":[{\"attributes\":{\"output_backend\":\"svg\",\"renderers\":[{\"id\":\"1487\"}],\"title\":{\"id\":\"1549\"},\"toolbar\":{\"id\":\"1481\"},\"width\":800,\"x_range\":{\"id\":\"1471\"},\"x_scale\":{\"id\":\"1547\"},\"y_range\":{\"id\":\"1472\"},\"y_scale\":{\"id\":\"1548\"}},\"id\":\"1473\",\"type\":\"Plot\"},{\"attributes\":{},\"id\":\"1560\",\"type\":\"NodesOnly\"},{\"attributes\":{},\"id\":\"1548\",\"type\":\"LinearScale\"},{\"attributes\":{\"data\":{\"end\":[76,90,161,49,86,14,15,51,76,86,132,162,22,30,46,150,19,39,114,152,154,164,181,184,17,27,28,36,76,149,15,50,51,76,132,44,50,51,52,76,121,132,163,27,36,128,149,39,114,154,164,184,30,41,46,114,140,141,150,185,103,118,142,29,36,44,83,128,149,76,41,46,85,114,141,150,185,149,52,114,141,152,154,164,181,184,51,55,69,86,128,132,161,171,114,141,185,51,121,132,149,150,84,103,52,76,163,55,76,86,104,121,128,132,161,162,171,76,114,141,163,184,128,132,161,171,74,121,86,126,128,161,162,84,90,92,97,132,161,163,92,97,103,132,161,162,161,99,121,97,118,121,118,142,141,152,154,164,181,184,185,142,132,128,132,161,162,171,161,162,171,184,185,181,164,171,184],\"start\":[1,1,1,2,2,7,7,7,7,7,7,7,8,8,8,8,9,9,9,9,9,9,9,9,11,11,11,11,11,11,14,14,14,14,14,15,15,15,15,15,15,15,15,17,17,17,17,19,19,19,19,19,22,22,22,22,22,22,22,22,23,23,23,27,27,27,27,27,27,28,30,30,30,30,30,30,30,36,39,39,39,39,39,39,39,39,40,40,40,40,40,40,40,40,41,41,41,44,44,44,44,46,48,48,50,50,50,51,51,51,51,51,51,51,51,51,51,52,52,52,52,52,55,55,55,55,66,66,69,69,69,69,69,76,76,76,76,76,76,76,84,84,84,86,86,86,90,91,91,92,95,99,103,103,114,114,114,114,114,114,114,118,121,126,128,128,128,128,132,132,132,141,141,152,154,161,181]},\"selected\":{\"id\":\"1564\"},\"selection_policy\":{\"id\":\"1563\"}},\"id\":\"1493\",\"type\":\"ColumnDataSource\"},{\"attributes\":{\"data\":{\"color\":[\"#f14130\",\"#b31218\",\"#af1117\",\"#e53228\",\"#c9181d\",\"#b01217\",\"#e43027\",\"#fee3d7\",\"#ffece3\",\"#f34935\",\"#dc2924\",\"#f0402f\",\"#fc9b7c\",\"#ef3c2c\",\"#f85d42\",\"#e22e27\",\"#c4161c\",\"#fb6c4c\",\"#fee9df\",\"#f14130\",\"#da2723\",\"#ffece3\",\"#820711\",\"#fcc1a8\",\"#fb7252\",\"#f6563d\",\"#b81419\",\"#c9181d\",\"#8e0912\",\"#ffefe8\",\"#da2723\",\"#f03d2d\",\"#ec382b\",\"#a50f15\",\"#c3161b\",\"#b31218\",\"#fa6547\",\"#ef3c2c\",\"#ffeee7\",\"#c5171c\",\"#fee1d3\",\"#f6563d\",\"#8c0912\",\"#b81419\",\"#fc8d6d\",\"#fee1d4\",\"#be151a\",\"#9a0c14\",\"#d72322\",\"#f75c41\",\"#d42121\",\"#fedccd\",\"#f75c41\",\"#fc8f6f\",\"#ad1117\",\"#f14432\",\"#bb141a\",\"#840711\",\"#ec382b\",\"#e32f27\",\"#f0402f\",\"#f14331\",\"#fa6849\",\"#eb372a\",\"#f96346\",\"#b01217\",\"#d42121\",\"#fcc2aa\",\"#bb141a\",\"#e53228\",\"#e22e27\",\"#da2723\",\"#ffede5\",\"#d82422\",\"#f96346\",\"#f14331\",\"#dd2a25\",\"#ea362a\",\"#fb7a5a\",\"#fb7252\",\"#fb6b4b\",\"#cf1c1f\",\"#b01217\",\"#e12d26\",\"#fcbea5\",\"#aa1016\",\"#e12d26\",\"#a60f15\",\"#a60f15\",\"#d72322\",\"#d32020\",\"#f96346\",\"#fb7151\",\"#f5533b\",\"#fb694a\",\"#ec382b\",\"#f03f2e\",\"#f24633\",\"#d42121\",\"#e93529\",\"#c2161b\",\"#ca181d\",\"#b11218\",\"#cf1c1f\",\"#b51318\",\"#fc7f5f\",\"#f44d38\",\"#bf151b\",\"#b81419\",\"#f6553c\",\"#d52221\",\"#d21f20\",\"#b71319\",\"#ffeee7\",\"#cf1c1f\",\"#ea362a\",\"#77040f\",\"#c3161b\",\"#fdd7c6\",\"#bf151b\",\"#cb181d\",\"#f34c37\",\"#f14130\",\"#bf151b\",\"#e32f27\",\"#af1117\",\"#9d0d14\",\"#af1117\",\"#fc8d6d\",\"#a30f15\",\"#fcbda4\",\"#d21f20\",\"#be151a\",\"#fc8262\",\"#fff5f0\",\"#900a12\",\"#f96346\",\"#f96346\",\"#b71319\",\"#fc9777\",\"#ffeee6\",\"#c1161b\",\"#980c13\",\"#bb141a\",\"#f75b40\",\"#f6563d\",\"#c5171c\",\"#7c0510\",\"#c9181d\",\"#ffeee6\",\"#67000d\",\"#fdd4c2\",\"#920a13\",\"#fee5d9\",\"#f96245\",\"#c5171c\",\"#c5171c\",\"#fcb69b\",\"#ef3c2c\",\"#c9181d\",\"#c1161b\",\"#be151a\",\"#fca285\",\"#fed8c7\",\"#f14432\",\"#f75b40\",\"#f14130\",\"#d21f20\",\"#e02c26\",\"#ef3c2c\",\"#c4161c\",\"#fc9c7d\",\"#cb181d\",\"#c4161c\",\"#ce1a1e\",\"#bc141a\",\"#d42121\",\"#e83429\",\"#e22e27\",\"#f34935\",\"#fee8dd\",\"#d21f20\",\"#fc9576\",\"#ffeee6\",\"#fee7dc\"],\"esr1\":[-0.16651400000000002,0.25427333333333335,0.2826435,-0.066771,0.121859,0.27341,-0.0596525,-1.13086,-1.22656735,-0.202664,-0.006307750000000001,-0.162349,-0.661729,-0.13544266666666668,-0.310287,-0.048179,0.1518644,-0.3873,-1.196523,-0.164632,0.008423,-1.2279322,0.4805865,-0.885781,-0.421592,-0.268419,0.2241317,0.1203245,0.43459633333333336,-1.2638666,0.006759,-0.147207,-0.111838,0.343665,0.154528,0.25149133333333334,-0.3485925,-0.13603,-1.2589859583333334,0.137491,-1.09512,-0.270681,0.438809,0.223027,-0.582938,-1.105793,0.188991,0.385992,0.0258755,-0.29935233333333333,0.043454428571428574,-1.0674029999999999,-0.300751,-0.597746,0.28822033333333336,-0.18202333333333334,0.209422,0.473494,-0.11351950000000001,-0.051943,-0.162281,-0.17138,-0.361686,-0.105017,-0.34081,0.2775083333333333,0.043225,-0.891372,0.207197,-0.070873,-0.043293,0.005666,-1.23731,0.01894233333333333,-0.341476,-0.17703760000000002,-0.018613,-0.095563,-0.463737,-0.424719,-0.37353,0.081441,0.2792,-0.038005750000000005,-0.8693705,0.31353575,-0.040568,0.338275,0.335091,0.028294250000000003,0.054100333333333334,-0.3402779999999999,-0.417041,-0.255982,-0.372043,-0.110902,-0.149181,-0.185495,0.040646,-0.089822,0.1624735,0.109356,0.267272,0.08362,0.247885,-0.494486,-0.228539,0.178182,0.226397,-0.263174,0.033616,0.061767,0.228925,-1.25744116,0.083247,-0.099091,0.522648,0.15379,-1.030526,0.175113,0.10663875,-0.220652,-0.167348,0.178846,-0.05216,0.28283,0.37663,0.2810072,-0.57949,0.351714,-0.867899,0.055191500000000004,0.187085,-0.517116,-1.334223,0.428746,-0.341585,-0.342984,0.232049,-0.641003,-1.24843,0.17061300000000001,0.395972,0.207192,-0.294233,-0.274458,0.13999,0.501602,0.11518379999999999,-1.244402,0.587983,-1.018722,0.420483,-1.15146225,-0.33158,0.142405,0.138597,-0.821286,-0.136145,0.114946,0.17388749999999997,0.18431433333333336,-0.706763,-1.0377361999999999,-0.180312,-0.295729,-0.16347,0.059033,-0.034661,-0.132915,0.15161750000000002,-0.668578,0.103277,0.151225,0.088049,0.203644,0.040157,-0.082388,-0.049818,-0.204023,-1.1785656,0.062265,-0.635322,-1.2496996363636366,-1.175493],\"eventdeath\":[0.0,0.0,0.0,0.0,0.0,0.0,0.0,0.5,0.55,0.0,0.0,1.0,1.0,0.0,0.2222222222222222,0.0,0.0,0.0,0.5,0.0,1.0,0.8,0.5,0.0,1.0,0.0,0.0,0.5,0.0,0.8,1.0,1.0,0.0,0.0,1.0,0.0,0.5,0.0,0.5416666666666666,0.0,0.5,1.0,0.0,0.3333333333333333,0.0,0.3333333333333333,0.0,0.5,0.0,0.0,0.0,0.0,0.0,0.0,0.0,0.0,0.0,0.0,0.0,0.0,1.0,1.0,0.0,0.0,1.0,0.0,0.0,1.0,0.0,0.0,0.0,0.0,0.0,0.0,0.0,0.0,0.0,1.0,0.0,1.0,0.0,0.0,0.0,0.5,0.5,0.0,0.0,0.0,0.0,0.0,0.0,0.3333333333333333,0.0,0.0,0.0,0.0,0.0,1.0,0.0,0.0,0.0,1.0,0.6666666666666666,0.0,1.0,1.0,0.0,0.0,0.0,0.0,0.0,0.0,1.0,0.56,0.0,0.0,0.0,0.6666666666666666,1.0,0.0,0.0,0.0,0.0,0.0,0.0,0.0,0.0,0.0,0.0,0.0,0.0,0.0,0.0,1.0,1.0,1.0,1.0,0.0,1.0,0.5,0.6666666666666666,0.5,1.0,0.0,1.0,0.0,0.0,0.0,0.0,0.5,1.0,0.5,0.0,0.25,0.0,0.0,1.0,1.0,0.0,0.0,0.0,0.0,0.0,0.2,0.0,0.0,0.0,0.0,0.0,0.0,0.0,0.0,0.0,0.0,0.0,1.0,1.0,1.0,1.0,1.0,1.0,1.0,1.0,0.6363636363636364,1.0],\"index\":[1,2,3,4,5,6,7,8,9,10,11,12,13,14,15,16,17,18,19,20,21,22,23,24,25,26,27,28,29,30,31,32,33,34,35,36,37,38,39,40,41,42,43,44,45,46,47,48,49,50,51,52,53,54,55,56,57,58,59,60,61,62,63,64,65,66,67,68,69,70,71,72,73,74,75,76,77,78,79,80,81,82,83,84,85,86,87,88,89,90,91,92,93,94,95,96,97,98,99,100,101,102,103,104,105,106,107,108,109,110,111,112,113,114,115,116,117,118,119,120,121,122,123,124,125,126,127,128,129,130,131,132,133,134,135,136,137,138,139,140,141,142,143,144,145,146,147,148,149,150,151,152,153,154,155,156,157,158,159,160,161,162,163,164,165,166,167,168,169,170,171,172,173,174,175,176,177,178,179,180,181,182,183,184,185],\"landmark\":[0,1,3,4,5,6,7,8,9,10,11,12,14,15,16,17,18,20,21,22,23,24,25,26,27,28,30,31,33,34,35,37,38,39,41,44,46,47,48,50,51,52,55,57,59,61,62,64,65,66,68,69,70,71,72,75,76,77,78,79,82,86,89,91,93,95,97,98,100,101,103,104,105,106,107,108,110,111,112,114,115,116,117,118,122,126,127,128,129,132,136,140,141,144,146,147,148,149,150,153,156,158,161,162,163,164,165,166,167,169,171,173,175,176,178,181,183,184,185,186,189,193,194,195,197,200,202,203,204,205,206,207,208,209,211,212,213,214,215,216,217,221,223,225,226,229,230,231,232,233,234,235,236,237,238,239,241,243,244,245,246,247,248,249,250,251,252,253,254,255,256,257,258,259,260,262,263,264,265,266,267,268,269,270,271],\"points covered\":[[0,36,180],[1,2,119],[3,45],[4],[5],[6],[7,63,96,131],[8,19],[9,13,40,49,58,81,84,90,92,120,123,124,125,154,168,170,174,179,240,261],[10],[11,32,88,145],[12],[14],[15,54,96],[16,29,54,87,96,151,198,201,210],[17],[18,43,83,88,145],[20],[13,21,56,90,123,125,174,240],[22],[23],[19,24,53,94,113],[25,42],[26],[27],[28],[30,43,88,134,138,139,145,190,191,228],[31,32],[33,60,138],[19,34,67,85,94],[35],[37],[38],[39],[41],[44,143,145,190,191,192],[46,155],[47],[13,40,48,56,58,74,84,90,92,99,102,120,123,124,125,130,157,170,174,179,182,188,240,261],[50,133,135],[51,94],[52],[55],[57,139,198],[59],[19,61,177],[62],[64,219],[65,119],[54,66,87],[63,68,96,135,142,151,198],[69,87,188],[70],[71],[72,73,135],[75,109,121],[76],[77],[78,80],[79],[82],[86,242],[89],[91],[93],[95,152,172],[97],[98],[100,133,199,227],[101],[103],[104],[105],[106,152,222],[107],[32,36,54,87,96,108,131,159,160,180],[110],[111],[112],[114],[115],[116],[117,228],[118,137,160,219],[85,122],[2,63,126,133],[127],[128],[129],[36,132,180,187],[136,196,224],[140,159,160],[141],[144],[146,218],[147],[148,160],[149],[150,224],[153],[156,220],[158],[42,161,219],[142,162],[163],[164],[165],[166],[167],[169],[171],[173],[175],[13,40,56,58,74,81,84,90,92,94,99,102,120,123,124,125,154,157,170,174,176,182,188,240,261],[178],[181],[183],[42,184,218],[185],[186],[172,189,198,224],[193],[194],[195],[197],[199,200],[202],[43,135,199,203,227],[204],[205],[206],[63,96,135,151,198,207],[208],[209],[211],[212],[213],[214],[215],[113,216],[94,188,217],[42,221],[223],[225],[226],[229],[230],[231],[88,139,145,190,232],[19,233],[234],[58,235],[236],[13,154,170,237],[238],[239],[241],[243],[244],[245],[133,135,180,246],[63,227,247],[87,248],[13,49,120,174,249],[250],[251],[252],[253],[254],[255],[135,256],[257],[258],[259],[260],[262],[263],[264],[265],[266],[58,81,102,261,267],[268],[269],[40,56,81,84,92,99,102,182,188,261,270],[94,271]],\"size\":[3,3,2,1,1,1,4,2,20,1,4,1,1,3,9,1,5,1,8,1,1,5,2,1,1,1,10,2,3,5,1,1,1,1,1,6,2,1,24,3,2,1,1,3,1,3,1,2,2,3,7,3,1,1,3,3,1,1,2,1,1,2,1,1,1,3,1,1,4,1,1,1,1,3,1,10,1,1,1,1,1,1,2,4,2,4,1,1,1,4,3,3,1,1,2,1,2,1,2,1,2,1,3,2,1,1,1,1,1,1,1,1,1,25,1,1,1,3,1,1,4,1,1,1,1,2,1,5,1,1,1,6,1,1,1,1,1,1,1,2,3,2,1,1,1,1,1,1,5,2,1,2,1,4,1,1,1,1,1,1,4,3,2,5,1,1,1,1,1,1,2,1,1,1,1,1,1,1,1,1,5,1,1,11,2],\"size rescaled\":[9.4,9.4,8.6,7.8,7.8,7.8,10.2,8.6,23.0,7.8,10.2,7.8,7.8,9.4,14.2,7.8,11.0,7.8,13.4,7.8,7.8,11.0,8.6,7.8,7.8,7.8,15.0,8.6,9.4,11.0,7.8,7.8,7.8,7.8,7.8,11.8,8.6,7.8,26.2,9.4,8.6,7.8,7.8,9.4,7.8,9.4,7.8,8.6,8.6,9.4,12.6,9.4,7.8,7.8,9.4,9.4,7.8,7.8,8.6,7.8,7.8,8.6,7.8,7.8,7.8,9.4,7.8,7.8,10.2,7.8,7.8,7.8,7.8,9.4,7.8,15.0,7.8,7.8,7.8,7.8,7.8,7.8,8.6,10.2,8.6,10.2,7.8,7.8,7.8,10.2,9.4,9.4,7.8,7.8,8.6,7.8,8.6,7.8,8.6,7.8,8.6,7.8,9.4,8.6,7.8,7.8,7.8,7.8,7.8,7.8,7.8,7.8,7.8,27.0,7.8,7.8,7.8,9.4,7.8,7.8,10.2,7.8,7.8,7.8,7.8,8.6,7.8,11.0,7.8,7.8,7.8,11.8,7.8,7.8,7.8,7.8,7.8,7.8,7.8,8.6,9.4,8.6,7.8,7.8,7.8,7.8,7.8,7.8,11.0,8.6,7.8,8.6,7.8,10.2,7.8,7.8,7.8,7.8,7.8,7.8,10.2,9.4,8.6,11.0,7.8,7.8,7.8,7.8,7.8,7.8,8.6,7.8,7.8,7.8,7.8,7.8,7.8,7.8,7.8,7.8,11.0,7.8,7.8,15.8,8.6]},\"selected\":{\"id\":\"1562\"},\"selection_policy\":{\"id\":\"1561\"}},\"id\":\"1489\",\"type\":\"ColumnDataSource\"},{\"attributes\":{},\"id\":\"1563\",\"type\":\"UnionRenderers\"},{\"attributes\":{},\"id\":\"1564\",\"type\":\"Selection\"},{\"attributes\":{\"graph_layout\":{\"1\":[-0.014792588379664824,-0.06896572537704766],\"10\":[-0.15101054593282204,-0.939832631418917],\"100\":[0.6726549388898898,0.7152064255219132],\"101\":[0.42364631553308335,-0.8996703241984816],\"102\":[-0.4213926099649574,0.8950191941372989],\"103\":[0.010778847496254478,-0.16374780660869678],\"104\":[-0.03950513668052607,-0.0818476418190606],\"105\":[-0.9045508256668952,-0.4760818284658853],\"106\":[0.04264230198162255,0.9293531668891946],\"107\":[0.5605756422645491,-0.7912028116723374],\"108\":[0.6476807340963054,-0.7274530843923017],\"109\":[-0.46486310108285334,0.832183966932736],\"11\":[-0.03564511605966778,-0.009091419307022215],\"110\":[0.2285708675410786,0.9361636685316437],\"111\":[0.6788506746592673,0.630541846608695],\"112\":[-0.9574532322827601,-0.24964201922460724],\"113\":[-0.7209507833356413,-0.6618051677670723],\"114\":[0.07682092904112198,0.06020726844192849],\"115\":[0.9628230530505775,0.16262840316211757],\"116\":[0.9568050390196656,-0.05200624437898085],\"117\":[0.9061991005310984,-0.14501141947917062],\"118\":[0.009521083530967821,-0.20268109471585757],\"119\":[-0.3484271440157858,-0.9508939708233549],\"12\":[-0.8895953590286972,-0.3511752517142167],\"120\":[0.516639014319327,-0.8298195319713689],\"121\":[0.011056848259205122,-0.05081619480172951],\"122\":[0.9517517419748236,-0.25659657954828113],\"123\":[-0.8491790927681652,0.5640127013678774],\"124\":[-0.15306666161367058,0.9700475786899738],\"125\":[0.7389479010765703,0.6773524817910109],\"126\":[-0.0828580014998406,-0.04644731691539358],\"127\":[0.8256048603296252,-0.5312087364621378],\"128\":[-0.053775826384020106,-0.03599768073001543],\"129\":[0.9537908804893636,0.2547091323243483],\"13\":[-0.09535068217408837,0.9434199768660221],\"130\":[0.1994537366748232,-0.9699543526375336],\"131\":[0.06030088622190057,0.9839616878457416],\"132\":[-0.02482136426876398,-0.041958874159321445],\"133\":[0.8272616810686579,0.5253570096769922],\"134\":[0.6032362785490053,0.7311587747875354],\"135\":[-0.6127319955832078,-0.7401989202687097],\"136\":[0.5479713485818383,0.8041266282295056],\"137\":[0.6126504837560355,0.7856822299248344],\"138\":[0.36452642033814847,0.8179746506566395],\"139\":[0.853347797257427,0.4399579482228949],\"14\":[-0.005370509831931747,-0.03308462281137922],\"140\":[0.11129523231970692,0.11990415522997543],\"141\":[0.0662123471462648,0.06439230621983333],\"142\":[0.006762375687430485,-0.19082126967952082],\"143\":[0.062436928144594825,-1.0],\"144\":[-0.11828613333485806,0.8798004467113235],\"145\":[-0.8905244738653384,0.31708244754679],\"146\":[-0.761326512035972,-0.7022326854478663],\"147\":[0.9083747242317387,-0.340323062497272],\"148\":[-0.9660090720301132,0.12790769770726074],\"149\":[-0.04768410858384335,0.00046827679663690493],\"15\":[0.0035846357691389644,-0.025337100467759336],\"150\":[0.08792589435746063,0.12182427088189896],\"151\":[-0.9866158542776725,0.07370206616673643],\"152\":[0.09967088403020852,0.043963165154908605],\"153\":[0.2927805623746378,0.9461032255082491],\"154\":[0.09571141521853524,0.06256247352036429],\"155\":[0.6944286748327626,-0.690595551547443],\"156\":[-0.12070855591361575,-0.9878212435634063],\"157\":[-0.7593012018653885,0.6833693918773677],\"158\":[0.7541089244230013,0.6056378638251578],\"159\":[-0.212859851269273,-0.9558451135290459],\"16\":[0.261720938955249,-0.94345896599793],\"160\":[-0.837442363499215,-0.5313068816174399],\"161\":[-0.03287325739551391,-0.05385290505249179],\"162\":[-0.04202142804754291,-0.05392116606258723],\"163\":[0.025313657207470832,-0.014758490649278085],\"164\":[0.10017691792586719,0.05597245472686662],\"165\":[-0.33757646427708365,-0.9033936107183621],\"166\":[-0.36231074330477603,0.8793363318314547],\"167\":[-0.8297687816139515,-0.6054644649842965],\"168\":[-0.6274772075794095,-0.8209907127905738],\"169\":[0.9221147186734487,0.3111380726284964],\"17\":[-0.05913316196723884,-0.008692406238061341],\"170\":[-0.0038529238751276625,-0.9905392880164324],\"171\":[-0.0451315455909549,-0.04423930924061266],\"172\":[-0.9520695238288175,-0.19476346480939732],\"173\":[-0.29206552258664775,0.8702047657948666],\"174\":[0.31887687351919386,-0.9500519436426628],\"175\":[-0.7238161335133506,0.58850787036676],\"176\":[-0.027437535679341676,0.9604977311039123],\"177\":[0.46896518035832513,-0.8629320510249897],\"178\":[-0.9450992071457134,0.2875302668901746],\"179\":[-0.9719893205575308,0.20890108284821157],\"18\":[0.8796153645350463,0.47643681715634806],\"180\":[0.9821553173689773,0.05812853437921245],\"181\":[0.08826894239868587,0.039331141682860365],\"182\":[-0.5022895801604997,0.7566489100057652],\"183\":[0.9702487061397654,-0.18775325179353763],\"184\":[0.06912411334489998,0.04212251857498968],\"185\":[0.0797958904130182,0.08335388196116957],\"19\":[0.08708978937590162,0.05620772081414447],\"2\":[-0.08410192809793703,-0.09153258250967633],\"20\":[0.8991030773070148,-0.2795757703267638],\"21\":[-0.9773262501613911,0.015539321285529973],\"22\":[0.0859045542152155,0.09669803716365735],\"23\":[0.017625744467937045,-0.1916953103756399],\"24\":[-0.8411485000125324,0.3993040000953142],\"25\":[0.10216243646617972,-0.9688848866654775],\"26\":[0.923885340938397,0.37748153825232544],\"27\":[-0.06330127064242781,-0.0025092517318630395],\"28\":[-0.012027636897243895,-0.012623597819984199],\"29\":[-0.09575503994882026,0.009245117951981028],\"3\":[-0.6815975066317093,-0.7381060759305221],\"30\":[0.07630940484837037,0.09939294277725051],\"31\":[-0.48382288216672514,-0.8319183416655177],\"32\":[0.8586088699239813,-0.46008270399824247],\"33\":[-0.9274902553092369,0.19345654392668268],\"34\":[-0.7812278078296705,0.6029440010077539],\"35\":[-0.5233723901348241,0.8681356587458346],\"36\":[-0.05815082539317414,0.009821738416304378],\"37\":[-0.9330756595966818,0.38672921010492095],\"38\":[0.4453505934088815,0.8394461439243307],\"39\":[0.07755344855440495,0.044114842820461825],\"4\":[-0.8891940067827656,0.4694518909678195],\"40\":[-0.04918869322725974,-0.05086936260390644],\"41\":[0.07164503056548396,0.08503348372318606],\"42\":[-0.26971472077643965,-0.9654243068065729],\"43\":[-0.7624857727822836,-0.5866165726334632],\"44\":[-0.024941254592701686,-0.02280454585801434],\"45\":[0.9692213058032619,-0.11349719680509776],\"46\":[0.09340348320979767,0.11590089255121375],\"47\":[0.9260529821758281,0.21082045384551407],\"48\":[0.012556044649882348,-0.14174458084176994],\"49\":[-0.10934382291391866,-0.1097116762941879],\"5\":[0.17530776651959093,0.9188154572547875],\"50\":[0.01707279328054657,-0.015076834907974783],\"51\":[-0.02536194496946148,-0.04775543217373306],\"52\":[0.04173577047164301,0.013874241699850586],\"53\":[0.748507759770676,-0.6560460516071104],\"54\":[-0.21958507142780695,0.9194331157323697],\"55\":[-0.04202741163775799,-0.038376828757299405],\"56\":[-0.5592469101976042,-0.815742807259375],\"57\":[0.805494543229157,0.5820935199234079],\"58\":[0.12825815113028183,0.956862920752923],\"59\":[0.6168273796690016,-0.7774056094027756],\"6\":[-0.6787423976190243,0.7633435940042498],\"60\":[0.9755037014536038,0.00047509640203544236],\"61\":[0.4007592510519484,0.8986901944354956],\"62\":[-0.41894212018680554,-0.9030718132478098],\"63\":[-0.9510821717945455,-0.13857265176031333],\"64\":[0.5002630781506289,0.8441376087661026],\"65\":[-0.9985403617342816,-0.04065657109650934],\"66\":[0.04852394153310245,-0.07937663873794899],\"67\":[-0.9381096189292578,-0.3063330926247582],\"68\":[0.9134138403556948,-0.39369422098590434],\"69\":[-0.0621377262828586,-0.05475404794945115],\"7\":[-0.017736716131222366,-0.047487978273351536],\"70\":[-0.28304413609805323,0.9449959539657534],\"71\":[0.8124898061269538,-0.5908200449244146],\"72\":[0.1618337540904987,-0.9380767754296516],\"73\":[-0.49082184587706135,-0.8824802192177841],\"74\":[0.07432581036821984,-0.09881784321750434],\"75\":[-0.9232637928777172,-0.39498651036358595],\"76\":[0.001306640440705935,-0.042943292338931814],\"77\":[-0.9702065148421022,-0.08609325275412909],\"78\":[0.8908308995125989,-0.47422838954801666],\"79\":[0.32361134963851174,0.8939794786002593],\"8\":[0.08057088477414903,0.11882911459210382],\"80\":[-0.6775292755829825,0.6847676011412862],\"81\":[-0.5919289932692964,0.7179962113764989],\"82\":[0.8482194157743475,0.36379816990560365],\"83\":[-0.08806424779151012,0.021465359398056445],\"84\":[0.009283685229443554,-0.10719787052523434],\"85\":[0.06961579423903676,0.13273722557660084],\"86\":[-0.047920942989135545,-0.06411899695896843],\"87\":[-0.055600315866519784,-0.9655962543654155],\"88\":[0.3649337064805028,-0.9099594263150781],\"89\":[0.7415250335526203,-0.5948549665604147],\"9\":[0.09099976126543079,0.0490267592753551],\"90\":[-0.008650248204475644,-0.06406367007980229],\"91\":[0.03794171183573417,-0.06620100240987345],\"92\":[0.007144565576817601,-0.0827469310632797],\"93\":[-0.8160423035576274,0.497580209274753],\"94\":[0.9556320268388314,0.10501663162300494],\"95\":[0.007957461786888586,-0.23158124452148993],\"96\":[-0.5973146251134901,0.8036370805273079],\"97\":[0.014852592826685362,-0.08092938718752284],\"98\":[-0.8373070770439078,-0.4543478868014968],\"99\":[0.04249042548294719,-0.05689449303506701]}},\"id\":\"1496\",\"type\":\"StaticLayoutProvider\"},{\"attributes\":{\"active_scroll\":{\"id\":\"1477\"},\"tools\":[{\"id\":\"1478\"},{\"id\":\"1476\"},{\"id\":\"1477\"},{\"id\":\"1479\"},{\"id\":\"1480\"}]},\"id\":\"1481\",\"type\":\"Toolbar\"},{\"attributes\":{\"line_alpha\":{\"value\":0.8}},\"id\":\"1502\",\"type\":\"MultiLine\"},{\"attributes\":{\"source\":{\"id\":\"1489\"}},\"id\":\"1491\",\"type\":\"CDSView\"},{\"attributes\":{\"coordinates\":null,\"group\":null},\"id\":\"1549\",\"type\":\"Title\"},{\"attributes\":{},\"id\":\"1547\",\"type\":\"LinearScale\"},{\"attributes\":{\"coordinates\":null,\"data_source\":{\"id\":\"1489\"},\"glyph\":{\"id\":\"1497\"},\"group\":null,\"hover_glyph\":null,\"view\":{\"id\":\"1491\"}},\"id\":\"1490\",\"type\":\"GlyphRenderer\"},{\"attributes\":{\"source\":{\"id\":\"1493\"}},\"id\":\"1495\",\"type\":\"CDSView\"},{\"attributes\":{\"start\":-1},\"id\":\"1471\",\"type\":\"Range1d\"},{\"attributes\":{\"fill_alpha\":{\"value\":0.8},\"fill_color\":{\"field\":\"color\"},\"size\":{\"field\":\"size rescaled\"}},\"id\":\"1497\",\"type\":\"Circle\"},{\"attributes\":{\"coordinates\":null,\"edge_renderer\":{\"id\":\"1494\"},\"group\":null,\"inspection_policy\":{\"id\":\"1560\"},\"layout_provider\":{\"id\":\"1496\"},\"node_renderer\":{\"id\":\"1490\"},\"selection_policy\":{\"id\":\"1559\"}},\"id\":\"1487\",\"type\":\"GraphRenderer\"},{\"attributes\":{},\"id\":\"1478\",\"type\":\"PanTool\"},{\"attributes\":{},\"id\":\"1479\",\"type\":\"ResetTool\"},{\"attributes\":{\"start\":-1},\"id\":\"1472\",\"type\":\"Range1d\"},{\"attributes\":{\"callback\":null,\"tooltips\":[[\"index\",\"@index\"],[\"size\",\"@size\"]]},\"id\":\"1476\",\"type\":\"HoverTool\"},{\"attributes\":{\"coordinates\":null,\"data_source\":{\"id\":\"1493\"},\"glyph\":{\"id\":\"1502\"},\"group\":null,\"hover_glyph\":null,\"view\":{\"id\":\"1495\"}},\"id\":\"1494\",\"type\":\"GlyphRenderer\"},{\"attributes\":{},\"id\":\"1559\",\"type\":\"NodesOnly\"},{\"attributes\":{},\"id\":\"1561\",\"type\":\"UnionRenderers\"},{\"attributes\":{},\"id\":\"1477\",\"type\":\"WheelZoomTool\"},{\"attributes\":{},\"id\":\"1562\",\"type\":\"Selection\"},{\"attributes\":{},\"id\":\"1480\",\"type\":\"SaveTool\"}],\"root_ids\":[\"1473\"]},\"title\":\"Bokeh Application\",\"version\":\"2.4.3\"}};\n  const render_items = [{\"docid\":\"69a7d2fb-f00e-4559-97bb-d21d75bf7e05\",\"root_ids\":[\"1473\"],\"roots\":{\"1473\":\"0f7c1db1-b2d8-4ca2-a13f-23d1ba6b0496\"}}];\n  root.Bokeh.embed.embed_items_notebook(docs_json, render_items);\n  }\n  if (root.Bokeh !== undefined) {\n    embed_document(root);\n  } else {\n    let attempts = 0;\n    const timer = setInterval(function(root) {\n      if (root.Bokeh !== undefined) {\n        clearInterval(timer);\n        embed_document(root);\n      } else {\n        attempts++;\n        if (attempts > 100) {\n          clearInterval(timer);\n          console.log(\"Bokeh: ERROR: Unable to run BokehJS code because BokehJS library is missing\");\n        }\n      }\n    }, 10, root)\n  }\n})(window);",
      "application/vnd.bokehjs_exec.v0+json": ""
     },
     "metadata": {
      "application/vnd.bokehjs_exec.v0+json": {
       "id": "1473"
      }
     },
     "output_type": "display_data"
    }
   ],
   "source": [
    "correlation_gui.color_by_variable('esr1')\n",
    "\n",
    "show(correlation_gui.plot)"
   ]
  },
  {
   "cell_type": "code",
   "execution_count": null,
   "metadata": {},
   "outputs": [],
   "source": []
  }
 ],
 "metadata": {
  "interpreter": {
   "hash": "de9fe0ce6b873e2013b33bc1f4f40bac445a25d45f265babfcca256e207bbd69"
  },
  "kernelspec": {
   "display_name": "Python 3.10.4 ('tda')",
   "language": "python",
   "name": "python3"
  },
  "language_info": {
   "codemirror_mode": {
    "name": "ipython",
    "version": 3
   },
   "file_extension": ".py",
   "mimetype": "text/x-python",
   "name": "python",
   "nbconvert_exporter": "python",
   "pygments_lexer": "ipython3",
   "version": "3.10.4"
  }
 },
 "nbformat": 4,
 "nbformat_minor": 4
}
