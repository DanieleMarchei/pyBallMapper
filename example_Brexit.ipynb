{
 "cells": [
  {
   "cell_type": "markdown",
   "metadata": {},
   "source": [
    "Dataset taken from https://www.pippanorris.com/data\n",
    "Experiment proposed by Simon Rudkin, https://www.swansea.ac.uk/staff/som/academic-staff/s.t.rudkin/\n",
    "This notebook was prepared by Davide Gurnari. "
   ]
  },
  {
   "cell_type": "code",
   "execution_count": null,
   "metadata": {},
   "outputs": [],
   "source": [
    "import numpy as np\n",
    "import pandas as pd\n",
    "import networkx as nx\n",
    "\n",
    "from matplotlib import pyplot as plt"
   ]
  },
  {
   "cell_type": "code",
   "execution_count": null,
   "metadata": {},
   "outputs": [],
   "source": [
    "full_df = pd.read_csv('data/brexitdata', sep='\\t', encoding='iso-8859-1')\n",
    "print(full_df.shape)\n",
    "full_df.head()"
   ]
  },
  {
   "cell_type": "markdown",
   "metadata": {},
   "source": [
    "In this whole example we use the simplified socio-economical data gathering information about housing, relationship, number of cars, profession, self assessed health as well as the level of deprivation of the area the constituancy is located."
   ]
  },
  {
   "cell_type": "code",
   "execution_count": null,
   "metadata": {},
   "outputs": [],
   "source": [
    "subset = ['c11HouseOutright', 'c11HouseMortgage', 'c11HouseholdOnePerson', \n",
    "          'c11HouseholdMarried', 'c11CarsNone', 'c11CarsOne', 'c11CarsTwo',\n",
    "          'c11NSSECLowerManager', 'c11QualNone', 'c11QualLevel4', \n",
    "          'c11HealthVeryGood', 'c11HealthGood', 'c11DeprivedNone', 'c11Deprived1']\n",
    "\n",
    "db104 = full_df[subset].copy()\n",
    "\n",
    "coloring_subset = ['leaveHanretty', 'lm17', 'cm17']\n",
    "coloring_df = full_df[coloring_subset].copy()"
   ]
  },
  {
   "cell_type": "markdown",
   "metadata": {},
   "source": [
    "## Create Ball Mapper"
   ]
  },
  {
   "cell_type": "code",
   "execution_count": null,
   "metadata": {},
   "outputs": [],
   "source": [
    "from pyBallMapper import BallMapper"
   ]
  },
  {
   "cell_type": "code",
   "execution_count": null,
   "metadata": {},
   "outputs": [],
   "source": [
    "bm = BallMapper(points = db104.values, # the pointcloud, as a numpy array\n",
    "                coloring_df = coloring_df, # a dataframe with the coloring functions (in this case the pointcloud itself)\n",
    "                epsilon = 18) # the radius of the balls"
   ]
  },
  {
   "cell_type": "markdown",
   "metadata": {},
   "source": [
    "## Coloring"
   ]
  },
  {
   "cell_type": "code",
   "execution_count": null,
   "metadata": {},
   "outputs": [],
   "source": [
    "from matplotlib.colors import ListedColormap\n",
    "from matplotlib import cm\n",
    "\n",
    "my_rainbow_palette = cm.get_cmap(name='viridis')"
   ]
  },
  {
   "cell_type": "code",
   "execution_count": null,
   "metadata": {},
   "outputs": [],
   "source": [
    "#In this case we color the graph by support for Brexit in 2016 referendum.\n",
    "bm.color_by_variable('leaveHanretty', my_rainbow_palette)\n",
    "\n",
    "plt.figure(figsize= (8,6))\n",
    "# plot the graph\n",
    "nx.draw_networkx(bm.Graph, \n",
    "                 pos=nx.spring_layout(bm.Graph, seed=5),\n",
    "                 node_color = [bm.Graph.nodes[node]['color'] for node in bm.Graph.nodes],\n",
    "                 node_size =  [bm.Graph.nodes[node]['size rescaled'] for node in bm.Graph.nodes],\n",
    "                 font_weight= 'bold', \n",
    "                 font_color= 'black', \n",
    "                 font_size = 14,      \n",
    "                 alpha=0.8)\n",
    "\n",
    "# plot a legend\n",
    "sm = plt.cm.ScalarMappable(cmap = my_rainbow_palette,\n",
    "                           norm = plt.Normalize(vmin=bm.min_color_value, \n",
    "                                                vmax=bm.max_color_value))\n",
    "plt.colorbar(sm)\n",
    "plt.title('BM graph colored by support for Brexit')\n",
    "plt.show()"
   ]
  },
  {
   "cell_type": "code",
   "execution_count": null,
   "metadata": {},
   "outputs": [],
   "source": [
    "# In this case we color the graph by support for Labour party in 2017 election.\n",
    "bm.color_by_variable('lm17', my_rainbow_palette)\n",
    "\n",
    "plt.figure(figsize= (8,6))\n",
    "# plot the graph\n",
    "# https://networkx.org/documentation/stable/reference/generated/networkx.drawing.nx_pylab.draw_networkx.html\n",
    "# there is a lot we can customize\n",
    "nx.draw_networkx(bm.Graph, \n",
    "                 pos=nx.spring_layout(bm.Graph, seed=5),\n",
    "                 node_color = [bm.Graph.nodes[node]['color'] for node in bm.Graph.nodes],\n",
    "                 node_size =  [bm.Graph.nodes[node]['size rescaled'] for node in bm.Graph.nodes],\n",
    "                 alpha=0.8)\n",
    "\n",
    "# plot a legend\n",
    "sm = plt.cm.ScalarMappable(cmap = my_rainbow_palette,\n",
    "                           norm = plt.Normalize(vmin=bm.min_color_value, \n",
    "                                                vmax=bm.max_color_value))\n",
    "plt.colorbar(sm)\n",
    "plt.title('BM graph colored by support for Labour party')\n",
    "plt.show()"
   ]
  },
  {
   "cell_type": "code",
   "execution_count": null,
   "metadata": {},
   "outputs": [],
   "source": [
    "# In this case we color the graph by support for Conservative party in 2017 election\n",
    "bm.color_by_variable('cm17', my_rainbow_palette)\n",
    "\n",
    "plt.figure(figsize= (8,6))\n",
    "# plot the graph\n",
    "nx.draw_networkx(bm.Graph, \n",
    "                 pos=nx.spring_layout(bm.Graph, seed=5),\n",
    "                 node_color = [bm.Graph.nodes[node]['color'] for node in bm.Graph.nodes],\n",
    "                 node_size =  [bm.Graph.nodes[node]['size rescaled'] for node in bm.Graph.nodes],\n",
    "                 alpha=0.8)\n",
    "\n",
    "# plot a legend\n",
    "sm = plt.cm.ScalarMappable(cmap = my_rainbow_palette,\n",
    "                           norm = plt.Normalize(vmin=bm.min_color_value, \n",
    "                                                vmax=bm.max_color_value))\n",
    "plt.colorbar(sm)\n",
    "plt.title('BM graph colored by support for Conservative party')\n",
    "plt.show()"
   ]
  },
  {
   "cell_type": "code",
   "execution_count": null,
   "metadata": {},
   "outputs": [],
   "source": [
    "#We may want to see why there is a node 20 so different from others supporting Tories\n",
    "one = [20]\n",
    "two = [6,7,10]\n",
    "\n",
    "one_points = np.unique(np.concatenate([bm.points_covered_by_landmarks[node] \n",
    "                                            for node in one]))\n",
    "\n",
    "two_points = np.unique(np.concatenate([bm.points_covered_by_landmarks[node] \n",
    "                                            for node in two]))"
   ]
  },
  {
   "cell_type": "code",
   "execution_count": null,
   "metadata": {},
   "outputs": [],
   "source": [
    "# absolute difference of the averages, divided by the average in the whole dataset\n",
    "(abs(db104.iloc[one_points].mean() - db104.iloc[two_points].mean()) / db104.mean()).sort_values(ascending=False)"
   ]
  },
  {
   "cell_type": "code",
   "execution_count": null,
   "metadata": {},
   "outputs": [],
   "source": [
    "# We see that the coordinates 9, 10 and 13 makes much difference. To find out what\n",
    "# They are, we should look at the list of variables:\n",
    "# 1 - dt1$c11HouseOutright,\n",
    "# 2 - dt1$c11HouseMortgage,\n",
    "# 3 - dt1$c11HouseholdOnePerson,\n",
    "# 4 - dt1$c11HouseholdMarried,\n",
    "# 5 - dt1$c11CarsNone,\n",
    "# 6 - dt1$c11CarsOne,\n",
    "# 7 - dt1$c11CarsTwo,\n",
    "# 8 - dt1$c11NSSECLowerManager,\n",
    "# 9 - dt1$c11QualNone,\n",
    "# 10 - dt1$c11QualLevel4,\n",
    "# 11 - dt1$c11HealthVeryGood,\n",
    "# 12 - dt1$c11HealthGood,\n",
    "# 13 - dt1$c11DeprivedNone,\n",
    "# 14 - dt1$c11Deprived1\n",
    "# Therefore we have no (9) or lowest (10) level of qualification and deprivation\n",
    "# of the area. One can bring this analysis forward, and find the regions responsible\n",
    "# for that, but we will not do it here."
   ]
  }
 ],
 "metadata": {
  "kernelspec": {
   "display_name": "Python 3",
   "language": "python",
   "name": "python3"
  },
  "language_info": {
   "codemirror_mode": {
    "name": "ipython",
    "version": 3
   },
   "file_extension": ".py",
   "mimetype": "text/x-python",
   "name": "python",
   "nbconvert_exporter": "python",
   "pygments_lexer": "ipython3",
   "version": "3.8.5"
  }
 },
 "nbformat": 4,
 "nbformat_minor": 4
}
