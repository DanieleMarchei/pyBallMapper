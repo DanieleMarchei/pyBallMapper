{
 "cells": [
  {
   "cell_type": "code",
   "execution_count": null,
   "metadata": {},
   "outputs": [],
   "source": [
    "# TODO update the plotting"
   ]
  },
  {
   "cell_type": "markdown",
   "metadata": {},
   "source": [
    "Dataset taken from https://www.pippanorris.com/data\n",
    "Experiment proposed by Simon Rudkin, https://www.swansea.ac.uk/staff/som/academic-staff/s.t.rudkin/\n",
    "This notebook was prepared by Davide Gurnari. "
   ]
  },
  {
   "cell_type": "code",
   "execution_count": null,
   "metadata": {},
   "outputs": [],
   "source": [
    "# uncomment and run this if you are on colab\n",
    "# !apt install subversion\n",
    "# !svn checkout https://github.com/dgurnari/pyBallMapper/trunk/src\n",
    "# !svn checkout https://github.com/dgurnari/pyBallMapper/trunk/data"
   ]
  },
  {
   "cell_type": "code",
   "execution_count": 1,
   "metadata": {},
   "outputs": [],
   "source": [
    "import numpy as np\n",
    "import pandas as pd\n",
    "import networkx as nx\n",
    "\n",
    "from matplotlib import pyplot as plt"
   ]
  },
  {
   "cell_type": "code",
   "execution_count": 2,
   "metadata": {},
   "outputs": [
    {
     "name": "stdout",
     "output_type": "stream",
     "text": [
      "(631, 391)\n"
     ]
    },
    {
     "data": {
      "text/html": [
       "<div>\n",
       "<style scoped>\n",
       "    .dataframe tbody tr th:only-of-type {\n",
       "        vertical-align: middle;\n",
       "    }\n",
       "\n",
       "    .dataframe tbody tr th {\n",
       "        vertical-align: top;\n",
       "    }\n",
       "\n",
       "    .dataframe thead th {\n",
       "        text-align: right;\n",
       "    }\n",
       "</style>\n",
       "<table border=\"1\" class=\"dataframe\">\n",
       "  <thead>\n",
       "    <tr style=\"text-align: right;\">\n",
       "      <th></th>\n",
       "      <th>pano</th>\n",
       "      <th>ONSConstID</th>\n",
       "      <th>ConstituencyName</th>\n",
       "      <th>Country</th>\n",
       "      <th>Region</th>\n",
       "      <th>ConstituencyType</th>\n",
       "      <th>Winner17</th>\n",
       "      <th>Con17</th>\n",
       "      <th>Lab17</th>\n",
       "      <th>LD17</th>\n",
       "      <th>...</th>\n",
       "      <th>nore</th>\n",
       "      <th>york</th>\n",
       "      <th>east</th>\n",
       "      <th>west</th>\n",
       "      <th>eeng</th>\n",
       "      <th>wale</th>\n",
       "      <th>lond</th>\n",
       "      <th>swes</th>\n",
       "      <th>swee</th>\n",
       "      <th>pt</th>\n",
       "    </tr>\n",
       "  </thead>\n",
       "  <tbody>\n",
       "    <tr>\n",
       "      <th>0</th>\n",
       "      <td>1</td>\n",
       "      <td>W07000049</td>\n",
       "      <td>Aberavon</td>\n",
       "      <td>Wales</td>\n",
       "      <td>Wales</td>\n",
       "      <td>County</td>\n",
       "      <td>Labour</td>\n",
       "      <td>17.737766</td>\n",
       "      <td>68.119514</td>\n",
       "      <td>1.800529</td>\n",
       "      <td>...</td>\n",
       "      <td>0</td>\n",
       "      <td>0</td>\n",
       "      <td>0</td>\n",
       "      <td>0</td>\n",
       "      <td>0</td>\n",
       "      <td>1</td>\n",
       "      <td>0</td>\n",
       "      <td>0</td>\n",
       "      <td>0</td>\n",
       "      <td>1</td>\n",
       "    </tr>\n",
       "    <tr>\n",
       "      <th>1</th>\n",
       "      <td>2</td>\n",
       "      <td>W07000058</td>\n",
       "      <td>Aberconwy</td>\n",
       "      <td>Wales</td>\n",
       "      <td>Wales</td>\n",
       "      <td>County</td>\n",
       "      <td>Conservative</td>\n",
       "      <td>44.594090</td>\n",
       "      <td>42.618974</td>\n",
       "      <td>2.926905</td>\n",
       "      <td>...</td>\n",
       "      <td>0</td>\n",
       "      <td>0</td>\n",
       "      <td>0</td>\n",
       "      <td>0</td>\n",
       "      <td>0</td>\n",
       "      <td>1</td>\n",
       "      <td>0</td>\n",
       "      <td>0</td>\n",
       "      <td>0</td>\n",
       "      <td>2</td>\n",
       "    </tr>\n",
       "    <tr>\n",
       "      <th>2</th>\n",
       "      <td>3</td>\n",
       "      <td>S14000001</td>\n",
       "      <td>Aberdeen North</td>\n",
       "      <td>Scotland</td>\n",
       "      <td>Scotland</td>\n",
       "      <td>Borough</td>\n",
       "      <td>Scottish National Party</td>\n",
       "      <td>22.692276</td>\n",
       "      <td>30.010610</td>\n",
       "      <td>4.605925</td>\n",
       "      <td>...</td>\n",
       "      <td>0</td>\n",
       "      <td>0</td>\n",
       "      <td>0</td>\n",
       "      <td>0</td>\n",
       "      <td>0</td>\n",
       "      <td>0</td>\n",
       "      <td>0</td>\n",
       "      <td>0</td>\n",
       "      <td>0</td>\n",
       "      <td>3</td>\n",
       "    </tr>\n",
       "    <tr>\n",
       "      <th>3</th>\n",
       "      <td>4</td>\n",
       "      <td>S14000002</td>\n",
       "      <td>Aberdeen South</td>\n",
       "      <td>Scotland</td>\n",
       "      <td>Scotland</td>\n",
       "      <td>Borough</td>\n",
       "      <td>Conservative</td>\n",
       "      <td>42.132470</td>\n",
       "      <td>20.549300</td>\n",
       "      <td>5.866091</td>\n",
       "      <td>...</td>\n",
       "      <td>0</td>\n",
       "      <td>0</td>\n",
       "      <td>0</td>\n",
       "      <td>0</td>\n",
       "      <td>0</td>\n",
       "      <td>0</td>\n",
       "      <td>0</td>\n",
       "      <td>0</td>\n",
       "      <td>0</td>\n",
       "      <td>4</td>\n",
       "    </tr>\n",
       "    <tr>\n",
       "      <th>4</th>\n",
       "      <td>5</td>\n",
       "      <td>S14000058</td>\n",
       "      <td>West Aberdeenshire and Kincardine</td>\n",
       "      <td>Scotland</td>\n",
       "      <td>Scotland</td>\n",
       "      <td>County</td>\n",
       "      <td>Conservative</td>\n",
       "      <td>47.852785</td>\n",
       "      <td>11.052785</td>\n",
       "      <td>8.641162</td>\n",
       "      <td>...</td>\n",
       "      <td>0</td>\n",
       "      <td>0</td>\n",
       "      <td>0</td>\n",
       "      <td>0</td>\n",
       "      <td>0</td>\n",
       "      <td>0</td>\n",
       "      <td>0</td>\n",
       "      <td>0</td>\n",
       "      <td>0</td>\n",
       "      <td>5</td>\n",
       "    </tr>\n",
       "  </tbody>\n",
       "</table>\n",
       "<p>5 rows × 391 columns</p>\n",
       "</div>"
      ],
      "text/plain": [
       "   pano ONSConstID                   ConstituencyName   Country    Region  \\\n",
       "0     1  W07000049                           Aberavon     Wales     Wales   \n",
       "1     2  W07000058                          Aberconwy     Wales     Wales   \n",
       "2     3  S14000001                     Aberdeen North  Scotland  Scotland   \n",
       "3     4  S14000002                     Aberdeen South  Scotland  Scotland   \n",
       "4     5  S14000058  West Aberdeenshire and Kincardine  Scotland  Scotland   \n",
       "\n",
       "  ConstituencyType                 Winner17      Con17      Lab17      LD17  \\\n",
       "0           County                   Labour  17.737766  68.119514  1.800529   \n",
       "1           County             Conservative  44.594090  42.618974  2.926905   \n",
       "2          Borough  Scottish National Party  22.692276  30.010610  4.605925   \n",
       "3          Borough             Conservative  42.132470  20.549300  5.866091   \n",
       "4           County             Conservative  47.852785  11.052785  8.641162   \n",
       "\n",
       "   ...  nore  york  east  west  eeng  wale  lond  swes  swee  pt  \n",
       "0  ...     0     0     0     0     0     1     0     0     0   1  \n",
       "1  ...     0     0     0     0     0     1     0     0     0   2  \n",
       "2  ...     0     0     0     0     0     0     0     0     0   3  \n",
       "3  ...     0     0     0     0     0     0     0     0     0   4  \n",
       "4  ...     0     0     0     0     0     0     0     0     0   5  \n",
       "\n",
       "[5 rows x 391 columns]"
      ]
     },
     "execution_count": 2,
     "metadata": {},
     "output_type": "execute_result"
    }
   ],
   "source": [
    "full_df = pd.read_csv('data/brexitdata', sep='\\t', encoding='iso-8859-1')\n",
    "print(full_df.shape)\n",
    "full_df.head()"
   ]
  },
  {
   "cell_type": "markdown",
   "metadata": {},
   "source": [
    "In this whole example we use the simplified socio-economical data gathering information about housing, relationship, number of cars, profession, self assessed health as well as the level of deprivation of the area the constituancy is located."
   ]
  },
  {
   "cell_type": "code",
   "execution_count": 3,
   "metadata": {},
   "outputs": [],
   "source": [
    "subset = ['c11HouseOutright', 'c11HouseMortgage', 'c11HouseholdOnePerson', \n",
    "          'c11HouseholdMarried', 'c11CarsNone', 'c11CarsOne', 'c11CarsTwo',\n",
    "          'c11NSSECLowerManager', 'c11QualNone', 'c11QualLevel4', \n",
    "          'c11HealthVeryGood', 'c11HealthGood', 'c11DeprivedNone', 'c11Deprived1']\n",
    "\n",
    "db104 = full_df[subset].copy()\n",
    "\n",
    "coloring_subset = ['leaveHanretty', 'lm17', 'cm17']\n",
    "coloring_df = full_df[coloring_subset].copy()"
   ]
  },
  {
   "cell_type": "markdown",
   "metadata": {},
   "source": [
    "## Create Ball Mapper"
   ]
  },
  {
   "cell_type": "code",
   "execution_count": 4,
   "metadata": {},
   "outputs": [],
   "source": [
    "from src.pyBallMapper import BallMapper"
   ]
  },
  {
   "cell_type": "code",
   "execution_count": 5,
   "metadata": {},
   "outputs": [],
   "source": [
    "bm = BallMapper(points = db104.values, # the pointcloud, as a numpy array\n",
    "                epsilon = 18) # the radius of the balls"
   ]
  },
  {
   "cell_type": "markdown",
   "metadata": {},
   "source": [
    "## Coloring"
   ]
  },
  {
   "cell_type": "code",
   "execution_count": 6,
   "metadata": {},
   "outputs": [],
   "source": [
    "from matplotlib.colors import ListedColormap\n",
    "from matplotlib import cm\n",
    "\n",
    "my_rainbow_palette = cm.get_cmap(name='plasma')"
   ]
  },
  {
   "cell_type": "code",
   "execution_count": null,
   "metadata": {},
   "outputs": [],
   "source": [
    "bm.add_coloring(coloring_df)\n",
    "#In this case we color the graph by support for Brexit in 2016 referendum.\n",
    "bm.color_by_variable('leaveHanretty', my_rainbow_palette)\n",
    "\n",
    "plt.figure(figsize= (8,6))\n",
    "# plot the graph\n",
    "nx.draw_networkx(bm.Graph, \n",
    "                 pos=nx.spring_layout(bm.Graph, seed=5),\n",
    "                 node_color = [bm.Graph.nodes[node]['color'] for node in bm.Graph.nodes],\n",
    "                 node_size =  [bm.Graph.nodes[node]['size'] for node in bm.Graph.nodes],    \n",
    "                 alpha=0.8)\n",
    "\n",
    "# plot a legend\n",
    "sm = plt.cm.ScalarMappable(cmap = my_rainbow_palette,\n",
    "                           norm = plt.Normalize(vmin=bm.min_color_value, \n",
    "                                                vmax=bm.max_color_value))\n",
    "plt.colorbar(sm)\n",
    "plt.title('BM graph colored by support for Brexit')\n",
    "plt.show()"
   ]
  },
  {
   "cell_type": "code",
   "execution_count": null,
   "metadata": {},
   "outputs": [],
   "source": [
    "# In this case we color the graph by support for Labour party in 2017 election.\n",
    "bm.color_by_variable('lm17', my_rainbow_palette)\n",
    "\n",
    "plt.figure(figsize= (8,6))\n",
    "# plot the graph\n",
    "# https://networkx.org/documentation/stable/reference/generated/networkx.drawing.nx_pylab.draw_networkx.html\n",
    "# there is a lot we can customize\n",
    "nx.draw_networkx(bm.Graph, \n",
    "                 pos=nx.spring_layout(bm.Graph, seed=5),\n",
    "                 node_color = [bm.Graph.nodes[node]['color'] for node in bm.Graph.nodes],\n",
    "                 node_size =  [bm.Graph.nodes[node]['size rescaled'] for node in bm.Graph.nodes],\n",
    "                 alpha=0.8)\n",
    "\n",
    "# plot a legend\n",
    "sm = plt.cm.ScalarMappable(cmap = my_rainbow_palette,\n",
    "                           norm = plt.Normalize(vmin=bm.min_color_value, \n",
    "                                                vmax=bm.max_color_value))\n",
    "plt.colorbar(sm)\n",
    "plt.title('BM graph colored by support for Labour party')\n",
    "plt.show()"
   ]
  },
  {
   "cell_type": "code",
   "execution_count": null,
   "metadata": {},
   "outputs": [],
   "source": [
    "# In this case we color the graph by support for Conservative party in 2017 election\n",
    "bm.color_by_variable('cm17', my_rainbow_palette)\n",
    "\n",
    "plt.figure(figsize= (8,6))\n",
    "# plot the graph\n",
    "nx.draw_networkx(bm.Graph, \n",
    "                 pos=nx.spring_layout(bm.Graph, seed=5),\n",
    "                 node_color = [bm.Graph.nodes[node]['color'] for node in bm.Graph.nodes],\n",
    "                 node_size =  [bm.Graph.nodes[node]['size rescaled'] for node in bm.Graph.nodes],\n",
    "                 alpha=0.8)\n",
    "\n",
    "# plot a legend\n",
    "sm = plt.cm.ScalarMappable(cmap = my_rainbow_palette,\n",
    "                           norm = plt.Normalize(vmin=bm.min_color_value, \n",
    "                                                vmax=bm.max_color_value))\n",
    "plt.colorbar(sm)\n",
    "plt.title('BM graph colored by support for Conservative party')\n",
    "plt.show()"
   ]
  },
  {
   "cell_type": "code",
   "execution_count": null,
   "metadata": {},
   "outputs": [],
   "source": [
    "# We can plot the same graphs using Bokeh\n",
    "from src.pyBallMapper_Bokeh import graph_GUI\n",
    "from bokeh.plotting import figure, show\n",
    "\n",
    "my_fancy_gui = graph_GUI(bm.Graph, coloring_df, my_rainbow_palette)"
   ]
  },
  {
   "cell_type": "code",
   "execution_count": null,
   "metadata": {},
   "outputs": [],
   "source": [
    "#In this case we color the graph by support for Brexit in 2016 referendum.\n",
    "my_fancy_gui.color_by_variable('leaveHanretty')\n",
    "show(my_fancy_gui.plot)"
   ]
  },
  {
   "cell_type": "code",
   "execution_count": null,
   "metadata": {},
   "outputs": [],
   "source": [
    "# In this case we color the graph by support for Labour party in 2017 election.\n",
    "my_fancy_gui.color_by_variable('lm17')\n",
    "show(my_fancy_gui.plot)"
   ]
  },
  {
   "cell_type": "code",
   "execution_count": null,
   "metadata": {},
   "outputs": [],
   "source": [
    "# In this case we color the graph by support for Conservative party in 2017 election\n",
    "my_fancy_gui.color_by_variable('cm17')\n",
    "show(my_fancy_gui.plot)"
   ]
  },
  {
   "cell_type": "code",
   "execution_count": null,
   "metadata": {},
   "outputs": [],
   "source": [
    "#We may want to see why there is a node 20 so different from others supporting Tories\n",
    "one = [20]\n",
    "two = [6,7,10]\n",
    "\n",
    "one_points = np.unique(np.concatenate([bm.points_covered_by_landmarks[node] \n",
    "                                            for node in one]))\n",
    "\n",
    "two_points = np.unique(np.concatenate([bm.points_covered_by_landmarks[node] \n",
    "                                            for node in two]))"
   ]
  },
  {
   "cell_type": "code",
   "execution_count": null,
   "metadata": {},
   "outputs": [],
   "source": [
    "# absolute difference of the averages, divided by the average in the whole dataset\n",
    "(abs(db104.iloc[one_points].mean() - db104.iloc[two_points].mean()) / db104.mean()).sort_values(ascending=False)"
   ]
  },
  {
   "cell_type": "code",
   "execution_count": null,
   "metadata": {},
   "outputs": [],
   "source": [
    "# We see that the coordinates 9, 10 and 13 makes much difference. To find out what\n",
    "# They are, we should look at the list of variables:\n",
    "# 1 - dt1$c11HouseOutright,\n",
    "# 2 - dt1$c11HouseMortgage,\n",
    "# 3 - dt1$c11HouseholdOnePerson,\n",
    "# 4 - dt1$c11HouseholdMarried,\n",
    "# 5 - dt1$c11CarsNone,\n",
    "# 6 - dt1$c11CarsOne,\n",
    "# 7 - dt1$c11CarsTwo,\n",
    "# 8 - dt1$c11NSSECLowerManager,\n",
    "# 9 - dt1$c11QualNone,\n",
    "# 10 - dt1$c11QualLevel4,\n",
    "# 11 - dt1$c11HealthVeryGood,\n",
    "# 12 - dt1$c11HealthGood,\n",
    "# 13 - dt1$c11DeprivedNone,\n",
    "# 14 - dt1$c11Deprived1\n",
    "# Therefore we have no (9) or lowest (10) level of qualification and deprivation\n",
    "# of the area. One can bring this analysis forward, and find the regions responsible\n",
    "# for that, but we will not do it here."
   ]
  }
 ],
 "metadata": {
  "interpreter": {
   "hash": "de9fe0ce6b873e2013b33bc1f4f40bac445a25d45f265babfcca256e207bbd69"
  },
  "kernelspec": {
   "display_name": "Python 3.10.4 ('tda')",
   "language": "python",
   "name": "python3"
  },
  "language_info": {
   "codemirror_mode": {
    "name": "ipython",
    "version": 3
   },
   "file_extension": ".py",
   "mimetype": "text/x-python",
   "name": "python",
   "nbconvert_exporter": "python",
   "pygments_lexer": "ipython3",
   "version": "3.10.4"
  }
 },
 "nbformat": 4,
 "nbformat_minor": 4
}
