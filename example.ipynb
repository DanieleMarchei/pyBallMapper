{
 "cells": [
  {
   "cell_type": "code",
   "execution_count": null,
   "metadata": {},
   "outputs": [],
   "source": [
    "import numpy as np\n",
    "import pandas as pd\n",
    "import networkx as nx\n",
    "\n",
    "from matplotlib import pyplot as plt"
   ]
  },
  {
   "cell_type": "markdown",
   "metadata": {},
   "source": [
    "## Generate data"
   ]
  },
  {
   "cell_type": "code",
   "execution_count": null,
   "metadata": {},
   "outputs": [],
   "source": [
    "np.random.seed(42)\n",
    "pointcloud = np.array([[np.cos(2*np.pi*x), np.sin(2*np.pi*x)] for x in np.random.rand(500)])"
   ]
  },
  {
   "cell_type": "code",
   "execution_count": null,
   "metadata": {},
   "outputs": [],
   "source": [
    "points_df = pd.DataFrame(pointcloud, columns=['x', 'y'])\n",
    "points_df.head()"
   ]
  },
  {
   "cell_type": "code",
   "execution_count": null,
   "metadata": {},
   "outputs": [],
   "source": [
    "plt.scatter(points_df.x, points_df.y)"
   ]
  },
  {
   "cell_type": "markdown",
   "metadata": {},
   "source": [
    "## Create BallMapper graph"
   ]
  },
  {
   "cell_type": "code",
   "execution_count": null,
   "metadata": {},
   "outputs": [],
   "source": [
    "from pyBallMapper import BallMapper"
   ]
  },
  {
   "cell_type": "code",
   "execution_count": null,
   "metadata": {},
   "outputs": [],
   "source": [
    "bm = BallMapper(pointcloud, 0.35)"
   ]
  },
  {
   "cell_type": "code",
   "execution_count": null,
   "metadata": {},
   "outputs": [],
   "source": [
    "# bm.Graph is a networkx graph\n",
    "nx.draw_networkx(bm.Graph, \n",
    "                 pos=nx.spring_layout(bm.Graph, seed=42))"
   ]
  },
  {
   "cell_type": "code",
   "execution_count": null,
   "metadata": {},
   "outputs": [],
   "source": [
    "# we can access the points covered\n",
    "# by each ball using the following dict\n",
    "print(bm.points_covered_by_landmarks.keys())"
   ]
  },
  {
   "cell_type": "code",
   "execution_count": null,
   "metadata": {},
   "outputs": [],
   "source": [
    "# each ball stores the indices of the points inside it\n",
    "print(bm.points_covered_by_landmarks[0])"
   ]
  },
  {
   "cell_type": "markdown",
   "metadata": {},
   "source": [
    "## Fancy visualizations using Bokeh\n",
    "https://docs.bokeh.org/en/latest/docs/installation.html"
   ]
  },
  {
   "cell_type": "code",
   "execution_count": null,
   "metadata": {},
   "outputs": [],
   "source": [
    "from pyBallMapper_plotting import graph_GUI"
   ]
  },
  {
   "cell_type": "code",
   "execution_count": null,
   "metadata": {},
   "outputs": [],
   "source": [
    "from bokeh.plotting import figure, show\n",
    "from bokeh.palettes import linear_palette, Reds256, Turbo256\n",
    "\n",
    "# create a red palette and reverse it (I want 0 to be white and 100 to be red)\n",
    "my_red_palette = linear_palette(Reds256, 101)[::-1]\n",
    "\n",
    "# we can also use more colors\n",
    "# my_rainbow_palette = linear_palette(Turbo256, 101)[::-1]"
   ]
  },
  {
   "cell_type": "code",
   "execution_count": null,
   "metadata": {},
   "outputs": [],
   "source": [
    "# create a GUI with input our BM graph, \n",
    "# a dataframe with coloring functions (one value per point in the pointcloud)\n",
    "# and a color palette\n",
    "# in this case we use the pointcloud as coloring function\n",
    "my_fancy_gui = graph_GUI(bm.Graph, points_df, my_red_palette)"
   ]
  },
  {
   "cell_type": "code",
   "execution_count": null,
   "metadata": {},
   "outputs": [],
   "source": [
    "# color the graph by means of the variable y\n",
    "# min and max value of the selected variable are printed\n",
    "my_fancy_gui.color_by_variable('y')"
   ]
  },
  {
   "cell_type": "code",
   "execution_count": null,
   "metadata": {},
   "outputs": [],
   "source": [
    "# creates an html file with the graph \n",
    "# and opens it in another tab\n",
    "show(my_fancy_gui.plot)"
   ]
  }
 ],
 "metadata": {
  "kernelspec": {
   "display_name": "Python 3",
   "language": "python",
   "name": "python3"
  },
  "language_info": {
   "codemirror_mode": {
    "name": "ipython",
    "version": 3
   },
   "file_extension": ".py",
   "mimetype": "text/x-python",
   "name": "python",
   "nbconvert_exporter": "python",
   "pygments_lexer": "ipython3",
   "version": "3.8.6"
  }
 },
 "nbformat": 4,
 "nbformat_minor": 4
}
