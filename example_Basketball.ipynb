{
 "cells": [
  {
   "cell_type": "markdown",
   "metadata": {},
   "source": [
    "This notebook was prepared by Niklas Hellmer. "
   ]
  },
  {
   "cell_type": "code",
   "execution_count": null,
   "metadata": {},
   "outputs": [],
   "source": [
    "# uncomment and run this if you are on colab\n",
    "# !apt install subversion\n",
    "# !svn checkout https://github.com/dgurnari/pyBallMapper/trunk/src\n",
    "# !svn checkout https://github.com/dgurnari/pyBallMapper/trunk/data"
   ]
  },
  {
   "cell_type": "code",
   "execution_count": null,
   "metadata": {},
   "outputs": [],
   "source": [
    "import pandas as pd\n",
    "import numpy as np\n",
    "import networkx as nx\n",
    "from matplotlib import pyplot as plt\n",
    "from matplotlib.colors import ListedColormap\n",
    "from matplotlib import cm\n",
    "from src.pyBallMapper import BallMapper"
   ]
  },
  {
   "cell_type": "code",
   "execution_count": null,
   "metadata": {},
   "outputs": [],
   "source": [
    "#load data\n",
    "df = pd.read_csv(\"data/seasons_stats.csv\")\n",
    "df"
   ]
  },
  {
   "cell_type": "code",
   "execution_count": null,
   "metadata": {},
   "outputs": [],
   "source": [
    "#restrict to year 2010\n",
    "df = df[df[\"Year\"]==2010]\n",
    "df"
   ]
  },
  {
   "cell_type": "code",
   "execution_count": null,
   "metadata": {},
   "outputs": [],
   "source": [
    "#select Names, Points, Rebounds, Assists, Steals, Blocks, Turnovers, Fouls ans Minutes Played\n",
    "df = df[[\"Player\", \"PTS\", \"TRB\", \"AST\", \"STL\", \"BLK\", \"TOV\", \"PF\", \"MP\"]]\n",
    "df"
   ]
  },
  {
   "cell_type": "code",
   "execution_count": null,
   "metadata": {},
   "outputs": [],
   "source": [
    "#Some players occur more than once: sum the corresponding rows\n",
    "df = df.groupby([\"Player\"]).sum()\n",
    "df"
   ]
  },
  {
   "cell_type": "code",
   "execution_count": null,
   "metadata": {},
   "outputs": [],
   "source": [
    "df[df.MP == 0]"
   ]
  },
  {
   "cell_type": "code",
   "execution_count": null,
   "metadata": {},
   "outputs": [],
   "source": [
    "# Remove players with no minutes played\n",
    "\n",
    "df = df[df.MP > 0]\n",
    "df"
   ]
  },
  {
   "cell_type": "code",
   "execution_count": null,
   "metadata": {},
   "outputs": [],
   "source": [
    "#normalize the values to play time\n",
    "df = df.div(df[\"MP\"], axis = 0)\n",
    "df = df.reset_index()\n",
    "df"
   ]
  },
  {
   "cell_type": "code",
   "execution_count": null,
   "metadata": {},
   "outputs": [],
   "source": [
    "df.isna().any()"
   ]
  },
  {
   "cell_type": "code",
   "execution_count": null,
   "metadata": {},
   "outputs": [],
   "source": [
    "#Ball Mapper\n",
    "bm = BallMapper(points = df[[\"PTS\", \"TRB\", \"AST\", \"STL\", \"BLK\", \"TOV\", \"PF\"]].values, # the pointcloud, as a numpy array\\n\",\n",
    "                epsilon = 0.15) # the radius of the balls\""
   ]
  },
  {
   "cell_type": "code",
   "execution_count": null,
   "metadata": {},
   "outputs": [],
   "source": [
    "nx.draw_networkx(bm.Graph, pos=nx.spring_layout(bm.Graph, seed=24))"
   ]
  },
  {
   "cell_type": "code",
   "execution_count": null,
   "metadata": {},
   "outputs": [],
   "source": [
    "# we use the points themself as coloring functions\n",
    "bm.add_coloring(coloring_df=df[['PTS']])\n",
    "\n",
    "# we can color the graph by any column in coloring_df\n",
    "# here we adopt a standard colour palette\n",
    "my_red_palette = cm.get_cmap(name='Reds')\n",
    "\n",
    "plt.figure(figsize= (8,6))\n",
    "# The BallMapper class has a builtin plotting method, buit around nx.draw_networkx\n",
    "bm.draw_networx(coloring_variable='PTS', color_palette=my_red_palette, colorbar=True)\n",
    "plt.title('BM graph colored by the PTS variable')\n",
    "plt.show()"
   ]
  },
  {
   "cell_type": "code",
   "execution_count": null,
   "metadata": {},
   "outputs": [],
   "source": [
    "#players in ball no. 10 score a lot of points\n",
    "print(bm.points_covered_by_landmarks[10])\n",
    "print(df[\"Player\"][bm.points_covered_by_landmarks[10]])"
   ]
  },
  {
   "cell_type": "code",
   "execution_count": null,
   "metadata": {},
   "outputs": [],
   "source": [
    "print(bm.points_covered_by_landmarks[17])\n",
    "print(df[\"Player\"][bm.points_covered_by_landmarks[17]])"
   ]
  },
  {
   "cell_type": "code",
   "execution_count": null,
   "metadata": {},
   "outputs": [],
   "source": [
    "print(bm.points_covered_by_landmarks[18])\n",
    "print(df[\"Player\"][bm.points_covered_by_landmarks[18]])"
   ]
  },
  {
   "cell_type": "code",
   "execution_count": null,
   "metadata": {},
   "outputs": [],
   "source": [
    "print(bm.points_covered_by_landmarks[21])\n",
    "print(df[\"Player\"][bm.points_covered_by_landmarks[21]])"
   ]
  },
  {
   "cell_type": "code",
   "execution_count": null,
   "metadata": {},
   "outputs": [],
   "source": []
  }
 ],
 "metadata": {
  "interpreter": {
   "hash": "de9fe0ce6b873e2013b33bc1f4f40bac445a25d45f265babfcca256e207bbd69"
  },
  "kernelspec": {
   "display_name": "Python 3.10.4 ('tda')",
   "language": "python",
   "name": "python3"
  },
  "language_info": {
   "codemirror_mode": {
    "name": "ipython",
    "version": 3
   },
   "file_extension": ".py",
   "mimetype": "text/x-python",
   "name": "python",
   "nbconvert_exporter": "python",
   "pygments_lexer": "ipython3",
   "version": "3.10.4"
  }
 },
 "nbformat": 4,
 "nbformat_minor": 4
}
