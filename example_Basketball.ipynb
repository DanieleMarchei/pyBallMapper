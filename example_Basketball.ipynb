{
 "cells": [
  {
   "cell_type": "code",
   "execution_count": null,
   "metadata": {},
   "outputs": [],
   "source": [
    "# TODO update the plotting"
   ]
  },
  {
   "cell_type": "markdown",
   "metadata": {},
   "source": [
    "This notebook was prepared by Niklas Hellmer. "
   ]
  },
  {
   "cell_type": "code",
   "execution_count": null,
   "metadata": {},
   "outputs": [],
   "source": [
    "# uncomment and run this if you are on colab\n",
    "# !apt install subversion\n",
    "# !svn checkout https://github.com/dgurnari/pyBallMapper/trunk/src\n",
    "# !svn checkout https://github.com/dgurnari/pyBallMapper/trunk/data"
   ]
  },
  {
   "cell_type": "code",
   "execution_count": null,
   "metadata": {},
   "outputs": [],
   "source": [
    "import pandas as pd\n",
    "import numpy as np\n",
    "import networkx as nx\n",
    "from matplotlib import pyplot as plt\n",
    "from matplotlib.colors import ListedColormap\n",
    "from matplotlib import cm\n",
    "from src.pyBallMapper import BallMapper"
   ]
  },
  {
   "cell_type": "code",
   "execution_count": null,
   "metadata": {},
   "outputs": [],
   "source": [
    "#load data\n",
    "df = pd.read_csv(\"data/Seasons_Stats.csv\")\n",
    "df"
   ]
  },
  {
   "cell_type": "code",
   "execution_count": null,
   "metadata": {},
   "outputs": [],
   "source": [
    "#restrict to year 2010\n",
    "df = df[df[\"Year\"]==2010]\n",
    "df"
   ]
  },
  {
   "cell_type": "code",
   "execution_count": null,
   "metadata": {},
   "outputs": [],
   "source": [
    "#select Names, Points, Rebounds, Assists, Steals, Blocks, Turnovers, Fouls ans Minutes Played\n",
    "df = df[[\"Player\", \"PTS\", \"TRB\", \"AST\", \"STL\", \"BLK\", \"TOV\", \"PF\", \"MP\"]]\n",
    "df"
   ]
  },
  {
   "cell_type": "code",
   "execution_count": null,
   "metadata": {},
   "outputs": [],
   "source": [
    "#Some players occur more than once: sum the corresponding rows\n",
    "df = df.groupby([\"Player\"]).sum()\n",
    "df"
   ]
  },
  {
   "cell_type": "code",
   "execution_count": null,
   "metadata": {},
   "outputs": [],
   "source": [
    "df[df.MP == 0]"
   ]
  },
  {
   "cell_type": "code",
   "execution_count": null,
   "metadata": {},
   "outputs": [],
   "source": [
    "# Remove players with no minutes played\n",
    "\n",
    "df = df[df.MP > 0]\n",
    "df"
   ]
  },
  {
   "cell_type": "code",
   "execution_count": null,
   "metadata": {},
   "outputs": [],
   "source": [
    "#normalize the values to play time\n",
    "df = df.div(df[\"MP\"], axis = 0)\n",
    "df = df.reset_index()\n",
    "df"
   ]
  },
  {
   "cell_type": "code",
   "execution_count": null,
   "metadata": {},
   "outputs": [],
   "source": [
    "df.isna().any()"
   ]
  },
  {
   "cell_type": "code",
   "execution_count": null,
   "metadata": {},
   "outputs": [],
   "source": [
    "#Ball Mapper\n",
    "bm = BallMapper(points = df[[\"PTS\", \"TRB\", \"AST\", \"STL\", \"BLK\", \"TOV\", \"PF\"]].values, # the pointcloud, as a numpy array\\n\",\n",
    "                    coloring_df = df[[\"PTS\"]], # a dataframe with the coloring functions (in this case the pointcloud itself)\\n\",\n",
    "                    epsilon = 0.15) # the radius of the balls\""
   ]
  },
  {
   "cell_type": "code",
   "execution_count": null,
   "metadata": {},
   "outputs": [],
   "source": [
    "nx.draw_networkx(bm.Graph, pos=nx.spring_layout(bm.Graph, seed=24))"
   ]
  },
  {
   "cell_type": "code",
   "execution_count": null,
   "metadata": {},
   "outputs": [],
   "source": [
    "my_red_palette = cm.get_cmap(name='Reds')\n",
    "bm.color_by_variable(\"PTS\", my_red_palette)\n",
    "\n",
    "plt.figure(figsize= (8,6))\n",
    "nx.draw_networkx(bm.Graph,\n",
    "                 pos = nx.spring_layout(bm.Graph, seed=24),\n",
    "                 node_color = [bm.Graph.nodes[node]['color'] for node in bm.Graph.nodes],\n",
    "                 node_size =  [bm.Graph.nodes[node]['size rescaled'] for node in bm.Graph.nodes],\n",
    "                 alpha=0.8)\n",
    "sm = plt.cm.ScalarMappable(cmap = my_red_palette,\n",
    "                           norm = plt.Normalize(vmin=bm.min_color_value,\n",
    "                                                vmax=bm.max_color_value))\n",
    "plt.colorbar(sm)\n",
    "plt.title('BM graph colored by the PTS variable')\n",
    "plt.show()"
   ]
  },
  {
   "cell_type": "code",
   "execution_count": null,
   "metadata": {},
   "outputs": [],
   "source": [
    "#players in ball no. 10 score a lot of points\n",
    "print(bm.points_covered_by_landmarks[10])\n",
    "print(df[\"Player\"][bm.points_covered_by_landmarks[10]])"
   ]
  },
  {
   "cell_type": "code",
   "execution_count": null,
   "metadata": {},
   "outputs": [],
   "source": [
    "print(bm.points_covered_by_landmarks[17])\n",
    "print(df[\"Player\"][bm.points_covered_by_landmarks[17]])"
   ]
  },
  {
   "cell_type": "code",
   "execution_count": null,
   "metadata": {},
   "outputs": [],
   "source": [
    "print(bm.points_covered_by_landmarks[18])\n",
    "print(df[\"Player\"][bm.points_covered_by_landmarks[18]])"
   ]
  },
  {
   "cell_type": "code",
   "execution_count": null,
   "metadata": {},
   "outputs": [],
   "source": [
    "print(bm.points_covered_by_landmarks[21])\n",
    "print(df[\"Player\"][bm.points_covered_by_landmarks[21]])"
   ]
  },
  {
   "cell_type": "code",
   "execution_count": null,
   "metadata": {},
   "outputs": [],
   "source": []
  }
 ],
 "metadata": {
  "kernelspec": {
   "display_name": "Python 3 (ipykernel)",
   "language": "python",
   "name": "python3"
  },
  "language_info": {
   "codemirror_mode": {
    "name": "ipython",
    "version": 3
   },
   "file_extension": ".py",
   "mimetype": "text/x-python",
   "name": "python",
   "nbconvert_exporter": "python",
   "pygments_lexer": "ipython3",
   "version": "3.8.10"
  }
 },
 "nbformat": 4,
 "nbformat_minor": 4
}
