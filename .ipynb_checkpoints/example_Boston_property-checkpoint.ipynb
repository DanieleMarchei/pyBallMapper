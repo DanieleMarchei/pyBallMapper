{
 "cells": [
  {
   "cell_type": "markdown",
   "metadata": {},
   "source": [
    "In this exercise we will play with a classical Boston Property Dataset.  It describes the prices of \n",
    "properties in Boston in '70. The task is to understand how they depend on multiple factors. Please \n",
    "consider the following URL for more details https://www.cs.toronto.edu/~delve/data/boston/bostonDetail.html\n",
    "\n",
    "    \n",
    "Note the list of considered variables. Varianble number 14: MEDV - Median value of owner-occupied homes \n",
    "in $1000's is the descriptive variable we want to understand. \n",
    "In order to avoid extensve file processing, two files boston and boston_prices have been prepared for you. \n",
    "In the code below we read them and create the Ball Mapper plot.\n",
    "\n",
    "This notebook was prepared by Davide Gurnari. "
   ]
  },
  {
   "cell_type": "code",
   "execution_count": null,
   "metadata": {},
   "outputs": [],
   "source": [
    "import numpy as np\n",
    "import pandas as pd\n",
    "import networkx as nx\n",
    "\n",
    "from matplotlib import pyplot as plt\n",
    "%matplotlib inline"
   ]
  },
  {
   "cell_type": "code",
   "execution_count": null,
   "metadata": {},
   "outputs": [],
   "source": [
    "points_df = pd.read_csv('data/boston', sep='\\t', \n",
    "                     header=None, names=['V'+str(i) for i in range(1,14)])\n",
    "print(points_df.shape)\n",
    "points_df.head()"
   ]
  },
  {
   "cell_type": "code",
   "execution_count": null,
   "metadata": {},
   "outputs": [],
   "source": [
    "values_df = pd.read_csv('data/boston_prices', header=None, names=['price'])\n",
    "print(values_df.shape)\n",
    "values_df.head()"
   ]
  },
  {
   "cell_type": "markdown",
   "metadata": {},
   "source": [
    "## Create Ball Mapper"
   ]
  },
  {
   "cell_type": "code",
   "execution_count": null,
   "metadata": {},
   "outputs": [],
   "source": [
    "from src.pyBallMapper import BallMapper"
   ]
  },
  {
   "cell_type": "code",
   "execution_count": null,
   "metadata": {},
   "outputs": [],
   "source": [
    "bm = BallMapper(points = points_df.values, # the pointcloud, as a numpy array\n",
    "                coloring_df = values_df, # a dataframe with the coloring functions (in this case the pointcloud itself)\n",
    "                epsilon = 100) # the radius of the balls"
   ]
  },
  {
   "cell_type": "code",
   "execution_count": null,
   "metadata": {},
   "outputs": [],
   "source": [
    "from matplotlib.colors import ListedColormap\n",
    "from matplotlib import cm\n",
    "\n",
    "my_rainbow_palette = cm.get_cmap(name='viridis')"
   ]
  },
  {
   "cell_type": "code",
   "execution_count": null,
   "metadata": {},
   "outputs": [],
   "source": [
    "# we can color the graph by any column in coloring_df\n",
    "bm.color_by_variable('price', my_rainbow_palette)"
   ]
  },
  {
   "cell_type": "code",
   "execution_count": null,
   "metadata": {},
   "outputs": [],
   "source": [
    "plt.figure(figsize= (8,6))\n",
    "\n",
    "nx.draw_networkx(bm.Graph, \n",
    "                 pos=nx.spring_layout(bm.Graph, seed=42),\n",
    "                 node_color = [bm.Graph.nodes[node]['color'] for node in bm.Graph.nodes],\n",
    "                 node_size =  [bm.Graph.nodes[node]['size rescaled'] for node in bm.Graph.nodes],\n",
    "                 alpha=0.8)\n",
    "\n",
    "# plot a legend\n",
    "sm = plt.cm.ScalarMappable(cmap = my_rainbow_palette,\n",
    "                           norm = plt.Normalize(vmin=bm.min_color_value, \n",
    "                                                vmax=bm.max_color_value))\n",
    "plt.colorbar(sm)\n",
    "plt.title('BM graph colored by price')\n",
    "plt.show()"
   ]
  },
  {
   "cell_type": "markdown",
   "metadata": {},
   "source": [
    "## More coloring"
   ]
  },
  {
   "cell_type": "markdown",
   "metadata": {},
   "source": [
    "Since our dataset is relativelly low dimensional, we may use each of 13 attributes to see how it is distributed along the plot. Can you spot which variable seems to be most different among clusters?"
   ]
  },
  {
   "cell_type": "code",
   "execution_count": null,
   "metadata": {},
   "outputs": [],
   "source": [
    "bm = BallMapper(points = points_df.values, # the pointcloud, as a numpy array\n",
    "                coloring_df = points_df, # a dataframe with the coloring functions (in this case the pointcloud itself)\n",
    "                epsilon = 100) # the radius of the balls"
   ]
  },
  {
   "cell_type": "code",
   "execution_count": null,
   "metadata": {
    "scrolled": true
   },
   "outputs": [],
   "source": [
    "for variable in points_df.columns:\n",
    "    # we can color the graph by any column in coloring_df\n",
    "    bm.color_by_variable(variable, my_rainbow_palette)\n",
    "    \n",
    "    plt.figure(figsize= (8,6))\n",
    "    # plot the graph\n",
    "    nx.draw_networkx(bm.Graph, \n",
    "                     pos=nx.spring_layout(bm.Graph, seed=42),\n",
    "                     node_color = [bm.Graph.nodes[node]['color'] for node in bm.Graph.nodes],\n",
    "                     node_size =  [bm.Graph.nodes[node]['size rescaled'] for node in bm.Graph.nodes],\n",
    "                     alpha=0.8)\n",
    "\n",
    "    # plot a legend\n",
    "    sm = plt.cm.ScalarMappable(cmap = my_rainbow_palette,\n",
    "                               norm = plt.Normalize(vmin=bm.min_color_value, \n",
    "                                                    vmax=bm.max_color_value))\n",
    "    plt.colorbar(sm)\n",
    "    plt.title('BM graph colored by {}'.format(variable))\n",
    "    plt.show()"
   ]
  },
  {
   "cell_type": "markdown",
   "metadata": {},
   "source": [
    "## Comparing averages"
   ]
  },
  {
   "cell_type": "markdown",
   "metadata": {},
   "source": [
    "Let us try to validate the observation from the previous point. By comparing the averages of two distributions (given by variables in the predefined regions of the graph) and returning the largest one."
   ]
  },
  {
   "cell_type": "code",
   "execution_count": null,
   "metadata": {},
   "outputs": [],
   "source": [
    "small = [10,11,12,13]\n",
    "large = list(range(1,10))"
   ]
  },
  {
   "cell_type": "code",
   "execution_count": null,
   "metadata": {},
   "outputs": [],
   "source": [
    "points_in_small = np.unique(np.concatenate([bm.points_covered_by_landmarks[node] \n",
    "                                            for node in small]))"
   ]
  },
  {
   "cell_type": "code",
   "execution_count": null,
   "metadata": {},
   "outputs": [],
   "source": [
    "points_in_large = np.unique(np.concatenate([bm.points_covered_by_landmarks[node] \n",
    "                                            for node in large]))"
   ]
  },
  {
   "cell_type": "code",
   "execution_count": null,
   "metadata": {},
   "outputs": [],
   "source": [
    "points_df.iloc[points_in_small].mean()"
   ]
  },
  {
   "cell_type": "code",
   "execution_count": null,
   "metadata": {},
   "outputs": [],
   "source": [
    "points_df.iloc[points_in_large].mean()"
   ]
  },
  {
   "cell_type": "code",
   "execution_count": null,
   "metadata": {},
   "outputs": [],
   "source": [
    "# absolute difference of the average, divided by the average in the whole dataset\n",
    "(abs(points_df.iloc[points_in_small].mean() - points_df.iloc[points_in_large].mean()) \\\n",
    "/ points_df.mean()).sort_values(ascending=False)"
   ]
  },
  {
   "cell_type": "markdown",
   "metadata": {},
   "source": [
    "This function somewhat confirms that the largest difference is obtained on the crime rate (variable 1), while the second largest on the index of accessibility to radial highway (communication indicator)."
   ]
  }
 ],
 "metadata": {
  "kernelspec": {
   "display_name": "Python 3 (ipykernel)",
   "language": "python",
   "name": "python3"
  },
  "language_info": {
   "codemirror_mode": {
    "name": "ipython",
    "version": 3
   },
   "file_extension": ".py",
   "mimetype": "text/x-python",
   "name": "python",
   "nbconvert_exporter": "python",
   "pygments_lexer": "ipython3",
   "version": "3.8.10"
  }
 },
 "nbformat": 4,
 "nbformat_minor": 4
}
