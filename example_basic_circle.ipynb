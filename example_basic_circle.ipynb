{
 "cells": [
  {
   "cell_type": "markdown",
   "metadata": {},
   "source": [
    "This is a toy example of the use of Ball Mapper. We will start by constructing a collection of points sampled from a unit circle.\n",
    "\n",
    "This notebook was prepared by Davide Gurnari. "
   ]
  },
  {
   "cell_type": "code",
   "execution_count": null,
   "metadata": {},
   "outputs": [],
   "source": [
    "import numpy as np\n",
    "import pandas as pd\n",
    "import networkx as nx\n",
    "\n",
    "from matplotlib import pyplot as plt\n",
    "%matplotlib inline"
   ]
  },
  {
   "cell_type": "markdown",
   "metadata": {},
   "source": [
    "## Generate data"
   ]
  },
  {
   "cell_type": "code",
   "execution_count": null,
   "metadata": {},
   "outputs": [],
   "source": [
    "pointcloud = np.array([[np.cos(x), np.sin(x)] for x in np.arange(0, 6.3, 0.1)])\n",
    "points_df = pd.DataFrame(pointcloud, columns=['x', 'y'])\n",
    "points_df.head()"
   ]
  },
  {
   "cell_type": "code",
   "execution_count": null,
   "metadata": {},
   "outputs": [],
   "source": [
    "plt.scatter(points_df.x, points_df.y)"
   ]
  },
  {
   "cell_type": "markdown",
   "metadata": {},
   "source": [
    "## Create BallMapper graph"
   ]
  },
  {
   "cell_type": "code",
   "execution_count": null,
   "metadata": {},
   "outputs": [],
   "source": [
    "from pyBallMapper import BallMapper"
   ]
  },
  {
   "cell_type": "code",
   "execution_count": null,
   "metadata": {},
   "outputs": [],
   "source": [
    "bm = BallMapper(points = points_df.values, # the pointcloud, as a numpy array\n",
    "                coloring_df = points_df, # a dataframe with the coloring functions (in this case the pointcloud itself)\n",
    "                epsilon = 0.25) # the radius of the balls"
   ]
  },
  {
   "cell_type": "code",
   "execution_count": null,
   "metadata": {},
   "outputs": [],
   "source": [
    "# bm.Graph is a networkx graph\n",
    "nx.draw_networkx(bm.Graph, \n",
    "                 pos=nx.spring_layout(bm.Graph, seed=24))"
   ]
  },
  {
   "cell_type": "code",
   "execution_count": null,
   "metadata": {},
   "outputs": [],
   "source": [
    "# each ball stores the indices of the points inside it\n",
    "print(bm.points_covered_by_landmarks[1])"
   ]
  },
  {
   "cell_type": "markdown",
   "metadata": {},
   "source": [
    "## Colored Ball Mapper graph"
   ]
  },
  {
   "cell_type": "code",
   "execution_count": null,
   "metadata": {},
   "outputs": [],
   "source": [
    "from matplotlib.colors import ListedColormap\n",
    "from matplotlib import cm"
   ]
  },
  {
   "cell_type": "code",
   "execution_count": null,
   "metadata": {},
   "outputs": [],
   "source": [
    "#Here we adopt standard colour palette\n",
    "my_red_palette = cm.get_cmap(name='Reds')"
   ]
  },
  {
   "cell_type": "code",
   "execution_count": null,
   "metadata": {},
   "outputs": [],
   "source": [
    "# we can color the graph by any column in coloring_df\n",
    "bm.color_by_variable('y', my_red_palette)"
   ]
  },
  {
   "cell_type": "code",
   "execution_count": null,
   "metadata": {},
   "outputs": [],
   "source": [
    "plt.figure(figsize= (8,6))\n",
    "# plot the graph\n",
    "# https://networkx.org/documentation/stable/reference/generated/networkx.drawing.nx_pylab.draw_networkx.html\n",
    "# there is a lot we can customize\n",
    "nx.draw_networkx(bm.Graph, \n",
    "                 pos=nx.spring_layout(bm.Graph, seed=24),\n",
    "                 node_color = [bm.Graph.nodes[node]['color'] for node in bm.Graph.nodes],\n",
    "                 node_size =  [bm.Graph.nodes[node]['size rescaled'] for node in bm.Graph.nodes],\n",
    "                 alpha=0.8)\n",
    "\n",
    "# plot a legend\n",
    "sm = plt.cm.ScalarMappable(cmap = my_red_palette,\n",
    "                           norm = plt.Normalize(vmin=bm.min_color_value, \n",
    "                                                vmax=bm.max_color_value))\n",
    "plt.colorbar(sm)\n",
    "plt.title('BM graph colored by the y variable')\n",
    "plt.show()"
   ]
  },
  {
   "cell_type": "markdown",
   "metadata": {},
   "source": [
    "<br>\n",
    "<br>\n",
    "<br>\n",
    "<br>\n",
    "<br>\n",
    "<br>\n",
    "<br>\n",
    "<br>\n",
    "<br>"
   ]
  },
  {
   "cell_type": "markdown",
   "metadata": {},
   "source": [
    "## Fancy visualizations using Bokeh\n",
    "https://docs.bokeh.org/en/latest/docs/installation.html"
   ]
  },
  {
   "cell_type": "code",
   "execution_count": null,
   "metadata": {},
   "outputs": [],
   "source": [
    "from pyBallMapper_Bokeh import graph_GUI"
   ]
  },
  {
   "cell_type": "code",
   "execution_count": null,
   "metadata": {},
   "outputs": [],
   "source": [
    "from bokeh.plotting import figure, show"
   ]
  },
  {
   "cell_type": "code",
   "execution_count": null,
   "metadata": {},
   "outputs": [],
   "source": [
    "# create a GUI with input our BM graph, \n",
    "# a dataframe with coloring functions (one value per point in the pointcloud)\n",
    "# and a color palette\n",
    "# in this case we use the pointcloud as coloring function\n",
    "my_fancy_gui = graph_GUI(bm.Graph, points_df, my_red_palette)\n",
    "my_fancy_gui.color_by_variable('y')"
   ]
  },
  {
   "cell_type": "code",
   "execution_count": null,
   "metadata": {},
   "outputs": [],
   "source": [
    "# creates an html file with the graph \n",
    "# and opens it in another tab\n",
    "show(my_fancy_gui.plot)"
   ]
  },
  {
   "cell_type": "code",
   "execution_count": null,
   "metadata": {},
   "outputs": [],
   "source": []
  }
 ],
 "metadata": {
  "kernelspec": {
   "display_name": "Python 3",
   "language": "python",
   "name": "python3"
  },
  "language_info": {
   "codemirror_mode": {
    "name": "ipython",
    "version": 3
   },
   "file_extension": ".py",
   "mimetype": "text/x-python",
   "name": "python",
   "nbconvert_exporter": "python",
   "pygments_lexer": "ipython3",
   "version": "3.8.6"
  }
 },
 "nbformat": 4,
 "nbformat_minor": 4
}
